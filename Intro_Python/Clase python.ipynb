{
 "cells": [
  {
   "cell_type": "code",
   "execution_count": 1,
   "metadata": {},
   "outputs": [],
   "source": [
    "a =3"
   ]
  },
  {
   "cell_type": "code",
   "execution_count": 2,
   "metadata": {},
   "outputs": [
    {
     "data": {
      "text/plain": [
       "3"
      ]
     },
     "execution_count": 2,
     "metadata": {},
     "output_type": "execute_result"
    }
   ],
   "source": [
    "a"
   ]
  },
  {
   "cell_type": "code",
   "execution_count": 3,
   "metadata": {},
   "outputs": [
    {
     "ename": "ModuleNotFoundError",
     "evalue": "No module named 'sklearn'",
     "output_type": "error",
     "traceback": [
      "\u001b[0;31m---------------------------------------------------------------------------\u001b[0m",
      "\u001b[0;31mModuleNotFoundError\u001b[0m                       Traceback (most recent call last)",
      "\u001b[0;32m<ipython-input-3-b7c74cbf5af0>\u001b[0m in \u001b[0;36m<module>\u001b[0;34m\u001b[0m\n\u001b[0;32m----> 1\u001b[0;31m \u001b[0;32mimport\u001b[0m \u001b[0msklearn\u001b[0m\u001b[0;34m\u001b[0m\u001b[0m\n\u001b[0m",
      "\u001b[0;31mModuleNotFoundError\u001b[0m: No module named 'sklearn'"
     ]
    }
   ],
   "source": [
    "import sklearn"
   ]
  },
  {
   "cell_type": "code",
   "execution_count": 4,
   "metadata": {},
   "outputs": [
    {
     "data": {
      "text/plain": [
       "3"
      ]
     },
     "execution_count": 4,
     "metadata": {},
     "output_type": "execute_result"
    }
   ],
   "source": [
    "a"
   ]
  },
  {
   "cell_type": "code",
   "execution_count": 5,
   "metadata": {},
   "outputs": [],
   "source": [
    "%magic"
   ]
  },
  {
   "cell_type": "code",
   "execution_count": 6,
   "metadata": {},
   "outputs": [
    {
     "name": "stdout",
     "output_type": "stream",
     "text": [
      "633 ns ± 8.46 ns per loop (mean ± std. dev. of 7 runs, 1000000 loops each)\n"
     ]
    }
   ],
   "source": [
    "%timeit range(1000)"
   ]
  },
  {
   "cell_type": "code",
   "execution_count": 7,
   "metadata": {},
   "outputs": [
    {
     "name": "stdout",
     "output_type": "stream",
     "text": [
      "138 µs ± 3.03 µs per loop (mean ± std. dev. of 7 runs, 10000 loops each)\n"
     ]
    }
   ],
   "source": [
    "%timeit [x for x in range(1000)]"
   ]
  },
  {
   "cell_type": "code",
   "execution_count": 16,
   "metadata": {},
   "outputs": [],
   "source": [
    "def sumar(a, b, *args, **kwargs):\n",
    "    print(a, b, args, kwargs)\n",
    "    return a + b + sum(args) - kwargs['menos']"
   ]
  },
  {
   "cell_type": "code",
   "execution_count": 17,
   "metadata": {},
   "outputs": [
    {
     "name": "stdout",
     "output_type": "stream",
     "text": [
      "3 2 (1, 2, 3) {'menos': 3}\n"
     ]
    },
    {
     "data": {
      "text/plain": [
       "8"
      ]
     },
     "execution_count": 17,
     "metadata": {},
     "output_type": "execute_result"
    }
   ],
   "source": [
    "sumar(3,2,1,2,3,menos=3)"
   ]
  },
  {
   "cell_type": "code",
   "execution_count": 19,
   "metadata": {},
   "outputs": [
    {
     "data": {
      "text/plain": [
       "'asdsa gnirts'"
      ]
     },
     "execution_count": 19,
     "metadata": {},
     "output_type": "execute_result"
    }
   ],
   "source": [
    "'string asdsa'[::-1]"
   ]
  },
  {
   "cell_type": "code",
   "execution_count": 20,
   "metadata": {},
   "outputs": [],
   "source": [
    "def hola(n):\n",
    "    return n"
   ]
  },
  {
   "cell_type": "code",
   "execution_count": 21,
   "metadata": {},
   "outputs": [],
   "source": [
    "x = hola"
   ]
  },
  {
   "cell_type": "code",
   "execution_count": 22,
   "metadata": {},
   "outputs": [
    {
     "data": {
      "text/plain": [
       "4"
      ]
     },
     "execution_count": 22,
     "metadata": {},
     "output_type": "execute_result"
    }
   ],
   "source": [
    "x(4)"
   ]
  },
  {
   "cell_type": "code",
   "execution_count": 23,
   "metadata": {},
   "outputs": [],
   "source": [
    "y = lambda x : 2 ** x"
   ]
  },
  {
   "cell_type": "code",
   "execution_count": 24,
   "metadata": {},
   "outputs": [
    {
     "data": {
      "text/plain": [
       "1024"
      ]
     },
     "execution_count": 24,
     "metadata": {},
     "output_type": "execute_result"
    }
   ],
   "source": [
    "y(10)"
   ]
  },
  {
   "cell_type": "code",
   "execution_count": 28,
   "metadata": {},
   "outputs": [],
   "source": [
    "s = \"hola, asdas, asdassdaaa\""
   ]
  },
  {
   "cell_type": "code",
   "execution_count": 31,
   "metadata": {},
   "outputs": [
    {
     "data": {
      "text/plain": [
       "'hola\\tasdas\\tasdassdaaa'"
      ]
     },
     "execution_count": 31,
     "metadata": {},
     "output_type": "execute_result"
    }
   ],
   "source": [
    "'\\t'.join(s.split(\", \"))"
   ]
  },
  {
   "cell_type": "code",
   "execution_count": 1,
   "metadata": {},
   "outputs": [
    {
     "name": "stdout",
     "output_type": "stream",
     "text": [
      "a 3\n",
      "b 2\n"
     ]
    }
   ],
   "source": [
    "d = {'a': 3, 'b': 2}\n",
    "for key, value in d.items():\n",
    "    print(key, value)"
   ]
  },
  {
   "cell_type": "code",
   "execution_count": 2,
   "metadata": {},
   "outputs": [
    {
     "data": {
      "text/plain": [
       "True"
      ]
     },
     "execution_count": 2,
     "metadata": {},
     "output_type": "execute_result"
    }
   ],
   "source": [
    "3 in d.values()"
   ]
  },
  {
   "cell_type": "code",
   "execution_count": 4,
   "metadata": {},
   "outputs": [
    {
     "data": {
      "text/plain": [
       "{4, 5, 8}"
      ]
     },
     "execution_count": 4,
     "metadata": {},
     "output_type": "execute_result"
    }
   ],
   "source": [
    "s = set([4, 8, 5])\n",
    "s"
   ]
  },
  {
   "cell_type": "code",
   "execution_count": 15,
   "metadata": {},
   "outputs": [],
   "source": [
    "ss = {1,3,4,3,6, True, (3,2)}"
   ]
  },
  {
   "cell_type": "code",
   "execution_count": 6,
   "metadata": {},
   "outputs": [
    {
     "data": {
      "text/plain": [
       "{4}"
      ]
     },
     "execution_count": 6,
     "metadata": {},
     "output_type": "execute_result"
    }
   ],
   "source": [
    "ss.intersection(s)"
   ]
  },
  {
   "cell_type": "code",
   "execution_count": 16,
   "metadata": {},
   "outputs": [
    {
     "data": {
      "text/plain": [
       "{(3, 2), 1, 3, 4, 6}"
      ]
     },
     "execution_count": 16,
     "metadata": {},
     "output_type": "execute_result"
    }
   ],
   "source": [
    "ss"
   ]
  },
  {
   "cell_type": "code",
   "execution_count": 17,
   "metadata": {},
   "outputs": [
    {
     "data": {
      "text/plain": [
       "{'a', 'c', 'd', 'f', 's', 'v', 'x'}"
      ]
     },
     "execution_count": 17,
     "metadata": {},
     "output_type": "execute_result"
    }
   ],
   "source": [
    "s = set()\n",
    "for c in 'asdsdxcsdfsdvxd':\n",
    "    s.add(c)\n",
    "s"
   ]
  },
  {
   "cell_type": "code",
   "execution_count": 18,
   "metadata": {},
   "outputs": [],
   "source": [
    "from collections import OrderedDict"
   ]
  },
  {
   "cell_type": "code",
   "execution_count": 19,
   "metadata": {},
   "outputs": [
    {
     "name": "stdout",
     "output_type": "stream",
     "text": [
      "--------------------------------------------------\n"
     ]
    }
   ],
   "source": [
    "print('-'*50)"
   ]
  },
  {
   "cell_type": "code",
   "execution_count": 20,
   "metadata": {},
   "outputs": [
    {
     "data": {
      "text/plain": [
       "(1, 2)"
      ]
     },
     "execution_count": 20,
     "metadata": {},
     "output_type": "execute_result"
    }
   ],
   "source": [
    "a=2\n",
    "b=1\n",
    "a,b=b,a\n",
    "a,b"
   ]
  },
  {
   "cell_type": "code",
   "execution_count": 29,
   "metadata": {},
   "outputs": [],
   "source": [
    "def hola(a:Union[int, float], b:float, c:int=3) -> float: # no hace caso pero sirve en mypy\n",
    "    assert type(a) is int, \"No es int\"\n",
    "    return (a+b)*c"
   ]
  },
  {
   "cell_type": "code",
   "execution_count": 28,
   "metadata": {},
   "outputs": [
    {
     "ename": "AssertionError",
     "evalue": "No es int",
     "output_type": "error",
     "traceback": [
      "\u001b[0;31m---------------------------------------------------------------------------\u001b[0m",
      "\u001b[0;31mAssertionError\u001b[0m                            Traceback (most recent call last)",
      "\u001b[0;32m<ipython-input-28-6076a755c20a>\u001b[0m in \u001b[0;36m<module>\u001b[0;34m\u001b[0m\n\u001b[0;32m----> 1\u001b[0;31m \u001b[0mhola\u001b[0m\u001b[0;34m(\u001b[0m\u001b[0;34m'a'\u001b[0m\u001b[0;34m,\u001b[0m\u001b[0;34m'b'\u001b[0m\u001b[0;34m)\u001b[0m\u001b[0;34m\u001b[0m\u001b[0m\n\u001b[0m",
      "\u001b[0;32m<ipython-input-27-483ca229559e>\u001b[0m in \u001b[0;36mhola\u001b[0;34m(a, b, c)\u001b[0m\n\u001b[1;32m      1\u001b[0m \u001b[0;32mdef\u001b[0m \u001b[0mhola\u001b[0m\u001b[0;34m(\u001b[0m\u001b[0ma\u001b[0m\u001b[0;34m:\u001b[0m\u001b[0mUnion\u001b[0m\u001b[0;34m[\u001b[0m\u001b[0mint\u001b[0m\u001b[0;34m,\u001b[0m \u001b[0mfloat\u001b[0m\u001b[0;34m]\u001b[0m\u001b[0;34m,\u001b[0m \u001b[0mb\u001b[0m\u001b[0;34m:\u001b[0m\u001b[0mfloat\u001b[0m\u001b[0;34m,\u001b[0m \u001b[0mc\u001b[0m\u001b[0;34m:\u001b[0m\u001b[0mint\u001b[0m\u001b[0;34m=\u001b[0m\u001b[0;36m3\u001b[0m\u001b[0;34m)\u001b[0m\u001b[0;34m:\u001b[0m \u001b[0;31m# no hace caso\u001b[0m\u001b[0;34m\u001b[0m\u001b[0m\n\u001b[0;32m----> 2\u001b[0;31m     \u001b[0;32massert\u001b[0m \u001b[0mtype\u001b[0m\u001b[0;34m(\u001b[0m\u001b[0ma\u001b[0m\u001b[0;34m)\u001b[0m \u001b[0;32mis\u001b[0m \u001b[0mint\u001b[0m\u001b[0;34m,\u001b[0m \u001b[0;34m\"No es int\"\u001b[0m\u001b[0;34m\u001b[0m\u001b[0m\n\u001b[0m\u001b[1;32m      3\u001b[0m     \u001b[0;32mreturn\u001b[0m \u001b[0;34m(\u001b[0m\u001b[0ma\u001b[0m\u001b[0;34m+\u001b[0m\u001b[0mb\u001b[0m\u001b[0;34m)\u001b[0m\u001b[0;34m*\u001b[0m\u001b[0mc\u001b[0m\u001b[0;34m\u001b[0m\u001b[0m\n",
      "\u001b[0;31mAssertionError\u001b[0m: No es int"
     ]
    }
   ],
   "source": [
    "hola('a','b')"
   ]
  },
  {
   "cell_type": "code",
   "execution_count": 26,
   "metadata": {},
   "outputs": [],
   "source": [
    "from typing import Tuple, List, Union"
   ]
  },
  {
   "cell_type": "code",
   "execution_count": 30,
   "metadata": {},
   "outputs": [],
   "source": [
    "queue = [1,2,3,4,5]"
   ]
  },
  {
   "cell_type": "code",
   "execution_count": 31,
   "metadata": {},
   "outputs": [
    {
     "data": {
      "text/plain": [
       "5"
      ]
     },
     "execution_count": 31,
     "metadata": {},
     "output_type": "execute_result"
    }
   ],
   "source": [
    "queue.pop()"
   ]
  },
  {
   "cell_type": "code",
   "execution_count": 32,
   "metadata": {},
   "outputs": [
    {
     "data": {
      "text/plain": [
       "1"
      ]
     },
     "execution_count": 32,
     "metadata": {},
     "output_type": "execute_result"
    }
   ],
   "source": [
    "queue.pop(0)"
   ]
  },
  {
   "cell_type": "code",
   "execution_count": 33,
   "metadata": {},
   "outputs": [],
   "source": [
    "queue.append(5)"
   ]
  },
  {
   "cell_type": "code",
   "execution_count": 34,
   "metadata": {},
   "outputs": [],
   "source": [
    "stack = []"
   ]
  },
  {
   "cell_type": "code",
   "execution_count": 37,
   "metadata": {},
   "outputs": [],
   "source": [
    "stack.append(3)"
   ]
  },
  {
   "cell_type": "code",
   "execution_count": 38,
   "metadata": {},
   "outputs": [
    {
     "data": {
      "text/plain": [
       "[1, 2, 3]"
      ]
     },
     "execution_count": 38,
     "metadata": {},
     "output_type": "execute_result"
    }
   ],
   "source": [
    "stack"
   ]
  },
  {
   "cell_type": "code",
   "execution_count": 39,
   "metadata": {},
   "outputs": [
    {
     "data": {
      "text/plain": [
       "3"
      ]
     },
     "execution_count": 39,
     "metadata": {},
     "output_type": "execute_result"
    }
   ],
   "source": [
    "stack.pop()"
   ]
  },
  {
   "cell_type": "code",
   "execution_count": 67,
   "metadata": {},
   "outputs": [],
   "source": [
    "def pal(s:str) -> bool:\n",
    "    \"\"\"Returns True if s is a palindrome, False otherwise\n",
    "    ---------\n",
    "    s: str\n",
    "       string to be evaluated\n",
    "    ---------\n",
    "    Returns bool\"\"\"\n",
    "    stack = list(s)\n",
    "    for j in stack:\n",
    "        if j != stack.pop():\n",
    "            return False\n",
    "    return True"
   ]
  },
  {
   "cell_type": "code",
   "execution_count": 64,
   "metadata": {},
   "outputs": [
    {
     "data": {
      "text/plain": [
       "True"
      ]
     },
     "execution_count": 64,
     "metadata": {},
     "output_type": "execute_result"
    }
   ],
   "source": [
    "pal('adbabda')"
   ]
  },
  {
   "cell_type": "code",
   "execution_count": 66,
   "metadata": {},
   "outputs": [
    {
     "data": {
      "text/plain": [
       "False"
      ]
     },
     "execution_count": 66,
     "metadata": {},
     "output_type": "execute_result"
    }
   ],
   "source": [
    "pal('asasssfa')"
   ]
  },
  {
   "cell_type": "code",
   "execution_count": 59,
   "metadata": {},
   "outputs": [
    {
     "data": {
      "text/plain": [
       "['a', 's', 'd', 'a', 's', 'd', 'a', 's', 'd']"
      ]
     },
     "execution_count": 59,
     "metadata": {},
     "output_type": "execute_result"
    }
   ],
   "source": [
    "list('asdasdasd')"
   ]
  },
  {
   "cell_type": "code",
   "execution_count": 68,
   "metadata": {},
   "outputs": [],
   "source": [
    "def pal2(s:str) -> bool:\n",
    "    stack = list(s)\n",
    "    return s == ''.join([stack.pop() for _ in range(len(stack))])"
   ]
  },
  {
   "cell_type": "code",
   "execution_count": 69,
   "metadata": {},
   "outputs": [
    {
     "data": {
      "text/plain": [
       "True"
      ]
     },
     "execution_count": 69,
     "metadata": {},
     "output_type": "execute_result"
    }
   ],
   "source": [
    "pal2('aaasaaa')"
   ]
  },
  {
   "cell_type": "code",
   "execution_count": 75,
   "metadata": {},
   "outputs": [],
   "source": [
    "l = [0, 2, 8, 5, 10]"
   ]
  },
  {
   "cell_type": "code",
   "execution_count": 76,
   "metadata": {},
   "outputs": [],
   "source": [
    "potencias = [2 ** power for power in l]"
   ]
  },
  {
   "cell_type": "code",
   "execution_count": 77,
   "metadata": {},
   "outputs": [
    {
     "data": {
      "text/plain": [
       "[1, 4, 256, 32, 1024]"
      ]
     },
     "execution_count": 77,
     "metadata": {},
     "output_type": "execute_result"
    }
   ],
   "source": [
    "potencias"
   ]
  },
  {
   "cell_type": "code",
   "execution_count": 78,
   "metadata": {},
   "outputs": [],
   "source": [
    "potencias = [2 ** power if power % 2 == 0 else 3 ** power for power in l]"
   ]
  },
  {
   "cell_type": "code",
   "execution_count": 79,
   "metadata": {},
   "outputs": [
    {
     "data": {
      "text/plain": [
       "[1, 4, 256, 243, 1024]"
      ]
     },
     "execution_count": 79,
     "metadata": {},
     "output_type": "execute_result"
    }
   ],
   "source": [
    "potencias"
   ]
  },
  {
   "cell_type": "code",
   "execution_count": 80,
   "metadata": {},
   "outputs": [],
   "source": [
    "s = 'asdasd asdas'\n",
    "i = 0\n",
    "out = ''\n",
    "for c in s:\n",
    "    if i % 2 == 0:\n",
    "        out += c.upper()\n",
    "    else:\n",
    "        out += c.lower()\n",
    "    i += 1"
   ]
  },
  {
   "cell_type": "code",
   "execution_count": 81,
   "metadata": {},
   "outputs": [
    {
     "data": {
      "text/plain": [
       "'AsDaSd aSdAs'"
      ]
     },
     "execution_count": 81,
     "metadata": {},
     "output_type": "execute_result"
    }
   ],
   "source": [
    "out"
   ]
  },
  {
   "cell_type": "code",
   "execution_count": 82,
   "metadata": {},
   "outputs": [],
   "source": [
    "out = ''\n",
    "for i, c in enumerate(s):\n",
    "    if i % 2 == 0:\n",
    "        out += c.upper()\n",
    "    else:\n",
    "        out += c.lower()"
   ]
  },
  {
   "cell_type": "code",
   "execution_count": 83,
   "metadata": {},
   "outputs": [
    {
     "data": {
      "text/plain": [
       "'AsDaSd aSdAs'"
      ]
     },
     "execution_count": 83,
     "metadata": {},
     "output_type": "execute_result"
    }
   ],
   "source": [
    "out"
   ]
  },
  {
   "cell_type": "code",
   "execution_count": 85,
   "metadata": {},
   "outputs": [],
   "source": [
    "a = enumerate(s)"
   ]
  },
  {
   "cell_type": "code",
   "execution_count": 87,
   "metadata": {},
   "outputs": [
    {
     "name": "stdout",
     "output_type": "stream",
     "text": [
      "1 3\n",
      "3 3\n",
      "2 2\n",
      "2 1\n"
     ]
    }
   ],
   "source": [
    "l0 = [1,3,2,2]\n",
    "l1 = [3,3,2,1]\n",
    "\n",
    "for e0, e1 in zip(l0,l1):\n",
    "    print(e0,e1)"
   ]
  },
  {
   "cell_type": "code",
   "execution_count": 88,
   "metadata": {},
   "outputs": [
    {
     "data": {
      "text/plain": [
       "[4, 6, 4, 3]"
      ]
     },
     "execution_count": 88,
     "metadata": {},
     "output_type": "execute_result"
    }
   ],
   "source": [
    "[e0+e1 for e0, e1 in zip(l0,l1)]"
   ]
  },
  {
   "cell_type": "code",
   "execution_count": 90,
   "metadata": {},
   "outputs": [
    {
     "name": "stdout",
     "output_type": "stream",
     "text": [
      "0 4\n",
      "1 6\n",
      "2 4\n",
      "3 3\n"
     ]
    }
   ],
   "source": [
    "for i, (e0, e1) in enumerate(zip(l0,l1)):\n",
    "    print(i, e0 + e1)"
   ]
  },
  {
   "cell_type": "code",
   "execution_count": 91,
   "metadata": {},
   "outputs": [
    {
     "data": {
      "text/plain": [
       "{0: 4, 1: 6, 2: 4, 3: 3}"
      ]
     },
     "execution_count": 91,
     "metadata": {},
     "output_type": "execute_result"
    }
   ],
   "source": [
    "{ i: e0 + e1 for i, (e0, e1) in enumerate(zip(l0,l1)) }"
   ]
  },
  {
   "cell_type": "code",
   "execution_count": 95,
   "metadata": {},
   "outputs": [
    {
     "data": {
      "text/plain": [
       "{1, 9, 16}"
      ]
     },
     "execution_count": 95,
     "metadata": {},
     "output_type": "execute_result"
    }
   ],
   "source": [
    "l = [-1, -3, 3, 4]\n",
    "\n",
    "{x**2 for x in l}"
   ]
  },
  {
   "cell_type": "code",
   "execution_count": 1,
   "metadata": {},
   "outputs": [],
   "source": [
    "import numpy as np"
   ]
  },
  {
   "cell_type": "code",
   "execution_count": 2,
   "metadata": {},
   "outputs": [],
   "source": [
    "l=[[1,2,3],[4,5,6],[7,8,9]]"
   ]
  },
  {
   "cell_type": "code",
   "execution_count": 3,
   "metadata": {},
   "outputs": [
    {
     "data": {
      "text/plain": [
       "array([[1, 2, 3],\n",
       "       [4, 5, 6],\n",
       "       [7, 8, 9]])"
      ]
     },
     "execution_count": 3,
     "metadata": {},
     "output_type": "execute_result"
    }
   ],
   "source": [
    "np.array(l)"
   ]
  },
  {
   "cell_type": "code",
   "execution_count": 4,
   "metadata": {},
   "outputs": [],
   "source": [
    "l = list(range(0, int(1e6), 2))"
   ]
  },
  {
   "cell_type": "code",
   "execution_count": 6,
   "metadata": {},
   "outputs": [
    {
     "name": "stdout",
     "output_type": "stream",
     "text": [
      "CPU times: user 75.8 ms, sys: 10.7 ms, total: 86.5 ms\n",
      "Wall time: 103 ms\n"
     ]
    }
   ],
   "source": [
    "%time [ x * 2 for x in l ]\n",
    "pass"
   ]
  },
  {
   "cell_type": "code",
   "execution_count": 9,
   "metadata": {},
   "outputs": [],
   "source": [
    "a = np.arange(0, 1e6, 2, dtype=np.int)"
   ]
  },
  {
   "cell_type": "code",
   "execution_count": 10,
   "metadata": {},
   "outputs": [
    {
     "name": "stdout",
     "output_type": "stream",
     "text": [
      "CPU times: user 1.39 ms, sys: 250 µs, total: 1.64 ms\n",
      "Wall time: 1.74 ms\n"
     ]
    }
   ],
   "source": [
    "%time a * 2\n",
    "pass"
   ]
  },
  {
   "cell_type": "code",
   "execution_count": 11,
   "metadata": {},
   "outputs": [
    {
     "data": {
      "text/plain": [
       "array([0. , 0.5, 1. , 1.5, 2. , 2.5, 3. , 3.5, 4. , 4.5, 5. , 5.5, 6. ,\n",
       "       6.5, 7. , 7.5, 8. , 8.5, 9. , 9.5])"
      ]
     },
     "execution_count": 11,
     "metadata": {},
     "output_type": "execute_result"
    }
   ],
   "source": [
    "np.arange(0, 10, 0.5)"
   ]
  },
  {
   "cell_type": "code",
   "execution_count": 12,
   "metadata": {},
   "outputs": [
    {
     "data": {
      "text/plain": [
       "array([   1.        ,    1.1513954 ,    1.32571137,    1.52641797,\n",
       "          1.75751062,    2.02358965,    2.32995181,    2.6826958 ,\n",
       "          3.0888436 ,    3.55648031,    4.09491506,    4.71486636,\n",
       "          5.42867544,    6.25055193,    7.19685673,    8.28642773,\n",
       "          9.54095476,   10.98541142,   12.64855217,   14.56348478,\n",
       "         16.76832937,   19.30697729,   22.22996483,   25.59547923,\n",
       "         29.47051703,   33.93221772,   39.06939937,   44.98432669,\n",
       "         51.79474679,   59.63623317,   68.6648845 ,   79.06043211,\n",
       "         91.0298178 ,  104.81131342,  120.67926406,  138.94954944,\n",
       "        159.98587196,  184.20699693,  212.09508879,  244.20530945,\n",
       "        281.1768698 ,  323.74575428,  372.75937203,  429.19342601,\n",
       "        494.17133613,  568.9866029 ,  655.12855686,  754.31200634,\n",
       "        868.51137375, 1000.        ])"
      ]
     },
     "execution_count": 12,
     "metadata": {},
     "output_type": "execute_result"
    }
   ],
   "source": [
    "np.logspace(0, 3)"
   ]
  },
  {
   "cell_type": "code",
   "execution_count": 13,
   "metadata": {},
   "outputs": [
    {
     "data": {
      "text/plain": [
       "array([ 5,  5,  9,  7,  9,  3,  8,  6,  6,  9,  4,  1,  4, 12,  8,  3,  5,\n",
       "       10,  9,  7,  7,  9,  6,  5,  2,  5,  4,  7,  2,  6,  7,  7,  5,  4,\n",
       "        7,  8,  8,  6, 11,  5,  6,  4,  4,  8,  4,  3,  2,  6,  4, 12])"
      ]
     },
     "execution_count": 13,
     "metadata": {},
     "output_type": "execute_result"
    }
   ],
   "source": [
    "np.random.poisson(6,50)"
   ]
  },
  {
   "cell_type": "code",
   "execution_count": 14,
   "metadata": {},
   "outputs": [
    {
     "data": {
      "text/plain": [
       "500000"
      ]
     },
     "execution_count": 14,
     "metadata": {},
     "output_type": "execute_result"
    }
   ],
   "source": [
    "a.size"
   ]
  },
  {
   "cell_type": "code",
   "execution_count": 11,
   "metadata": {},
   "outputs": [
    {
     "data": {
      "text/plain": [
       "(3, 2)"
      ]
     },
     "execution_count": 11,
     "metadata": {},
     "output_type": "execute_result"
    }
   ],
   "source": [
    "import numpy as np\n",
    "a=np.array([[1,2],[3,4],[5,6]])\n",
    "a.shape #dimensiones"
   ]
  },
  {
   "cell_type": "code",
   "execution_count": 12,
   "metadata": {},
   "outputs": [
    {
     "data": {
      "text/plain": [
       "6"
      ]
     },
     "execution_count": 12,
     "metadata": {},
     "output_type": "execute_result"
    }
   ],
   "source": [
    "a.size #num de elementos"
   ]
  },
  {
   "cell_type": "code",
   "execution_count": 16,
   "metadata": {},
   "outputs": [],
   "source": [
    "b=np.array([[[1,2],[3,4]],[[5,6],[7,8]]])"
   ]
  },
  {
   "cell_type": "code",
   "execution_count": 17,
   "metadata": {},
   "outputs": [
    {
     "data": {
      "text/plain": [
       "array([[[1, 2],\n",
       "        [3, 4]],\n",
       "\n",
       "       [[5, 6],\n",
       "        [7, 8]]])"
      ]
     },
     "execution_count": 17,
     "metadata": {},
     "output_type": "execute_result"
    }
   ],
   "source": [
    "b"
   ]
  },
  {
   "cell_type": "code",
   "execution_count": 18,
   "metadata": {},
   "outputs": [
    {
     "data": {
      "text/plain": [
       "array([2, 6])"
      ]
     },
     "execution_count": 18,
     "metadata": {},
     "output_type": "execute_result"
    }
   ],
   "source": [
    "b[:,0,1]"
   ]
  },
  {
   "cell_type": "code",
   "execution_count": 19,
   "metadata": {},
   "outputs": [
    {
     "data": {
      "text/plain": [
       "array([2, 4])"
      ]
     },
     "execution_count": 19,
     "metadata": {},
     "output_type": "execute_result"
    }
   ],
   "source": [
    "b[0,:,1]"
   ]
  },
  {
   "cell_type": "code",
   "execution_count": 20,
   "metadata": {},
   "outputs": [],
   "source": [
    "c=np.array([[0,1],[2,3]])\n",
    "d=np.array([[4,5],[6,7]])"
   ]
  },
  {
   "cell_type": "code",
   "execution_count": 22,
   "metadata": {},
   "outputs": [],
   "source": [
    "c[0,:] = d[1,:]"
   ]
  },
  {
   "cell_type": "code",
   "execution_count": 23,
   "metadata": {},
   "outputs": [
    {
     "data": {
      "text/plain": [
       "array([[6, 7],\n",
       "       [2, 3]])"
      ]
     },
     "execution_count": 23,
     "metadata": {},
     "output_type": "execute_result"
    }
   ],
   "source": [
    "c"
   ]
  },
  {
   "cell_type": "code",
   "execution_count": 24,
   "metadata": {},
   "outputs": [],
   "source": [
    "c[0,:] = d[:,0]"
   ]
  },
  {
   "cell_type": "code",
   "execution_count": 25,
   "metadata": {},
   "outputs": [
    {
     "data": {
      "text/plain": [
       "array([[4, 6],\n",
       "       [2, 3]])"
      ]
     },
     "execution_count": 25,
     "metadata": {},
     "output_type": "execute_result"
    }
   ],
   "source": [
    "c"
   ]
  },
  {
   "cell_type": "code",
   "execution_count": 26,
   "metadata": {},
   "outputs": [
    {
     "data": {
      "text/plain": [
       "array([[4, 5],\n",
       "       [6, 7]])"
      ]
     },
     "execution_count": 26,
     "metadata": {},
     "output_type": "execute_result"
    }
   ],
   "source": [
    "d"
   ]
  },
  {
   "cell_type": "code",
   "execution_count": 27,
   "metadata": {},
   "outputs": [
    {
     "data": {
      "text/plain": [
       "2"
      ]
     },
     "execution_count": 27,
     "metadata": {},
     "output_type": "execute_result"
    }
   ],
   "source": [
    "c[1][0]"
   ]
  },
  {
   "cell_type": "code",
   "execution_count": 28,
   "metadata": {},
   "outputs": [
    {
     "data": {
      "text/plain": [
       "array([2, 3])"
      ]
     },
     "execution_count": 28,
     "metadata": {},
     "output_type": "execute_result"
    }
   ],
   "source": [
    "c[1]"
   ]
  },
  {
   "cell_type": "code",
   "execution_count": 29,
   "metadata": {},
   "outputs": [],
   "source": [
    "compras=np.array([\"web\",\"web\",\"tienda\",\"movil\"])"
   ]
  },
  {
   "cell_type": "code",
   "execution_count": 30,
   "metadata": {},
   "outputs": [
    {
     "data": {
      "text/plain": [
       "array(['web', 'web', 'tienda', 'movil'], dtype='<U6')"
      ]
     },
     "execution_count": 30,
     "metadata": {},
     "output_type": "execute_result"
    }
   ],
   "source": [
    "compras"
   ]
  },
  {
   "cell_type": "code",
   "execution_count": 31,
   "metadata": {},
   "outputs": [],
   "source": [
    "compras[0]=\"intranet\""
   ]
  },
  {
   "cell_type": "code",
   "execution_count": 32,
   "metadata": {},
   "outputs": [
    {
     "data": {
      "text/plain": [
       "array(['intran', 'web', 'tienda', 'movil'], dtype='<U6')"
      ]
     },
     "execution_count": 32,
     "metadata": {},
     "output_type": "execute_result"
    }
   ],
   "source": [
    "compras"
   ]
  },
  {
   "cell_type": "code",
   "execution_count": 33,
   "metadata": {},
   "outputs": [],
   "source": [
    "compras=np.array([\"web\",\"web\",\"tienda\",\"movil\"], dtype=np.object)"
   ]
  },
  {
   "cell_type": "code",
   "execution_count": 34,
   "metadata": {},
   "outputs": [],
   "source": [
    "compras[0]=\"intranet\""
   ]
  },
  {
   "cell_type": "code",
   "execution_count": 35,
   "metadata": {},
   "outputs": [
    {
     "data": {
      "text/plain": [
       "array(['intranet', 'web', 'tienda', 'movil'], dtype=object)"
      ]
     },
     "execution_count": 35,
     "metadata": {},
     "output_type": "execute_result"
    }
   ],
   "source": [
    "compras"
   ]
  },
  {
   "cell_type": "code",
   "execution_count": 36,
   "metadata": {},
   "outputs": [],
   "source": [
    "a=np.array([1.1,2.3,1.3])"
   ]
  },
  {
   "cell_type": "code",
   "execution_count": 38,
   "metadata": {},
   "outputs": [
    {
     "data": {
      "text/plain": [
       "dtype('float64')"
      ]
     },
     "execution_count": 38,
     "metadata": {},
     "output_type": "execute_result"
    }
   ],
   "source": [
    "a.dtype"
   ]
  },
  {
   "cell_type": "code",
   "execution_count": 39,
   "metadata": {},
   "outputs": [],
   "source": [
    "a[0]=7"
   ]
  },
  {
   "cell_type": "code",
   "execution_count": 40,
   "metadata": {},
   "outputs": [
    {
     "data": {
      "text/plain": [
       "array([7. , 2.3, 1.3])"
      ]
     },
     "execution_count": 40,
     "metadata": {},
     "output_type": "execute_result"
    }
   ],
   "source": [
    "a"
   ]
  },
  {
   "cell_type": "code",
   "execution_count": 43,
   "metadata": {},
   "outputs": [
    {
     "data": {
      "text/plain": [
       "array(['1', 'hola', '6.5'], dtype='<U21')"
      ]
     },
     "execution_count": 43,
     "metadata": {},
     "output_type": "execute_result"
    }
   ],
   "source": [
    "np.array([1, 'hola', 6.5])"
   ]
  },
  {
   "cell_type": "code",
   "execution_count": 44,
   "metadata": {},
   "outputs": [
    {
     "data": {
      "text/plain": [
       "array([7. , 2.3, 1.3])"
      ]
     },
     "execution_count": 44,
     "metadata": {},
     "output_type": "execute_result"
    }
   ],
   "source": [
    "a.astype(np.float)"
   ]
  },
  {
   "cell_type": "code",
   "execution_count": 47,
   "metadata": {},
   "outputs": [
    {
     "data": {
      "text/plain": [
       "(array([1]),)"
      ]
     },
     "execution_count": 47,
     "metadata": {},
     "output_type": "execute_result"
    }
   ],
   "source": [
    "np.where(compras == \"web\")"
   ]
  },
  {
   "cell_type": "code",
   "execution_count": 48,
   "metadata": {},
   "outputs": [
    {
     "data": {
      "text/plain": [
       "array(['intranet', 'web', 'tienda', 'movil'], dtype=object)"
      ]
     },
     "execution_count": 48,
     "metadata": {},
     "output_type": "execute_result"
    }
   ],
   "source": [
    "compras"
   ]
  },
  {
   "cell_type": "code",
   "execution_count": 53,
   "metadata": {},
   "outputs": [],
   "source": [
    "datos = np.array([[1,2,3,4],[5,4,1,1]])"
   ]
  },
  {
   "cell_type": "code",
   "execution_count": 51,
   "metadata": {},
   "outputs": [
    {
     "data": {
      "text/plain": [
       "array([[3],\n",
       "       [1]])"
      ]
     },
     "execution_count": 51,
     "metadata": {},
     "output_type": "execute_result"
    }
   ],
   "source": [
    "datos[:, np.where(compras == \"tienda\")[0]]"
   ]
  },
  {
   "cell_type": "code",
   "execution_count": 54,
   "metadata": {},
   "outputs": [
    {
     "data": {
      "text/plain": [
       "array([[3],\n",
       "       [1]])"
      ]
     },
     "execution_count": 54,
     "metadata": {},
     "output_type": "execute_result"
    }
   ],
   "source": [
    "datos[:, compras == 'tienda']"
   ]
  },
  {
   "cell_type": "code",
   "execution_count": 55,
   "metadata": {},
   "outputs": [
    {
     "data": {
      "text/plain": [
       "array([[3],\n",
       "       [1]])"
      ]
     },
     "execution_count": 55,
     "metadata": {},
     "output_type": "execute_result"
    }
   ],
   "source": [
    "datos[:, [False, False, True, False]]"
   ]
  },
  {
   "cell_type": "code",
   "execution_count": 56,
   "metadata": {},
   "outputs": [
    {
     "data": {
      "text/plain": [
       "array([[3, 4],\n",
       "       [1, 1]])"
      ]
     },
     "execution_count": 56,
     "metadata": {},
     "output_type": "execute_result"
    }
   ],
   "source": [
    "datos[:, [2,3]]"
   ]
  },
  {
   "cell_type": "code",
   "execution_count": 57,
   "metadata": {},
   "outputs": [
    {
     "data": {
      "text/plain": [
       "array([False, False,  True, False])"
      ]
     },
     "execution_count": 57,
     "metadata": {},
     "output_type": "execute_result"
    }
   ],
   "source": [
    "compras == \"tienda\""
   ]
  },
  {
   "cell_type": "code",
   "execution_count": 58,
   "metadata": {},
   "outputs": [],
   "source": [
    "compras[3]=\"tienda\""
   ]
  },
  {
   "cell_type": "code",
   "execution_count": 61,
   "metadata": {},
   "outputs": [
    {
     "data": {
      "text/plain": [
       "7"
      ]
     },
     "execution_count": 61,
     "metadata": {},
     "output_type": "execute_result"
    }
   ],
   "source": [
    "datos[0, compras == \"tienda\"].sum()"
   ]
  },
  {
   "cell_type": "code",
   "execution_count": 63,
   "metadata": {},
   "outputs": [
    {
     "data": {
      "text/plain": [
       "array([4, 5])"
      ]
     },
     "execution_count": 63,
     "metadata": {},
     "output_type": "execute_result"
    }
   ],
   "source": [
    "datos[:, compras == \"tienda\"].sum(axis=0)"
   ]
  },
  {
   "cell_type": "code",
   "execution_count": 64,
   "metadata": {},
   "outputs": [
    {
     "data": {
      "text/plain": [
       "array([7, 2])"
      ]
     },
     "execution_count": 64,
     "metadata": {},
     "output_type": "execute_result"
    }
   ],
   "source": [
    "datos[:, compras == \"tienda\"].sum(axis=1)"
   ]
  },
  {
   "cell_type": "code",
   "execution_count": 67,
   "metadata": {},
   "outputs": [
    {
     "data": {
      "text/plain": [
       "array([3.5, 1. ])"
      ]
     },
     "execution_count": 67,
     "metadata": {},
     "output_type": "execute_result"
    }
   ],
   "source": [
    "datos[:, compras == \"tienda\"].mean(axis=1)"
   ]
  },
  {
   "cell_type": "code",
   "execution_count": 68,
   "metadata": {},
   "outputs": [
    {
     "ename": "SyntaxError",
     "evalue": "invalid syntax (<ipython-input-68-d3897a12693f>, line 1)",
     "output_type": "error",
     "traceback": [
      "\u001b[0;36m  File \u001b[0;32m\"<ipython-input-68-d3897a12693f>\"\u001b[0;36m, line \u001b[0;32m1\u001b[0m\n\u001b[0;31m    | OR\u001b[0m\n\u001b[0m    ^\u001b[0m\n\u001b[0;31mSyntaxError\u001b[0m\u001b[0;31m:\u001b[0m invalid syntax\n"
     ]
    }
   ],
   "source": [
    "| OR\n",
    "& AND\n",
    "~ NOT"
   ]
  },
  {
   "cell_type": "code",
   "execution_count": 71,
   "metadata": {},
   "outputs": [
    {
     "data": {
      "text/plain": [
       "array([3., 2.])"
      ]
     },
     "execution_count": 71,
     "metadata": {},
     "output_type": "execute_result"
    }
   ],
   "source": [
    "datos[:, ((compras == \"tienda\") | (compras == \"web\"))].mean(axis=1)"
   ]
  },
  {
   "cell_type": "code",
   "execution_count": 72,
   "metadata": {},
   "outputs": [
    {
     "data": {
      "text/plain": [
       "array([[ True,  True, False, False],\n",
       "       [False, False,  True,  True]])"
      ]
     },
     "execution_count": 72,
     "metadata": {},
     "output_type": "execute_result"
    }
   ],
   "source": [
    "datos < 3"
   ]
  },
  {
   "cell_type": "code",
   "execution_count": 73,
   "metadata": {},
   "outputs": [],
   "source": [
    "datos[0,1] = 9999"
   ]
  },
  {
   "cell_type": "code",
   "execution_count": 82,
   "metadata": {},
   "outputs": [
    {
     "data": {
      "text/plain": [
       "array([[1.000e+00, 9.999e+03, 3.000e+00, 4.000e+00],\n",
       "       [5.000e+00, 4.000e+00, 1.000e+00, 1.000e+00]])"
      ]
     },
     "execution_count": 82,
     "metadata": {},
     "output_type": "execute_result"
    }
   ],
   "source": [
    "datos.astype(np.float)"
   ]
  },
  {
   "cell_type": "code",
   "execution_count": 83,
   "metadata": {},
   "outputs": [
    {
     "data": {
      "text/plain": [
       "array([[False,  True, False, False],\n",
       "       [False, False, False, False]])"
      ]
     },
     "execution_count": 83,
     "metadata": {},
     "output_type": "execute_result"
    }
   ],
   "source": [
    "datos == 9999"
   ]
  },
  {
   "cell_type": "code",
   "execution_count": 84,
   "metadata": {},
   "outputs": [
    {
     "ename": "ValueError",
     "evalue": "cannot convert float NaN to integer",
     "output_type": "error",
     "traceback": [
      "\u001b[0;31m---------------------------------------------------------------------------\u001b[0m",
      "\u001b[0;31mValueError\u001b[0m                                Traceback (most recent call last)",
      "\u001b[0;32m<ipython-input-84-abdc940ebfe6>\u001b[0m in \u001b[0;36m<module>\u001b[0;34m\u001b[0m\n\u001b[0;32m----> 1\u001b[0;31m \u001b[0mdatos\u001b[0m\u001b[0;34m[\u001b[0m\u001b[0mdatos\u001b[0m \u001b[0;34m==\u001b[0m \u001b[0;36m9999\u001b[0m\u001b[0;34m]\u001b[0m \u001b[0;34m=\u001b[0m \u001b[0mnp\u001b[0m\u001b[0;34m.\u001b[0m\u001b[0mnan\u001b[0m\u001b[0;34m\u001b[0m\u001b[0m\n\u001b[0m",
      "\u001b[0;31mValueError\u001b[0m: cannot convert float NaN to integer"
     ]
    }
   ],
   "source": [
    "datos[datos == 9999] = np.nan"
   ]
  },
  {
   "cell_type": "code",
   "execution_count": 89,
   "metadata": {},
   "outputs": [],
   "source": [
    "datos = datos.astype(np.float)"
   ]
  },
  {
   "cell_type": "code",
   "execution_count": 90,
   "metadata": {},
   "outputs": [],
   "source": [
    "datos[datos == 9999] = np.nan"
   ]
  },
  {
   "cell_type": "code",
   "execution_count": 91,
   "metadata": {},
   "outputs": [
    {
     "data": {
      "text/plain": [
       "array([[ 1., nan,  3.,  4.],\n",
       "       [ 5.,  4.,  1.,  1.]])"
      ]
     },
     "execution_count": 91,
     "metadata": {},
     "output_type": "execute_result"
    }
   ],
   "source": [
    "datos"
   ]
  },
  {
   "cell_type": "code",
   "execution_count": 94,
   "metadata": {},
   "outputs": [
    {
     "data": {
      "text/plain": [
       "array([[ True, False,  True,  True],\n",
       "       [ True,  True,  True,  True]])"
      ]
     },
     "execution_count": 94,
     "metadata": {},
     "output_type": "execute_result"
    }
   ],
   "source": [
    "~np.isnan(datos)"
   ]
  },
  {
   "cell_type": "code",
   "execution_count": 95,
   "metadata": {},
   "outputs": [
    {
     "data": {
      "text/plain": [
       "19.0"
      ]
     },
     "execution_count": 95,
     "metadata": {},
     "output_type": "execute_result"
    }
   ],
   "source": [
    "datos[~np.isnan(datos)].sum()"
   ]
  },
  {
   "cell_type": "code",
   "execution_count": 96,
   "metadata": {},
   "outputs": [
    {
     "data": {
      "text/plain": [
       "array([[ 1.,  5.],\n",
       "       [nan,  4.],\n",
       "       [ 3.,  1.],\n",
       "       [ 4.,  1.]])"
      ]
     },
     "execution_count": 96,
     "metadata": {},
     "output_type": "execute_result"
    }
   ],
   "source": [
    "datos.transpose()"
   ]
  },
  {
   "cell_type": "code",
   "execution_count": 97,
   "metadata": {},
   "outputs": [
    {
     "data": {
      "text/plain": [
       "array([[ 1.,  5.],\n",
       "       [nan,  4.],\n",
       "       [ 3.,  1.],\n",
       "       [ 4.,  1.]])"
      ]
     },
     "execution_count": 97,
     "metadata": {},
     "output_type": "execute_result"
    }
   ],
   "source": [
    "datos.T"
   ]
  },
  {
   "cell_type": "code",
   "execution_count": 98,
   "metadata": {},
   "outputs": [
    {
     "data": {
      "text/plain": [
       "array([ 1., nan,  3.,  4.,  5.,  4.,  1.,  1.])"
      ]
     },
     "execution_count": 98,
     "metadata": {},
     "output_type": "execute_result"
    }
   ],
   "source": [
    "datos.reshape(8)"
   ]
  },
  {
   "cell_type": "code",
   "execution_count": 99,
   "metadata": {},
   "outputs": [
    {
     "data": {
      "text/plain": [
       "array([[ 1.],\n",
       "       [nan],\n",
       "       [ 3.],\n",
       "       [ 4.],\n",
       "       [ 5.],\n",
       "       [ 4.],\n",
       "       [ 1.],\n",
       "       [ 1.]])"
      ]
     },
     "execution_count": 99,
     "metadata": {},
     "output_type": "execute_result"
    }
   ],
   "source": [
    "datos.reshape(8,1)"
   ]
  },
  {
   "cell_type": "code",
   "execution_count": 100,
   "metadata": {},
   "outputs": [
    {
     "data": {
      "text/plain": [
       "array([[ 1.],\n",
       "       [ 5.],\n",
       "       [nan],\n",
       "       [ 4.],\n",
       "       [ 3.],\n",
       "       [ 1.],\n",
       "       [ 4.],\n",
       "       [ 1.]])"
      ]
     },
     "execution_count": 100,
     "metadata": {},
     "output_type": "execute_result"
    }
   ],
   "source": [
    "datos.reshape((8,1), order='F')"
   ]
  },
  {
   "cell_type": "code",
   "execution_count": 102,
   "metadata": {},
   "outputs": [],
   "source": [
    "def f(arr):\n",
    "    arr[:,0] = 9\n",
    "\n",
    "f(datos)"
   ]
  },
  {
   "cell_type": "code",
   "execution_count": 103,
   "metadata": {},
   "outputs": [
    {
     "data": {
      "text/plain": [
       "array([[ 9., nan,  3.,  4.],\n",
       "       [ 9.,  4.,  1.,  1.]])"
      ]
     },
     "execution_count": 103,
     "metadata": {},
     "output_type": "execute_result"
    }
   ],
   "source": [
    "datos"
   ]
  },
  {
   "cell_type": "code",
   "execution_count": 106,
   "metadata": {},
   "outputs": [
    {
     "data": {
      "text/plain": [
       "array([[9., 3., 3., 4.],\n",
       "       [9., 3., 1., 1.]])"
      ]
     },
     "execution_count": 106,
     "metadata": {},
     "output_type": "execute_result"
    }
   ],
   "source": [
    "def f(arr):\n",
    "    aux = arr.copy()\n",
    "    aux[:,1] = 3\n",
    "    return aux\n",
    "\n",
    "f(datos)"
   ]
  },
  {
   "cell_type": "code",
   "execution_count": 107,
   "metadata": {},
   "outputs": [
    {
     "data": {
      "text/plain": [
       "array([[ 9., nan,  3.,  4.],\n",
       "       [ 9.,  4.,  1.,  1.]])"
      ]
     },
     "execution_count": 107,
     "metadata": {},
     "output_type": "execute_result"
    }
   ],
   "source": [
    "datos"
   ]
  },
  {
   "cell_type": "code",
   "execution_count": 108,
   "metadata": {},
   "outputs": [
    {
     "data": {
      "text/plain": [
       "array([ 9., nan,  3.,  4.,  9.,  4.,  1.,  1.])"
      ]
     },
     "execution_count": 108,
     "metadata": {},
     "output_type": "execute_result"
    }
   ],
   "source": [
    "datos.reshape(-1)"
   ]
  },
  {
   "cell_type": "code",
   "execution_count": 109,
   "metadata": {},
   "outputs": [
    {
     "data": {
      "text/plain": [
       "array([[ 9., nan],\n",
       "       [ 3.,  4.],\n",
       "       [ 9.,  4.],\n",
       "       [ 1.,  1.]])"
      ]
     },
     "execution_count": 109,
     "metadata": {},
     "output_type": "execute_result"
    }
   ],
   "source": [
    "datos.reshape(-1,2)"
   ]
  },
  {
   "cell_type": "code",
   "execution_count": 110,
   "metadata": {},
   "outputs": [
    {
     "data": {
      "text/plain": [
       "array([ 9., nan,  3.,  4.,  9.,  4.,  1.,  1.])"
      ]
     },
     "execution_count": 110,
     "metadata": {},
     "output_type": "execute_result"
    }
   ],
   "source": [
    "datos.reshape(1,-1).squeeze()"
   ]
  },
  {
   "cell_type": "code",
   "execution_count": 111,
   "metadata": {},
   "outputs": [
    {
     "data": {
      "text/plain": [
       "array([[18., nan,  6.,  8.],\n",
       "       [18.,  8.,  2.,  2.]])"
      ]
     },
     "execution_count": 111,
     "metadata": {},
     "output_type": "execute_result"
    }
   ],
   "source": [
    "datos * 2"
   ]
  },
  {
   "cell_type": "code",
   "execution_count": 112,
   "metadata": {},
   "outputs": [
    {
     "data": {
      "text/plain": [
       "array([[3.        ,        nan, 1.73205081, 2.        ],\n",
       "       [3.        , 2.        , 1.        , 1.        ]])"
      ]
     },
     "execution_count": 112,
     "metadata": {},
     "output_type": "execute_result"
    }
   ],
   "source": [
    "np.sqrt(datos)"
   ]
  },
  {
   "cell_type": "code",
   "execution_count": 113,
   "metadata": {},
   "outputs": [
    {
     "data": {
      "text/plain": [
       "array([0.33482189, 0.15218837, 0.11306688, 0.27378546, 0.83975204,\n",
       "       0.43061547, 0.74273751, 0.39889259, 0.85012794, 0.39983074,\n",
       "       0.17172156, 0.45536261, 0.34176793, 0.59885724, 0.47829491,\n",
       "       0.29271148, 0.17219618, 0.44852646, 0.33083188, 0.86151416,\n",
       "       0.35374204, 0.18908738, 0.23742008, 0.05751516, 0.39082505,\n",
       "       0.34507034, 0.2572508 , 0.59210293, 0.32774302, 0.37251502,\n",
       "       0.64005004, 0.58838398, 0.83895031, 0.42976606, 0.6489703 ,\n",
       "       0.80073987, 0.40902348, 0.49315134, 0.16504035, 0.3376892 ,\n",
       "       0.46979942, 0.74170484, 0.2805489 , 0.14410639, 0.60383229,\n",
       "       0.68776597, 0.71784389, 0.4109573 , 0.70712063, 0.73879949,\n",
       "       0.26441639, 0.09317773, 0.47235909, 0.19308188, 0.54975438,\n",
       "       0.42101041, 0.73615707, 0.68842074, 0.23236388, 0.39340309,\n",
       "       0.40792866, 0.27958036, 0.94306356, 0.70178523, 0.54606028,\n",
       "       0.26382495, 0.24437057, 0.19022811, 0.49067757, 0.34917807,\n",
       "       0.55601228, 0.29515396, 0.39127137, 0.29061142, 0.46172581,\n",
       "       0.50692729, 0.34193674, 0.43756128, 0.38750814, 0.37318539,\n",
       "       0.94635647, 0.37120686, 0.35580975, 0.36561136, 0.66319261,\n",
       "       0.65056511, 0.87097218, 0.46264172, 0.42155685, 0.83097384,\n",
       "       0.50530309, 0.60958915, 0.12502152, 0.48051532, 0.71626943,\n",
       "       0.39987609, 0.86861271, 0.74506865, 0.35020661, 0.85062592])"
      ]
     },
     "execution_count": 113,
     "metadata": {},
     "output_type": "execute_result"
    }
   ],
   "source": [
    "np.random.triangular(0, 0.5, 1, size=100)"
   ]
  },
  {
   "cell_type": "code",
   "execution_count": 114,
   "metadata": {},
   "outputs": [],
   "source": [
    "x = np.arange(-5, 5.01, 0.01)\n",
    "y = np.arange(-5, 5.01, 0.01)\n",
    "\n",
    "xs,ys = np.meshgrid(x, y)"
   ]
  },
  {
   "cell_type": "code",
   "execution_count": 115,
   "metadata": {},
   "outputs": [
    {
     "data": {
      "text/plain": [
       "array([[-5.  , -4.99, -4.98, ...,  4.98,  4.99,  5.  ],\n",
       "       [-5.  , -4.99, -4.98, ...,  4.98,  4.99,  5.  ],\n",
       "       [-5.  , -4.99, -4.98, ...,  4.98,  4.99,  5.  ],\n",
       "       ...,\n",
       "       [-5.  , -4.99, -4.98, ...,  4.98,  4.99,  5.  ],\n",
       "       [-5.  , -4.99, -4.98, ...,  4.98,  4.99,  5.  ],\n",
       "       [-5.  , -4.99, -4.98, ...,  4.98,  4.99,  5.  ]])"
      ]
     },
     "execution_count": 115,
     "metadata": {},
     "output_type": "execute_result"
    }
   ],
   "source": [
    "xs"
   ]
  },
  {
   "cell_type": "code",
   "execution_count": 116,
   "metadata": {},
   "outputs": [
    {
     "data": {
      "text/plain": [
       "array([[-5.  , -5.  , -5.  , ..., -5.  , -5.  , -5.  ],\n",
       "       [-4.99, -4.99, -4.99, ..., -4.99, -4.99, -4.99],\n",
       "       [-4.98, -4.98, -4.98, ..., -4.98, -4.98, -4.98],\n",
       "       ...,\n",
       "       [ 4.98,  4.98,  4.98, ...,  4.98,  4.98,  4.98],\n",
       "       [ 4.99,  4.99,  4.99, ...,  4.99,  4.99,  4.99],\n",
       "       [ 5.  ,  5.  ,  5.  , ...,  5.  ,  5.  ,  5.  ]])"
      ]
     },
     "execution_count": 116,
     "metadata": {},
     "output_type": "execute_result"
    }
   ],
   "source": [
    "ys"
   ]
  },
  {
   "cell_type": "code",
   "execution_count": 117,
   "metadata": {},
   "outputs": [],
   "source": [
    "z = np.sqrt(xs ** 2 + ys ** 2)"
   ]
  },
  {
   "cell_type": "code",
   "execution_count": 119,
   "metadata": {},
   "outputs": [],
   "source": [
    "from matplotlib import pyplot as plt\n",
    "%matplotlib notebook"
   ]
  },
  {
   "cell_type": "code",
   "execution_count": 121,
   "metadata": {},
   "outputs": [
    {
     "data": {
      "application/javascript": [
       "/* Put everything inside the global mpl namespace */\n",
       "window.mpl = {};\n",
       "\n",
       "\n",
       "mpl.get_websocket_type = function() {\n",
       "    if (typeof(WebSocket) !== 'undefined') {\n",
       "        return WebSocket;\n",
       "    } else if (typeof(MozWebSocket) !== 'undefined') {\n",
       "        return MozWebSocket;\n",
       "    } else {\n",
       "        alert('Your browser does not have WebSocket support.' +\n",
       "              'Please try Chrome, Safari or Firefox ≥ 6. ' +\n",
       "              'Firefox 4 and 5 are also supported but you ' +\n",
       "              'have to enable WebSockets in about:config.');\n",
       "    };\n",
       "}\n",
       "\n",
       "mpl.figure = function(figure_id, websocket, ondownload, parent_element) {\n",
       "    this.id = figure_id;\n",
       "\n",
       "    this.ws = websocket;\n",
       "\n",
       "    this.supports_binary = (this.ws.binaryType != undefined);\n",
       "\n",
       "    if (!this.supports_binary) {\n",
       "        var warnings = document.getElementById(\"mpl-warnings\");\n",
       "        if (warnings) {\n",
       "            warnings.style.display = 'block';\n",
       "            warnings.textContent = (\n",
       "                \"This browser does not support binary websocket messages. \" +\n",
       "                    \"Performance may be slow.\");\n",
       "        }\n",
       "    }\n",
       "\n",
       "    this.imageObj = new Image();\n",
       "\n",
       "    this.context = undefined;\n",
       "    this.message = undefined;\n",
       "    this.canvas = undefined;\n",
       "    this.rubberband_canvas = undefined;\n",
       "    this.rubberband_context = undefined;\n",
       "    this.format_dropdown = undefined;\n",
       "\n",
       "    this.image_mode = 'full';\n",
       "\n",
       "    this.root = $('<div/>');\n",
       "    this._root_extra_style(this.root)\n",
       "    this.root.attr('style', 'display: inline-block');\n",
       "\n",
       "    $(parent_element).append(this.root);\n",
       "\n",
       "    this._init_header(this);\n",
       "    this._init_canvas(this);\n",
       "    this._init_toolbar(this);\n",
       "\n",
       "    var fig = this;\n",
       "\n",
       "    this.waiting = false;\n",
       "\n",
       "    this.ws.onopen =  function () {\n",
       "            fig.send_message(\"supports_binary\", {value: fig.supports_binary});\n",
       "            fig.send_message(\"send_image_mode\", {});\n",
       "            if (mpl.ratio != 1) {\n",
       "                fig.send_message(\"set_dpi_ratio\", {'dpi_ratio': mpl.ratio});\n",
       "            }\n",
       "            fig.send_message(\"refresh\", {});\n",
       "        }\n",
       "\n",
       "    this.imageObj.onload = function() {\n",
       "            if (fig.image_mode == 'full') {\n",
       "                // Full images could contain transparency (where diff images\n",
       "                // almost always do), so we need to clear the canvas so that\n",
       "                // there is no ghosting.\n",
       "                fig.context.clearRect(0, 0, fig.canvas.width, fig.canvas.height);\n",
       "            }\n",
       "            fig.context.drawImage(fig.imageObj, 0, 0);\n",
       "        };\n",
       "\n",
       "    this.imageObj.onunload = function() {\n",
       "        fig.ws.close();\n",
       "    }\n",
       "\n",
       "    this.ws.onmessage = this._make_on_message_function(this);\n",
       "\n",
       "    this.ondownload = ondownload;\n",
       "}\n",
       "\n",
       "mpl.figure.prototype._init_header = function() {\n",
       "    var titlebar = $(\n",
       "        '<div class=\"ui-dialog-titlebar ui-widget-header ui-corner-all ' +\n",
       "        'ui-helper-clearfix\"/>');\n",
       "    var titletext = $(\n",
       "        '<div class=\"ui-dialog-title\" style=\"width: 100%; ' +\n",
       "        'text-align: center; padding: 3px;\"/>');\n",
       "    titlebar.append(titletext)\n",
       "    this.root.append(titlebar);\n",
       "    this.header = titletext[0];\n",
       "}\n",
       "\n",
       "\n",
       "\n",
       "mpl.figure.prototype._canvas_extra_style = function(canvas_div) {\n",
       "\n",
       "}\n",
       "\n",
       "\n",
       "mpl.figure.prototype._root_extra_style = function(canvas_div) {\n",
       "\n",
       "}\n",
       "\n",
       "mpl.figure.prototype._init_canvas = function() {\n",
       "    var fig = this;\n",
       "\n",
       "    var canvas_div = $('<div/>');\n",
       "\n",
       "    canvas_div.attr('style', 'position: relative; clear: both; outline: 0');\n",
       "\n",
       "    function canvas_keyboard_event(event) {\n",
       "        return fig.key_event(event, event['data']);\n",
       "    }\n",
       "\n",
       "    canvas_div.keydown('key_press', canvas_keyboard_event);\n",
       "    canvas_div.keyup('key_release', canvas_keyboard_event);\n",
       "    this.canvas_div = canvas_div\n",
       "    this._canvas_extra_style(canvas_div)\n",
       "    this.root.append(canvas_div);\n",
       "\n",
       "    var canvas = $('<canvas/>');\n",
       "    canvas.addClass('mpl-canvas');\n",
       "    canvas.attr('style', \"left: 0; top: 0; z-index: 0; outline: 0\")\n",
       "\n",
       "    this.canvas = canvas[0];\n",
       "    this.context = canvas[0].getContext(\"2d\");\n",
       "\n",
       "    var backingStore = this.context.backingStorePixelRatio ||\n",
       "\tthis.context.webkitBackingStorePixelRatio ||\n",
       "\tthis.context.mozBackingStorePixelRatio ||\n",
       "\tthis.context.msBackingStorePixelRatio ||\n",
       "\tthis.context.oBackingStorePixelRatio ||\n",
       "\tthis.context.backingStorePixelRatio || 1;\n",
       "\n",
       "    mpl.ratio = (window.devicePixelRatio || 1) / backingStore;\n",
       "\n",
       "    var rubberband = $('<canvas/>');\n",
       "    rubberband.attr('style', \"position: absolute; left: 0; top: 0; z-index: 1;\")\n",
       "\n",
       "    var pass_mouse_events = true;\n",
       "\n",
       "    canvas_div.resizable({\n",
       "        start: function(event, ui) {\n",
       "            pass_mouse_events = false;\n",
       "        },\n",
       "        resize: function(event, ui) {\n",
       "            fig.request_resize(ui.size.width, ui.size.height);\n",
       "        },\n",
       "        stop: function(event, ui) {\n",
       "            pass_mouse_events = true;\n",
       "            fig.request_resize(ui.size.width, ui.size.height);\n",
       "        },\n",
       "    });\n",
       "\n",
       "    function mouse_event_fn(event) {\n",
       "        if (pass_mouse_events)\n",
       "            return fig.mouse_event(event, event['data']);\n",
       "    }\n",
       "\n",
       "    rubberband.mousedown('button_press', mouse_event_fn);\n",
       "    rubberband.mouseup('button_release', mouse_event_fn);\n",
       "    // Throttle sequential mouse events to 1 every 20ms.\n",
       "    rubberband.mousemove('motion_notify', mouse_event_fn);\n",
       "\n",
       "    rubberband.mouseenter('figure_enter', mouse_event_fn);\n",
       "    rubberband.mouseleave('figure_leave', mouse_event_fn);\n",
       "\n",
       "    canvas_div.on(\"wheel\", function (event) {\n",
       "        event = event.originalEvent;\n",
       "        event['data'] = 'scroll'\n",
       "        if (event.deltaY < 0) {\n",
       "            event.step = 1;\n",
       "        } else {\n",
       "            event.step = -1;\n",
       "        }\n",
       "        mouse_event_fn(event);\n",
       "    });\n",
       "\n",
       "    canvas_div.append(canvas);\n",
       "    canvas_div.append(rubberband);\n",
       "\n",
       "    this.rubberband = rubberband;\n",
       "    this.rubberband_canvas = rubberband[0];\n",
       "    this.rubberband_context = rubberband[0].getContext(\"2d\");\n",
       "    this.rubberband_context.strokeStyle = \"#000000\";\n",
       "\n",
       "    this._resize_canvas = function(width, height) {\n",
       "        // Keep the size of the canvas, canvas container, and rubber band\n",
       "        // canvas in synch.\n",
       "        canvas_div.css('width', width)\n",
       "        canvas_div.css('height', height)\n",
       "\n",
       "        canvas.attr('width', width * mpl.ratio);\n",
       "        canvas.attr('height', height * mpl.ratio);\n",
       "        canvas.attr('style', 'width: ' + width + 'px; height: ' + height + 'px;');\n",
       "\n",
       "        rubberband.attr('width', width);\n",
       "        rubberband.attr('height', height);\n",
       "    }\n",
       "\n",
       "    // Set the figure to an initial 600x600px, this will subsequently be updated\n",
       "    // upon first draw.\n",
       "    this._resize_canvas(600, 600);\n",
       "\n",
       "    // Disable right mouse context menu.\n",
       "    $(this.rubberband_canvas).bind(\"contextmenu\",function(e){\n",
       "        return false;\n",
       "    });\n",
       "\n",
       "    function set_focus () {\n",
       "        canvas.focus();\n",
       "        canvas_div.focus();\n",
       "    }\n",
       "\n",
       "    window.setTimeout(set_focus, 100);\n",
       "}\n",
       "\n",
       "mpl.figure.prototype._init_toolbar = function() {\n",
       "    var fig = this;\n",
       "\n",
       "    var nav_element = $('<div/>')\n",
       "    nav_element.attr('style', 'width: 100%');\n",
       "    this.root.append(nav_element);\n",
       "\n",
       "    // Define a callback function for later on.\n",
       "    function toolbar_event(event) {\n",
       "        return fig.toolbar_button_onclick(event['data']);\n",
       "    }\n",
       "    function toolbar_mouse_event(event) {\n",
       "        return fig.toolbar_button_onmouseover(event['data']);\n",
       "    }\n",
       "\n",
       "    for(var toolbar_ind in mpl.toolbar_items) {\n",
       "        var name = mpl.toolbar_items[toolbar_ind][0];\n",
       "        var tooltip = mpl.toolbar_items[toolbar_ind][1];\n",
       "        var image = mpl.toolbar_items[toolbar_ind][2];\n",
       "        var method_name = mpl.toolbar_items[toolbar_ind][3];\n",
       "\n",
       "        if (!name) {\n",
       "            // put a spacer in here.\n",
       "            continue;\n",
       "        }\n",
       "        var button = $('<button/>');\n",
       "        button.addClass('ui-button ui-widget ui-state-default ui-corner-all ' +\n",
       "                        'ui-button-icon-only');\n",
       "        button.attr('role', 'button');\n",
       "        button.attr('aria-disabled', 'false');\n",
       "        button.click(method_name, toolbar_event);\n",
       "        button.mouseover(tooltip, toolbar_mouse_event);\n",
       "\n",
       "        var icon_img = $('<span/>');\n",
       "        icon_img.addClass('ui-button-icon-primary ui-icon');\n",
       "        icon_img.addClass(image);\n",
       "        icon_img.addClass('ui-corner-all');\n",
       "\n",
       "        var tooltip_span = $('<span/>');\n",
       "        tooltip_span.addClass('ui-button-text');\n",
       "        tooltip_span.html(tooltip);\n",
       "\n",
       "        button.append(icon_img);\n",
       "        button.append(tooltip_span);\n",
       "\n",
       "        nav_element.append(button);\n",
       "    }\n",
       "\n",
       "    var fmt_picker_span = $('<span/>');\n",
       "\n",
       "    var fmt_picker = $('<select/>');\n",
       "    fmt_picker.addClass('mpl-toolbar-option ui-widget ui-widget-content');\n",
       "    fmt_picker_span.append(fmt_picker);\n",
       "    nav_element.append(fmt_picker_span);\n",
       "    this.format_dropdown = fmt_picker[0];\n",
       "\n",
       "    for (var ind in mpl.extensions) {\n",
       "        var fmt = mpl.extensions[ind];\n",
       "        var option = $(\n",
       "            '<option/>', {selected: fmt === mpl.default_extension}).html(fmt);\n",
       "        fmt_picker.append(option)\n",
       "    }\n",
       "\n",
       "    // Add hover states to the ui-buttons\n",
       "    $( \".ui-button\" ).hover(\n",
       "        function() { $(this).addClass(\"ui-state-hover\");},\n",
       "        function() { $(this).removeClass(\"ui-state-hover\");}\n",
       "    );\n",
       "\n",
       "    var status_bar = $('<span class=\"mpl-message\"/>');\n",
       "    nav_element.append(status_bar);\n",
       "    this.message = status_bar[0];\n",
       "}\n",
       "\n",
       "mpl.figure.prototype.request_resize = function(x_pixels, y_pixels) {\n",
       "    // Request matplotlib to resize the figure. Matplotlib will then trigger a resize in the client,\n",
       "    // which will in turn request a refresh of the image.\n",
       "    this.send_message('resize', {'width': x_pixels, 'height': y_pixels});\n",
       "}\n",
       "\n",
       "mpl.figure.prototype.send_message = function(type, properties) {\n",
       "    properties['type'] = type;\n",
       "    properties['figure_id'] = this.id;\n",
       "    this.ws.send(JSON.stringify(properties));\n",
       "}\n",
       "\n",
       "mpl.figure.prototype.send_draw_message = function() {\n",
       "    if (!this.waiting) {\n",
       "        this.waiting = true;\n",
       "        this.ws.send(JSON.stringify({type: \"draw\", figure_id: this.id}));\n",
       "    }\n",
       "}\n",
       "\n",
       "\n",
       "mpl.figure.prototype.handle_save = function(fig, msg) {\n",
       "    var format_dropdown = fig.format_dropdown;\n",
       "    var format = format_dropdown.options[format_dropdown.selectedIndex].value;\n",
       "    fig.ondownload(fig, format);\n",
       "}\n",
       "\n",
       "\n",
       "mpl.figure.prototype.handle_resize = function(fig, msg) {\n",
       "    var size = msg['size'];\n",
       "    if (size[0] != fig.canvas.width || size[1] != fig.canvas.height) {\n",
       "        fig._resize_canvas(size[0], size[1]);\n",
       "        fig.send_message(\"refresh\", {});\n",
       "    };\n",
       "}\n",
       "\n",
       "mpl.figure.prototype.handle_rubberband = function(fig, msg) {\n",
       "    var x0 = msg['x0'] / mpl.ratio;\n",
       "    var y0 = (fig.canvas.height - msg['y0']) / mpl.ratio;\n",
       "    var x1 = msg['x1'] / mpl.ratio;\n",
       "    var y1 = (fig.canvas.height - msg['y1']) / mpl.ratio;\n",
       "    x0 = Math.floor(x0) + 0.5;\n",
       "    y0 = Math.floor(y0) + 0.5;\n",
       "    x1 = Math.floor(x1) + 0.5;\n",
       "    y1 = Math.floor(y1) + 0.5;\n",
       "    var min_x = Math.min(x0, x1);\n",
       "    var min_y = Math.min(y0, y1);\n",
       "    var width = Math.abs(x1 - x0);\n",
       "    var height = Math.abs(y1 - y0);\n",
       "\n",
       "    fig.rubberband_context.clearRect(\n",
       "        0, 0, fig.canvas.width, fig.canvas.height);\n",
       "\n",
       "    fig.rubberband_context.strokeRect(min_x, min_y, width, height);\n",
       "}\n",
       "\n",
       "mpl.figure.prototype.handle_figure_label = function(fig, msg) {\n",
       "    // Updates the figure title.\n",
       "    fig.header.textContent = msg['label'];\n",
       "}\n",
       "\n",
       "mpl.figure.prototype.handle_cursor = function(fig, msg) {\n",
       "    var cursor = msg['cursor'];\n",
       "    switch(cursor)\n",
       "    {\n",
       "    case 0:\n",
       "        cursor = 'pointer';\n",
       "        break;\n",
       "    case 1:\n",
       "        cursor = 'default';\n",
       "        break;\n",
       "    case 2:\n",
       "        cursor = 'crosshair';\n",
       "        break;\n",
       "    case 3:\n",
       "        cursor = 'move';\n",
       "        break;\n",
       "    }\n",
       "    fig.rubberband_canvas.style.cursor = cursor;\n",
       "}\n",
       "\n",
       "mpl.figure.prototype.handle_message = function(fig, msg) {\n",
       "    fig.message.textContent = msg['message'];\n",
       "}\n",
       "\n",
       "mpl.figure.prototype.handle_draw = function(fig, msg) {\n",
       "    // Request the server to send over a new figure.\n",
       "    fig.send_draw_message();\n",
       "}\n",
       "\n",
       "mpl.figure.prototype.handle_image_mode = function(fig, msg) {\n",
       "    fig.image_mode = msg['mode'];\n",
       "}\n",
       "\n",
       "mpl.figure.prototype.updated_canvas_event = function() {\n",
       "    // Called whenever the canvas gets updated.\n",
       "    this.send_message(\"ack\", {});\n",
       "}\n",
       "\n",
       "// A function to construct a web socket function for onmessage handling.\n",
       "// Called in the figure constructor.\n",
       "mpl.figure.prototype._make_on_message_function = function(fig) {\n",
       "    return function socket_on_message(evt) {\n",
       "        if (evt.data instanceof Blob) {\n",
       "            /* FIXME: We get \"Resource interpreted as Image but\n",
       "             * transferred with MIME type text/plain:\" errors on\n",
       "             * Chrome.  But how to set the MIME type?  It doesn't seem\n",
       "             * to be part of the websocket stream */\n",
       "            evt.data.type = \"image/png\";\n",
       "\n",
       "            /* Free the memory for the previous frames */\n",
       "            if (fig.imageObj.src) {\n",
       "                (window.URL || window.webkitURL).revokeObjectURL(\n",
       "                    fig.imageObj.src);\n",
       "            }\n",
       "\n",
       "            fig.imageObj.src = (window.URL || window.webkitURL).createObjectURL(\n",
       "                evt.data);\n",
       "            fig.updated_canvas_event();\n",
       "            fig.waiting = false;\n",
       "            return;\n",
       "        }\n",
       "        else if (typeof evt.data === 'string' && evt.data.slice(0, 21) == \"data:image/png;base64\") {\n",
       "            fig.imageObj.src = evt.data;\n",
       "            fig.updated_canvas_event();\n",
       "            fig.waiting = false;\n",
       "            return;\n",
       "        }\n",
       "\n",
       "        var msg = JSON.parse(evt.data);\n",
       "        var msg_type = msg['type'];\n",
       "\n",
       "        // Call the  \"handle_{type}\" callback, which takes\n",
       "        // the figure and JSON message as its only arguments.\n",
       "        try {\n",
       "            var callback = fig[\"handle_\" + msg_type];\n",
       "        } catch (e) {\n",
       "            console.log(\"No handler for the '\" + msg_type + \"' message type: \", msg);\n",
       "            return;\n",
       "        }\n",
       "\n",
       "        if (callback) {\n",
       "            try {\n",
       "                // console.log(\"Handling '\" + msg_type + \"' message: \", msg);\n",
       "                callback(fig, msg);\n",
       "            } catch (e) {\n",
       "                console.log(\"Exception inside the 'handler_\" + msg_type + \"' callback:\", e, e.stack, msg);\n",
       "            }\n",
       "        }\n",
       "    };\n",
       "}\n",
       "\n",
       "// from http://stackoverflow.com/questions/1114465/getting-mouse-location-in-canvas\n",
       "mpl.findpos = function(e) {\n",
       "    //this section is from http://www.quirksmode.org/js/events_properties.html\n",
       "    var targ;\n",
       "    if (!e)\n",
       "        e = window.event;\n",
       "    if (e.target)\n",
       "        targ = e.target;\n",
       "    else if (e.srcElement)\n",
       "        targ = e.srcElement;\n",
       "    if (targ.nodeType == 3) // defeat Safari bug\n",
       "        targ = targ.parentNode;\n",
       "\n",
       "    // jQuery normalizes the pageX and pageY\n",
       "    // pageX,Y are the mouse positions relative to the document\n",
       "    // offset() returns the position of the element relative to the document\n",
       "    var x = e.pageX - $(targ).offset().left;\n",
       "    var y = e.pageY - $(targ).offset().top;\n",
       "\n",
       "    return {\"x\": x, \"y\": y};\n",
       "};\n",
       "\n",
       "/*\n",
       " * return a copy of an object with only non-object keys\n",
       " * we need this to avoid circular references\n",
       " * http://stackoverflow.com/a/24161582/3208463\n",
       " */\n",
       "function simpleKeys (original) {\n",
       "  return Object.keys(original).reduce(function (obj, key) {\n",
       "    if (typeof original[key] !== 'object')\n",
       "        obj[key] = original[key]\n",
       "    return obj;\n",
       "  }, {});\n",
       "}\n",
       "\n",
       "mpl.figure.prototype.mouse_event = function(event, name) {\n",
       "    var canvas_pos = mpl.findpos(event)\n",
       "\n",
       "    if (name === 'button_press')\n",
       "    {\n",
       "        this.canvas.focus();\n",
       "        this.canvas_div.focus();\n",
       "    }\n",
       "\n",
       "    var x = canvas_pos.x * mpl.ratio;\n",
       "    var y = canvas_pos.y * mpl.ratio;\n",
       "\n",
       "    this.send_message(name, {x: x, y: y, button: event.button,\n",
       "                             step: event.step,\n",
       "                             guiEvent: simpleKeys(event)});\n",
       "\n",
       "    /* This prevents the web browser from automatically changing to\n",
       "     * the text insertion cursor when the button is pressed.  We want\n",
       "     * to control all of the cursor setting manually through the\n",
       "     * 'cursor' event from matplotlib */\n",
       "    event.preventDefault();\n",
       "    return false;\n",
       "}\n",
       "\n",
       "mpl.figure.prototype._key_event_extra = function(event, name) {\n",
       "    // Handle any extra behaviour associated with a key event\n",
       "}\n",
       "\n",
       "mpl.figure.prototype.key_event = function(event, name) {\n",
       "\n",
       "    // Prevent repeat events\n",
       "    if (name == 'key_press')\n",
       "    {\n",
       "        if (event.which === this._key)\n",
       "            return;\n",
       "        else\n",
       "            this._key = event.which;\n",
       "    }\n",
       "    if (name == 'key_release')\n",
       "        this._key = null;\n",
       "\n",
       "    var value = '';\n",
       "    if (event.ctrlKey && event.which != 17)\n",
       "        value += \"ctrl+\";\n",
       "    if (event.altKey && event.which != 18)\n",
       "        value += \"alt+\";\n",
       "    if (event.shiftKey && event.which != 16)\n",
       "        value += \"shift+\";\n",
       "\n",
       "    value += 'k';\n",
       "    value += event.which.toString();\n",
       "\n",
       "    this._key_event_extra(event, name);\n",
       "\n",
       "    this.send_message(name, {key: value,\n",
       "                             guiEvent: simpleKeys(event)});\n",
       "    return false;\n",
       "}\n",
       "\n",
       "mpl.figure.prototype.toolbar_button_onclick = function(name) {\n",
       "    if (name == 'download') {\n",
       "        this.handle_save(this, null);\n",
       "    } else {\n",
       "        this.send_message(\"toolbar_button\", {name: name});\n",
       "    }\n",
       "};\n",
       "\n",
       "mpl.figure.prototype.toolbar_button_onmouseover = function(tooltip) {\n",
       "    this.message.textContent = tooltip;\n",
       "};\n",
       "mpl.toolbar_items = [[\"Home\", \"Reset original view\", \"fa fa-home icon-home\", \"home\"], [\"Back\", \"Back to previous view\", \"fa fa-arrow-left icon-arrow-left\", \"back\"], [\"Forward\", \"Forward to next view\", \"fa fa-arrow-right icon-arrow-right\", \"forward\"], [\"\", \"\", \"\", \"\"], [\"Pan\", \"Pan axes with left mouse, zoom with right\", \"fa fa-arrows icon-move\", \"pan\"], [\"Zoom\", \"Zoom to rectangle\", \"fa fa-square-o icon-check-empty\", \"zoom\"], [\"\", \"\", \"\", \"\"], [\"Download\", \"Download plot\", \"fa fa-floppy-o icon-save\", \"download\"]];\n",
       "\n",
       "mpl.extensions = [\"eps\", \"pdf\", \"png\", \"ps\", \"raw\", \"svg\"];\n",
       "\n",
       "mpl.default_extension = \"png\";var comm_websocket_adapter = function(comm) {\n",
       "    // Create a \"websocket\"-like object which calls the given IPython comm\n",
       "    // object with the appropriate methods. Currently this is a non binary\n",
       "    // socket, so there is still some room for performance tuning.\n",
       "    var ws = {};\n",
       "\n",
       "    ws.close = function() {\n",
       "        comm.close()\n",
       "    };\n",
       "    ws.send = function(m) {\n",
       "        //console.log('sending', m);\n",
       "        comm.send(m);\n",
       "    };\n",
       "    // Register the callback with on_msg.\n",
       "    comm.on_msg(function(msg) {\n",
       "        //console.log('receiving', msg['content']['data'], msg);\n",
       "        // Pass the mpl event to the overridden (by mpl) onmessage function.\n",
       "        ws.onmessage(msg['content']['data'])\n",
       "    });\n",
       "    return ws;\n",
       "}\n",
       "\n",
       "mpl.mpl_figure_comm = function(comm, msg) {\n",
       "    // This is the function which gets called when the mpl process\n",
       "    // starts-up an IPython Comm through the \"matplotlib\" channel.\n",
       "\n",
       "    var id = msg.content.data.id;\n",
       "    // Get hold of the div created by the display call when the Comm\n",
       "    // socket was opened in Python.\n",
       "    var element = $(\"#\" + id);\n",
       "    var ws_proxy = comm_websocket_adapter(comm)\n",
       "\n",
       "    function ondownload(figure, format) {\n",
       "        window.open(figure.imageObj.src);\n",
       "    }\n",
       "\n",
       "    var fig = new mpl.figure(id, ws_proxy,\n",
       "                           ondownload,\n",
       "                           element.get(0));\n",
       "\n",
       "    // Call onopen now - mpl needs it, as it is assuming we've passed it a real\n",
       "    // web socket which is closed, not our websocket->open comm proxy.\n",
       "    ws_proxy.onopen();\n",
       "\n",
       "    fig.parent_element = element.get(0);\n",
       "    fig.cell_info = mpl.find_output_cell(\"<div id='\" + id + \"'></div>\");\n",
       "    if (!fig.cell_info) {\n",
       "        console.error(\"Failed to find cell for figure\", id, fig);\n",
       "        return;\n",
       "    }\n",
       "\n",
       "    var output_index = fig.cell_info[2]\n",
       "    var cell = fig.cell_info[0];\n",
       "\n",
       "};\n",
       "\n",
       "mpl.figure.prototype.handle_close = function(fig, msg) {\n",
       "    var width = fig.canvas.width/mpl.ratio\n",
       "    fig.root.unbind('remove')\n",
       "\n",
       "    // Update the output cell to use the data from the current canvas.\n",
       "    fig.push_to_output();\n",
       "    var dataURL = fig.canvas.toDataURL();\n",
       "    // Re-enable the keyboard manager in IPython - without this line, in FF,\n",
       "    // the notebook keyboard shortcuts fail.\n",
       "    IPython.keyboard_manager.enable()\n",
       "    $(fig.parent_element).html('<img src=\"' + dataURL + '\" width=\"' + width + '\">');\n",
       "    fig.close_ws(fig, msg);\n",
       "}\n",
       "\n",
       "mpl.figure.prototype.close_ws = function(fig, msg){\n",
       "    fig.send_message('closing', msg);\n",
       "    // fig.ws.close()\n",
       "}\n",
       "\n",
       "mpl.figure.prototype.push_to_output = function(remove_interactive) {\n",
       "    // Turn the data on the canvas into data in the output cell.\n",
       "    var width = this.canvas.width/mpl.ratio\n",
       "    var dataURL = this.canvas.toDataURL();\n",
       "    this.cell_info[1]['text/html'] = '<img src=\"' + dataURL + '\" width=\"' + width + '\">';\n",
       "}\n",
       "\n",
       "mpl.figure.prototype.updated_canvas_event = function() {\n",
       "    // Tell IPython that the notebook contents must change.\n",
       "    IPython.notebook.set_dirty(true);\n",
       "    this.send_message(\"ack\", {});\n",
       "    var fig = this;\n",
       "    // Wait a second, then push the new image to the DOM so\n",
       "    // that it is saved nicely (might be nice to debounce this).\n",
       "    setTimeout(function () { fig.push_to_output() }, 1000);\n",
       "}\n",
       "\n",
       "mpl.figure.prototype._init_toolbar = function() {\n",
       "    var fig = this;\n",
       "\n",
       "    var nav_element = $('<div/>')\n",
       "    nav_element.attr('style', 'width: 100%');\n",
       "    this.root.append(nav_element);\n",
       "\n",
       "    // Define a callback function for later on.\n",
       "    function toolbar_event(event) {\n",
       "        return fig.toolbar_button_onclick(event['data']);\n",
       "    }\n",
       "    function toolbar_mouse_event(event) {\n",
       "        return fig.toolbar_button_onmouseover(event['data']);\n",
       "    }\n",
       "\n",
       "    for(var toolbar_ind in mpl.toolbar_items){\n",
       "        var name = mpl.toolbar_items[toolbar_ind][0];\n",
       "        var tooltip = mpl.toolbar_items[toolbar_ind][1];\n",
       "        var image = mpl.toolbar_items[toolbar_ind][2];\n",
       "        var method_name = mpl.toolbar_items[toolbar_ind][3];\n",
       "\n",
       "        if (!name) { continue; };\n",
       "\n",
       "        var button = $('<button class=\"btn btn-default\" href=\"#\" title=\"' + name + '\"><i class=\"fa ' + image + ' fa-lg\"></i></button>');\n",
       "        button.click(method_name, toolbar_event);\n",
       "        button.mouseover(tooltip, toolbar_mouse_event);\n",
       "        nav_element.append(button);\n",
       "    }\n",
       "\n",
       "    // Add the status bar.\n",
       "    var status_bar = $('<span class=\"mpl-message\" style=\"text-align:right; float: right;\"/>');\n",
       "    nav_element.append(status_bar);\n",
       "    this.message = status_bar[0];\n",
       "\n",
       "    // Add the close button to the window.\n",
       "    var buttongrp = $('<div class=\"btn-group inline pull-right\"></div>');\n",
       "    var button = $('<button class=\"btn btn-mini btn-primary\" href=\"#\" title=\"Stop Interaction\"><i class=\"fa fa-power-off icon-remove icon-large\"></i></button>');\n",
       "    button.click(function (evt) { fig.handle_close(fig, {}); } );\n",
       "    button.mouseover('Stop Interaction', toolbar_mouse_event);\n",
       "    buttongrp.append(button);\n",
       "    var titlebar = this.root.find($('.ui-dialog-titlebar'));\n",
       "    titlebar.prepend(buttongrp);\n",
       "}\n",
       "\n",
       "mpl.figure.prototype._root_extra_style = function(el){\n",
       "    var fig = this\n",
       "    el.on(\"remove\", function(){\n",
       "\tfig.close_ws(fig, {});\n",
       "    });\n",
       "}\n",
       "\n",
       "mpl.figure.prototype._canvas_extra_style = function(el){\n",
       "    // this is important to make the div 'focusable\n",
       "    el.attr('tabindex', 0)\n",
       "    // reach out to IPython and tell the keyboard manager to turn it's self\n",
       "    // off when our div gets focus\n",
       "\n",
       "    // location in version 3\n",
       "    if (IPython.notebook.keyboard_manager) {\n",
       "        IPython.notebook.keyboard_manager.register_events(el);\n",
       "    }\n",
       "    else {\n",
       "        // location in version 2\n",
       "        IPython.keyboard_manager.register_events(el);\n",
       "    }\n",
       "\n",
       "}\n",
       "\n",
       "mpl.figure.prototype._key_event_extra = function(event, name) {\n",
       "    var manager = IPython.notebook.keyboard_manager;\n",
       "    if (!manager)\n",
       "        manager = IPython.keyboard_manager;\n",
       "\n",
       "    // Check for shift+enter\n",
       "    if (event.shiftKey && event.which == 13) {\n",
       "        this.canvas_div.blur();\n",
       "        event.shiftKey = false;\n",
       "        // Send a \"J\" for go to next cell\n",
       "        event.which = 74;\n",
       "        event.keyCode = 74;\n",
       "        manager.command_mode();\n",
       "        manager.handle_keydown(event);\n",
       "    }\n",
       "}\n",
       "\n",
       "mpl.figure.prototype.handle_save = function(fig, msg) {\n",
       "    fig.ondownload(fig, null);\n",
       "}\n",
       "\n",
       "\n",
       "mpl.find_output_cell = function(html_output) {\n",
       "    // Return the cell and output element which can be found *uniquely* in the notebook.\n",
       "    // Note - this is a bit hacky, but it is done because the \"notebook_saving.Notebook\"\n",
       "    // IPython event is triggered only after the cells have been serialised, which for\n",
       "    // our purposes (turning an active figure into a static one), is too late.\n",
       "    var cells = IPython.notebook.get_cells();\n",
       "    var ncells = cells.length;\n",
       "    for (var i=0; i<ncells; i++) {\n",
       "        var cell = cells[i];\n",
       "        if (cell.cell_type === 'code'){\n",
       "            for (var j=0; j<cell.output_area.outputs.length; j++) {\n",
       "                var data = cell.output_area.outputs[j];\n",
       "                if (data.data) {\n",
       "                    // IPython >= 3 moved mimebundle to data attribute of output\n",
       "                    data = data.data;\n",
       "                }\n",
       "                if (data['text/html'] == html_output) {\n",
       "                    return [cell, data, j];\n",
       "                }\n",
       "            }\n",
       "        }\n",
       "    }\n",
       "}\n",
       "\n",
       "// Register the function which deals with the matplotlib target/channel.\n",
       "// The kernel may be null if the page has been refreshed.\n",
       "if (IPython.notebook.kernel != null) {\n",
       "    IPython.notebook.kernel.comm_manager.register_target('matplotlib', mpl.mpl_figure_comm);\n",
       "}\n"
      ],
      "text/plain": [
       "<IPython.core.display.Javascript object>"
      ]
     },
     "metadata": {},
     "output_type": "display_data"
    },
    {
     "data": {
      "text/html": [
       "<img src=\"data:image/png;base64,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\" width=\"640\">"
      ],
      "text/plain": [
       "<IPython.core.display.HTML object>"
      ]
     },
     "metadata": {},
     "output_type": "display_data"
    }
   ],
   "source": [
    "plt.imshow(z)\n",
    "plt.colorbar()\n",
    "plt.show()"
   ]
  },
  {
   "cell_type": "markdown",
   "metadata": {},
   "source": [
    "$\\sum_i^n x+y$"
   ]
  },
  {
   "cell_type": "code",
   "execution_count": 122,
   "metadata": {},
   "outputs": [],
   "source": [
    "from mpl_toolkits.mplot3d import Axes3D\n",
    "from matplotlib import cm"
   ]
  },
  {
   "cell_type": "code",
   "execution_count": 123,
   "metadata": {
    "scrolled": true
   },
   "outputs": [
    {
     "data": {
      "application/javascript": [
       "/* Put everything inside the global mpl namespace */\n",
       "window.mpl = {};\n",
       "\n",
       "\n",
       "mpl.get_websocket_type = function() {\n",
       "    if (typeof(WebSocket) !== 'undefined') {\n",
       "        return WebSocket;\n",
       "    } else if (typeof(MozWebSocket) !== 'undefined') {\n",
       "        return MozWebSocket;\n",
       "    } else {\n",
       "        alert('Your browser does not have WebSocket support.' +\n",
       "              'Please try Chrome, Safari or Firefox ≥ 6. ' +\n",
       "              'Firefox 4 and 5 are also supported but you ' +\n",
       "              'have to enable WebSockets in about:config.');\n",
       "    };\n",
       "}\n",
       "\n",
       "mpl.figure = function(figure_id, websocket, ondownload, parent_element) {\n",
       "    this.id = figure_id;\n",
       "\n",
       "    this.ws = websocket;\n",
       "\n",
       "    this.supports_binary = (this.ws.binaryType != undefined);\n",
       "\n",
       "    if (!this.supports_binary) {\n",
       "        var warnings = document.getElementById(\"mpl-warnings\");\n",
       "        if (warnings) {\n",
       "            warnings.style.display = 'block';\n",
       "            warnings.textContent = (\n",
       "                \"This browser does not support binary websocket messages. \" +\n",
       "                    \"Performance may be slow.\");\n",
       "        }\n",
       "    }\n",
       "\n",
       "    this.imageObj = new Image();\n",
       "\n",
       "    this.context = undefined;\n",
       "    this.message = undefined;\n",
       "    this.canvas = undefined;\n",
       "    this.rubberband_canvas = undefined;\n",
       "    this.rubberband_context = undefined;\n",
       "    this.format_dropdown = undefined;\n",
       "\n",
       "    this.image_mode = 'full';\n",
       "\n",
       "    this.root = $('<div/>');\n",
       "    this._root_extra_style(this.root)\n",
       "    this.root.attr('style', 'display: inline-block');\n",
       "\n",
       "    $(parent_element).append(this.root);\n",
       "\n",
       "    this._init_header(this);\n",
       "    this._init_canvas(this);\n",
       "    this._init_toolbar(this);\n",
       "\n",
       "    var fig = this;\n",
       "\n",
       "    this.waiting = false;\n",
       "\n",
       "    this.ws.onopen =  function () {\n",
       "            fig.send_message(\"supports_binary\", {value: fig.supports_binary});\n",
       "            fig.send_message(\"send_image_mode\", {});\n",
       "            if (mpl.ratio != 1) {\n",
       "                fig.send_message(\"set_dpi_ratio\", {'dpi_ratio': mpl.ratio});\n",
       "            }\n",
       "            fig.send_message(\"refresh\", {});\n",
       "        }\n",
       "\n",
       "    this.imageObj.onload = function() {\n",
       "            if (fig.image_mode == 'full') {\n",
       "                // Full images could contain transparency (where diff images\n",
       "                // almost always do), so we need to clear the canvas so that\n",
       "                // there is no ghosting.\n",
       "                fig.context.clearRect(0, 0, fig.canvas.width, fig.canvas.height);\n",
       "            }\n",
       "            fig.context.drawImage(fig.imageObj, 0, 0);\n",
       "        };\n",
       "\n",
       "    this.imageObj.onunload = function() {\n",
       "        fig.ws.close();\n",
       "    }\n",
       "\n",
       "    this.ws.onmessage = this._make_on_message_function(this);\n",
       "\n",
       "    this.ondownload = ondownload;\n",
       "}\n",
       "\n",
       "mpl.figure.prototype._init_header = function() {\n",
       "    var titlebar = $(\n",
       "        '<div class=\"ui-dialog-titlebar ui-widget-header ui-corner-all ' +\n",
       "        'ui-helper-clearfix\"/>');\n",
       "    var titletext = $(\n",
       "        '<div class=\"ui-dialog-title\" style=\"width: 100%; ' +\n",
       "        'text-align: center; padding: 3px;\"/>');\n",
       "    titlebar.append(titletext)\n",
       "    this.root.append(titlebar);\n",
       "    this.header = titletext[0];\n",
       "}\n",
       "\n",
       "\n",
       "\n",
       "mpl.figure.prototype._canvas_extra_style = function(canvas_div) {\n",
       "\n",
       "}\n",
       "\n",
       "\n",
       "mpl.figure.prototype._root_extra_style = function(canvas_div) {\n",
       "\n",
       "}\n",
       "\n",
       "mpl.figure.prototype._init_canvas = function() {\n",
       "    var fig = this;\n",
       "\n",
       "    var canvas_div = $('<div/>');\n",
       "\n",
       "    canvas_div.attr('style', 'position: relative; clear: both; outline: 0');\n",
       "\n",
       "    function canvas_keyboard_event(event) {\n",
       "        return fig.key_event(event, event['data']);\n",
       "    }\n",
       "\n",
       "    canvas_div.keydown('key_press', canvas_keyboard_event);\n",
       "    canvas_div.keyup('key_release', canvas_keyboard_event);\n",
       "    this.canvas_div = canvas_div\n",
       "    this._canvas_extra_style(canvas_div)\n",
       "    this.root.append(canvas_div);\n",
       "\n",
       "    var canvas = $('<canvas/>');\n",
       "    canvas.addClass('mpl-canvas');\n",
       "    canvas.attr('style', \"left: 0; top: 0; z-index: 0; outline: 0\")\n",
       "\n",
       "    this.canvas = canvas[0];\n",
       "    this.context = canvas[0].getContext(\"2d\");\n",
       "\n",
       "    var backingStore = this.context.backingStorePixelRatio ||\n",
       "\tthis.context.webkitBackingStorePixelRatio ||\n",
       "\tthis.context.mozBackingStorePixelRatio ||\n",
       "\tthis.context.msBackingStorePixelRatio ||\n",
       "\tthis.context.oBackingStorePixelRatio ||\n",
       "\tthis.context.backingStorePixelRatio || 1;\n",
       "\n",
       "    mpl.ratio = (window.devicePixelRatio || 1) / backingStore;\n",
       "\n",
       "    var rubberband = $('<canvas/>');\n",
       "    rubberband.attr('style', \"position: absolute; left: 0; top: 0; z-index: 1;\")\n",
       "\n",
       "    var pass_mouse_events = true;\n",
       "\n",
       "    canvas_div.resizable({\n",
       "        start: function(event, ui) {\n",
       "            pass_mouse_events = false;\n",
       "        },\n",
       "        resize: function(event, ui) {\n",
       "            fig.request_resize(ui.size.width, ui.size.height);\n",
       "        },\n",
       "        stop: function(event, ui) {\n",
       "            pass_mouse_events = true;\n",
       "            fig.request_resize(ui.size.width, ui.size.height);\n",
       "        },\n",
       "    });\n",
       "\n",
       "    function mouse_event_fn(event) {\n",
       "        if (pass_mouse_events)\n",
       "            return fig.mouse_event(event, event['data']);\n",
       "    }\n",
       "\n",
       "    rubberband.mousedown('button_press', mouse_event_fn);\n",
       "    rubberband.mouseup('button_release', mouse_event_fn);\n",
       "    // Throttle sequential mouse events to 1 every 20ms.\n",
       "    rubberband.mousemove('motion_notify', mouse_event_fn);\n",
       "\n",
       "    rubberband.mouseenter('figure_enter', mouse_event_fn);\n",
       "    rubberband.mouseleave('figure_leave', mouse_event_fn);\n",
       "\n",
       "    canvas_div.on(\"wheel\", function (event) {\n",
       "        event = event.originalEvent;\n",
       "        event['data'] = 'scroll'\n",
       "        if (event.deltaY < 0) {\n",
       "            event.step = 1;\n",
       "        } else {\n",
       "            event.step = -1;\n",
       "        }\n",
       "        mouse_event_fn(event);\n",
       "    });\n",
       "\n",
       "    canvas_div.append(canvas);\n",
       "    canvas_div.append(rubberband);\n",
       "\n",
       "    this.rubberband = rubberband;\n",
       "    this.rubberband_canvas = rubberband[0];\n",
       "    this.rubberband_context = rubberband[0].getContext(\"2d\");\n",
       "    this.rubberband_context.strokeStyle = \"#000000\";\n",
       "\n",
       "    this._resize_canvas = function(width, height) {\n",
       "        // Keep the size of the canvas, canvas container, and rubber band\n",
       "        // canvas in synch.\n",
       "        canvas_div.css('width', width)\n",
       "        canvas_div.css('height', height)\n",
       "\n",
       "        canvas.attr('width', width * mpl.ratio);\n",
       "        canvas.attr('height', height * mpl.ratio);\n",
       "        canvas.attr('style', 'width: ' + width + 'px; height: ' + height + 'px;');\n",
       "\n",
       "        rubberband.attr('width', width);\n",
       "        rubberband.attr('height', height);\n",
       "    }\n",
       "\n",
       "    // Set the figure to an initial 600x600px, this will subsequently be updated\n",
       "    // upon first draw.\n",
       "    this._resize_canvas(600, 600);\n",
       "\n",
       "    // Disable right mouse context menu.\n",
       "    $(this.rubberband_canvas).bind(\"contextmenu\",function(e){\n",
       "        return false;\n",
       "    });\n",
       "\n",
       "    function set_focus () {\n",
       "        canvas.focus();\n",
       "        canvas_div.focus();\n",
       "    }\n",
       "\n",
       "    window.setTimeout(set_focus, 100);\n",
       "}\n",
       "\n",
       "mpl.figure.prototype._init_toolbar = function() {\n",
       "    var fig = this;\n",
       "\n",
       "    var nav_element = $('<div/>')\n",
       "    nav_element.attr('style', 'width: 100%');\n",
       "    this.root.append(nav_element);\n",
       "\n",
       "    // Define a callback function for later on.\n",
       "    function toolbar_event(event) {\n",
       "        return fig.toolbar_button_onclick(event['data']);\n",
       "    }\n",
       "    function toolbar_mouse_event(event) {\n",
       "        return fig.toolbar_button_onmouseover(event['data']);\n",
       "    }\n",
       "\n",
       "    for(var toolbar_ind in mpl.toolbar_items) {\n",
       "        var name = mpl.toolbar_items[toolbar_ind][0];\n",
       "        var tooltip = mpl.toolbar_items[toolbar_ind][1];\n",
       "        var image = mpl.toolbar_items[toolbar_ind][2];\n",
       "        var method_name = mpl.toolbar_items[toolbar_ind][3];\n",
       "\n",
       "        if (!name) {\n",
       "            // put a spacer in here.\n",
       "            continue;\n",
       "        }\n",
       "        var button = $('<button/>');\n",
       "        button.addClass('ui-button ui-widget ui-state-default ui-corner-all ' +\n",
       "                        'ui-button-icon-only');\n",
       "        button.attr('role', 'button');\n",
       "        button.attr('aria-disabled', 'false');\n",
       "        button.click(method_name, toolbar_event);\n",
       "        button.mouseover(tooltip, toolbar_mouse_event);\n",
       "\n",
       "        var icon_img = $('<span/>');\n",
       "        icon_img.addClass('ui-button-icon-primary ui-icon');\n",
       "        icon_img.addClass(image);\n",
       "        icon_img.addClass('ui-corner-all');\n",
       "\n",
       "        var tooltip_span = $('<span/>');\n",
       "        tooltip_span.addClass('ui-button-text');\n",
       "        tooltip_span.html(tooltip);\n",
       "\n",
       "        button.append(icon_img);\n",
       "        button.append(tooltip_span);\n",
       "\n",
       "        nav_element.append(button);\n",
       "    }\n",
       "\n",
       "    var fmt_picker_span = $('<span/>');\n",
       "\n",
       "    var fmt_picker = $('<select/>');\n",
       "    fmt_picker.addClass('mpl-toolbar-option ui-widget ui-widget-content');\n",
       "    fmt_picker_span.append(fmt_picker);\n",
       "    nav_element.append(fmt_picker_span);\n",
       "    this.format_dropdown = fmt_picker[0];\n",
       "\n",
       "    for (var ind in mpl.extensions) {\n",
       "        var fmt = mpl.extensions[ind];\n",
       "        var option = $(\n",
       "            '<option/>', {selected: fmt === mpl.default_extension}).html(fmt);\n",
       "        fmt_picker.append(option)\n",
       "    }\n",
       "\n",
       "    // Add hover states to the ui-buttons\n",
       "    $( \".ui-button\" ).hover(\n",
       "        function() { $(this).addClass(\"ui-state-hover\");},\n",
       "        function() { $(this).removeClass(\"ui-state-hover\");}\n",
       "    );\n",
       "\n",
       "    var status_bar = $('<span class=\"mpl-message\"/>');\n",
       "    nav_element.append(status_bar);\n",
       "    this.message = status_bar[0];\n",
       "}\n",
       "\n",
       "mpl.figure.prototype.request_resize = function(x_pixels, y_pixels) {\n",
       "    // Request matplotlib to resize the figure. Matplotlib will then trigger a resize in the client,\n",
       "    // which will in turn request a refresh of the image.\n",
       "    this.send_message('resize', {'width': x_pixels, 'height': y_pixels});\n",
       "}\n",
       "\n",
       "mpl.figure.prototype.send_message = function(type, properties) {\n",
       "    properties['type'] = type;\n",
       "    properties['figure_id'] = this.id;\n",
       "    this.ws.send(JSON.stringify(properties));\n",
       "}\n",
       "\n",
       "mpl.figure.prototype.send_draw_message = function() {\n",
       "    if (!this.waiting) {\n",
       "        this.waiting = true;\n",
       "        this.ws.send(JSON.stringify({type: \"draw\", figure_id: this.id}));\n",
       "    }\n",
       "}\n",
       "\n",
       "\n",
       "mpl.figure.prototype.handle_save = function(fig, msg) {\n",
       "    var format_dropdown = fig.format_dropdown;\n",
       "    var format = format_dropdown.options[format_dropdown.selectedIndex].value;\n",
       "    fig.ondownload(fig, format);\n",
       "}\n",
       "\n",
       "\n",
       "mpl.figure.prototype.handle_resize = function(fig, msg) {\n",
       "    var size = msg['size'];\n",
       "    if (size[0] != fig.canvas.width || size[1] != fig.canvas.height) {\n",
       "        fig._resize_canvas(size[0], size[1]);\n",
       "        fig.send_message(\"refresh\", {});\n",
       "    };\n",
       "}\n",
       "\n",
       "mpl.figure.prototype.handle_rubberband = function(fig, msg) {\n",
       "    var x0 = msg['x0'] / mpl.ratio;\n",
       "    var y0 = (fig.canvas.height - msg['y0']) / mpl.ratio;\n",
       "    var x1 = msg['x1'] / mpl.ratio;\n",
       "    var y1 = (fig.canvas.height - msg['y1']) / mpl.ratio;\n",
       "    x0 = Math.floor(x0) + 0.5;\n",
       "    y0 = Math.floor(y0) + 0.5;\n",
       "    x1 = Math.floor(x1) + 0.5;\n",
       "    y1 = Math.floor(y1) + 0.5;\n",
       "    var min_x = Math.min(x0, x1);\n",
       "    var min_y = Math.min(y0, y1);\n",
       "    var width = Math.abs(x1 - x0);\n",
       "    var height = Math.abs(y1 - y0);\n",
       "\n",
       "    fig.rubberband_context.clearRect(\n",
       "        0, 0, fig.canvas.width, fig.canvas.height);\n",
       "\n",
       "    fig.rubberband_context.strokeRect(min_x, min_y, width, height);\n",
       "}\n",
       "\n",
       "mpl.figure.prototype.handle_figure_label = function(fig, msg) {\n",
       "    // Updates the figure title.\n",
       "    fig.header.textContent = msg['label'];\n",
       "}\n",
       "\n",
       "mpl.figure.prototype.handle_cursor = function(fig, msg) {\n",
       "    var cursor = msg['cursor'];\n",
       "    switch(cursor)\n",
       "    {\n",
       "    case 0:\n",
       "        cursor = 'pointer';\n",
       "        break;\n",
       "    case 1:\n",
       "        cursor = 'default';\n",
       "        break;\n",
       "    case 2:\n",
       "        cursor = 'crosshair';\n",
       "        break;\n",
       "    case 3:\n",
       "        cursor = 'move';\n",
       "        break;\n",
       "    }\n",
       "    fig.rubberband_canvas.style.cursor = cursor;\n",
       "}\n",
       "\n",
       "mpl.figure.prototype.handle_message = function(fig, msg) {\n",
       "    fig.message.textContent = msg['message'];\n",
       "}\n",
       "\n",
       "mpl.figure.prototype.handle_draw = function(fig, msg) {\n",
       "    // Request the server to send over a new figure.\n",
       "    fig.send_draw_message();\n",
       "}\n",
       "\n",
       "mpl.figure.prototype.handle_image_mode = function(fig, msg) {\n",
       "    fig.image_mode = msg['mode'];\n",
       "}\n",
       "\n",
       "mpl.figure.prototype.updated_canvas_event = function() {\n",
       "    // Called whenever the canvas gets updated.\n",
       "    this.send_message(\"ack\", {});\n",
       "}\n",
       "\n",
       "// A function to construct a web socket function for onmessage handling.\n",
       "// Called in the figure constructor.\n",
       "mpl.figure.prototype._make_on_message_function = function(fig) {\n",
       "    return function socket_on_message(evt) {\n",
       "        if (evt.data instanceof Blob) {\n",
       "            /* FIXME: We get \"Resource interpreted as Image but\n",
       "             * transferred with MIME type text/plain:\" errors on\n",
       "             * Chrome.  But how to set the MIME type?  It doesn't seem\n",
       "             * to be part of the websocket stream */\n",
       "            evt.data.type = \"image/png\";\n",
       "\n",
       "            /* Free the memory for the previous frames */\n",
       "            if (fig.imageObj.src) {\n",
       "                (window.URL || window.webkitURL).revokeObjectURL(\n",
       "                    fig.imageObj.src);\n",
       "            }\n",
       "\n",
       "            fig.imageObj.src = (window.URL || window.webkitURL).createObjectURL(\n",
       "                evt.data);\n",
       "            fig.updated_canvas_event();\n",
       "            fig.waiting = false;\n",
       "            return;\n",
       "        }\n",
       "        else if (typeof evt.data === 'string' && evt.data.slice(0, 21) == \"data:image/png;base64\") {\n",
       "            fig.imageObj.src = evt.data;\n",
       "            fig.updated_canvas_event();\n",
       "            fig.waiting = false;\n",
       "            return;\n",
       "        }\n",
       "\n",
       "        var msg = JSON.parse(evt.data);\n",
       "        var msg_type = msg['type'];\n",
       "\n",
       "        // Call the  \"handle_{type}\" callback, which takes\n",
       "        // the figure and JSON message as its only arguments.\n",
       "        try {\n",
       "            var callback = fig[\"handle_\" + msg_type];\n",
       "        } catch (e) {\n",
       "            console.log(\"No handler for the '\" + msg_type + \"' message type: \", msg);\n",
       "            return;\n",
       "        }\n",
       "\n",
       "        if (callback) {\n",
       "            try {\n",
       "                // console.log(\"Handling '\" + msg_type + \"' message: \", msg);\n",
       "                callback(fig, msg);\n",
       "            } catch (e) {\n",
       "                console.log(\"Exception inside the 'handler_\" + msg_type + \"' callback:\", e, e.stack, msg);\n",
       "            }\n",
       "        }\n",
       "    };\n",
       "}\n",
       "\n",
       "// from http://stackoverflow.com/questions/1114465/getting-mouse-location-in-canvas\n",
       "mpl.findpos = function(e) {\n",
       "    //this section is from http://www.quirksmode.org/js/events_properties.html\n",
       "    var targ;\n",
       "    if (!e)\n",
       "        e = window.event;\n",
       "    if (e.target)\n",
       "        targ = e.target;\n",
       "    else if (e.srcElement)\n",
       "        targ = e.srcElement;\n",
       "    if (targ.nodeType == 3) // defeat Safari bug\n",
       "        targ = targ.parentNode;\n",
       "\n",
       "    // jQuery normalizes the pageX and pageY\n",
       "    // pageX,Y are the mouse positions relative to the document\n",
       "    // offset() returns the position of the element relative to the document\n",
       "    var x = e.pageX - $(targ).offset().left;\n",
       "    var y = e.pageY - $(targ).offset().top;\n",
       "\n",
       "    return {\"x\": x, \"y\": y};\n",
       "};\n",
       "\n",
       "/*\n",
       " * return a copy of an object with only non-object keys\n",
       " * we need this to avoid circular references\n",
       " * http://stackoverflow.com/a/24161582/3208463\n",
       " */\n",
       "function simpleKeys (original) {\n",
       "  return Object.keys(original).reduce(function (obj, key) {\n",
       "    if (typeof original[key] !== 'object')\n",
       "        obj[key] = original[key]\n",
       "    return obj;\n",
       "  }, {});\n",
       "}\n",
       "\n",
       "mpl.figure.prototype.mouse_event = function(event, name) {\n",
       "    var canvas_pos = mpl.findpos(event)\n",
       "\n",
       "    if (name === 'button_press')\n",
       "    {\n",
       "        this.canvas.focus();\n",
       "        this.canvas_div.focus();\n",
       "    }\n",
       "\n",
       "    var x = canvas_pos.x * mpl.ratio;\n",
       "    var y = canvas_pos.y * mpl.ratio;\n",
       "\n",
       "    this.send_message(name, {x: x, y: y, button: event.button,\n",
       "                             step: event.step,\n",
       "                             guiEvent: simpleKeys(event)});\n",
       "\n",
       "    /* This prevents the web browser from automatically changing to\n",
       "     * the text insertion cursor when the button is pressed.  We want\n",
       "     * to control all of the cursor setting manually through the\n",
       "     * 'cursor' event from matplotlib */\n",
       "    event.preventDefault();\n",
       "    return false;\n",
       "}\n",
       "\n",
       "mpl.figure.prototype._key_event_extra = function(event, name) {\n",
       "    // Handle any extra behaviour associated with a key event\n",
       "}\n",
       "\n",
       "mpl.figure.prototype.key_event = function(event, name) {\n",
       "\n",
       "    // Prevent repeat events\n",
       "    if (name == 'key_press')\n",
       "    {\n",
       "        if (event.which === this._key)\n",
       "            return;\n",
       "        else\n",
       "            this._key = event.which;\n",
       "    }\n",
       "    if (name == 'key_release')\n",
       "        this._key = null;\n",
       "\n",
       "    var value = '';\n",
       "    if (event.ctrlKey && event.which != 17)\n",
       "        value += \"ctrl+\";\n",
       "    if (event.altKey && event.which != 18)\n",
       "        value += \"alt+\";\n",
       "    if (event.shiftKey && event.which != 16)\n",
       "        value += \"shift+\";\n",
       "\n",
       "    value += 'k';\n",
       "    value += event.which.toString();\n",
       "\n",
       "    this._key_event_extra(event, name);\n",
       "\n",
       "    this.send_message(name, {key: value,\n",
       "                             guiEvent: simpleKeys(event)});\n",
       "    return false;\n",
       "}\n",
       "\n",
       "mpl.figure.prototype.toolbar_button_onclick = function(name) {\n",
       "    if (name == 'download') {\n",
       "        this.handle_save(this, null);\n",
       "    } else {\n",
       "        this.send_message(\"toolbar_button\", {name: name});\n",
       "    }\n",
       "};\n",
       "\n",
       "mpl.figure.prototype.toolbar_button_onmouseover = function(tooltip) {\n",
       "    this.message.textContent = tooltip;\n",
       "};\n",
       "mpl.toolbar_items = [[\"Home\", \"Reset original view\", \"fa fa-home icon-home\", \"home\"], [\"Back\", \"Back to previous view\", \"fa fa-arrow-left icon-arrow-left\", \"back\"], [\"Forward\", \"Forward to next view\", \"fa fa-arrow-right icon-arrow-right\", \"forward\"], [\"\", \"\", \"\", \"\"], [\"Pan\", \"Pan axes with left mouse, zoom with right\", \"fa fa-arrows icon-move\", \"pan\"], [\"Zoom\", \"Zoom to rectangle\", \"fa fa-square-o icon-check-empty\", \"zoom\"], [\"\", \"\", \"\", \"\"], [\"Download\", \"Download plot\", \"fa fa-floppy-o icon-save\", \"download\"]];\n",
       "\n",
       "mpl.extensions = [\"eps\", \"pdf\", \"png\", \"ps\", \"raw\", \"svg\"];\n",
       "\n",
       "mpl.default_extension = \"png\";var comm_websocket_adapter = function(comm) {\n",
       "    // Create a \"websocket\"-like object which calls the given IPython comm\n",
       "    // object with the appropriate methods. Currently this is a non binary\n",
       "    // socket, so there is still some room for performance tuning.\n",
       "    var ws = {};\n",
       "\n",
       "    ws.close = function() {\n",
       "        comm.close()\n",
       "    };\n",
       "    ws.send = function(m) {\n",
       "        //console.log('sending', m);\n",
       "        comm.send(m);\n",
       "    };\n",
       "    // Register the callback with on_msg.\n",
       "    comm.on_msg(function(msg) {\n",
       "        //console.log('receiving', msg['content']['data'], msg);\n",
       "        // Pass the mpl event to the overridden (by mpl) onmessage function.\n",
       "        ws.onmessage(msg['content']['data'])\n",
       "    });\n",
       "    return ws;\n",
       "}\n",
       "\n",
       "mpl.mpl_figure_comm = function(comm, msg) {\n",
       "    // This is the function which gets called when the mpl process\n",
       "    // starts-up an IPython Comm through the \"matplotlib\" channel.\n",
       "\n",
       "    var id = msg.content.data.id;\n",
       "    // Get hold of the div created by the display call when the Comm\n",
       "    // socket was opened in Python.\n",
       "    var element = $(\"#\" + id);\n",
       "    var ws_proxy = comm_websocket_adapter(comm)\n",
       "\n",
       "    function ondownload(figure, format) {\n",
       "        window.open(figure.imageObj.src);\n",
       "    }\n",
       "\n",
       "    var fig = new mpl.figure(id, ws_proxy,\n",
       "                           ondownload,\n",
       "                           element.get(0));\n",
       "\n",
       "    // Call onopen now - mpl needs it, as it is assuming we've passed it a real\n",
       "    // web socket which is closed, not our websocket->open comm proxy.\n",
       "    ws_proxy.onopen();\n",
       "\n",
       "    fig.parent_element = element.get(0);\n",
       "    fig.cell_info = mpl.find_output_cell(\"<div id='\" + id + \"'></div>\");\n",
       "    if (!fig.cell_info) {\n",
       "        console.error(\"Failed to find cell for figure\", id, fig);\n",
       "        return;\n",
       "    }\n",
       "\n",
       "    var output_index = fig.cell_info[2]\n",
       "    var cell = fig.cell_info[0];\n",
       "\n",
       "};\n",
       "\n",
       "mpl.figure.prototype.handle_close = function(fig, msg) {\n",
       "    var width = fig.canvas.width/mpl.ratio\n",
       "    fig.root.unbind('remove')\n",
       "\n",
       "    // Update the output cell to use the data from the current canvas.\n",
       "    fig.push_to_output();\n",
       "    var dataURL = fig.canvas.toDataURL();\n",
       "    // Re-enable the keyboard manager in IPython - without this line, in FF,\n",
       "    // the notebook keyboard shortcuts fail.\n",
       "    IPython.keyboard_manager.enable()\n",
       "    $(fig.parent_element).html('<img src=\"' + dataURL + '\" width=\"' + width + '\">');\n",
       "    fig.close_ws(fig, msg);\n",
       "}\n",
       "\n",
       "mpl.figure.prototype.close_ws = function(fig, msg){\n",
       "    fig.send_message('closing', msg);\n",
       "    // fig.ws.close()\n",
       "}\n",
       "\n",
       "mpl.figure.prototype.push_to_output = function(remove_interactive) {\n",
       "    // Turn the data on the canvas into data in the output cell.\n",
       "    var width = this.canvas.width/mpl.ratio\n",
       "    var dataURL = this.canvas.toDataURL();\n",
       "    this.cell_info[1]['text/html'] = '<img src=\"' + dataURL + '\" width=\"' + width + '\">';\n",
       "}\n",
       "\n",
       "mpl.figure.prototype.updated_canvas_event = function() {\n",
       "    // Tell IPython that the notebook contents must change.\n",
       "    IPython.notebook.set_dirty(true);\n",
       "    this.send_message(\"ack\", {});\n",
       "    var fig = this;\n",
       "    // Wait a second, then push the new image to the DOM so\n",
       "    // that it is saved nicely (might be nice to debounce this).\n",
       "    setTimeout(function () { fig.push_to_output() }, 1000);\n",
       "}\n",
       "\n",
       "mpl.figure.prototype._init_toolbar = function() {\n",
       "    var fig = this;\n",
       "\n",
       "    var nav_element = $('<div/>')\n",
       "    nav_element.attr('style', 'width: 100%');\n",
       "    this.root.append(nav_element);\n",
       "\n",
       "    // Define a callback function for later on.\n",
       "    function toolbar_event(event) {\n",
       "        return fig.toolbar_button_onclick(event['data']);\n",
       "    }\n",
       "    function toolbar_mouse_event(event) {\n",
       "        return fig.toolbar_button_onmouseover(event['data']);\n",
       "    }\n",
       "\n",
       "    for(var toolbar_ind in mpl.toolbar_items){\n",
       "        var name = mpl.toolbar_items[toolbar_ind][0];\n",
       "        var tooltip = mpl.toolbar_items[toolbar_ind][1];\n",
       "        var image = mpl.toolbar_items[toolbar_ind][2];\n",
       "        var method_name = mpl.toolbar_items[toolbar_ind][3];\n",
       "\n",
       "        if (!name) { continue; };\n",
       "\n",
       "        var button = $('<button class=\"btn btn-default\" href=\"#\" title=\"' + name + '\"><i class=\"fa ' + image + ' fa-lg\"></i></button>');\n",
       "        button.click(method_name, toolbar_event);\n",
       "        button.mouseover(tooltip, toolbar_mouse_event);\n",
       "        nav_element.append(button);\n",
       "    }\n",
       "\n",
       "    // Add the status bar.\n",
       "    var status_bar = $('<span class=\"mpl-message\" style=\"text-align:right; float: right;\"/>');\n",
       "    nav_element.append(status_bar);\n",
       "    this.message = status_bar[0];\n",
       "\n",
       "    // Add the close button to the window.\n",
       "    var buttongrp = $('<div class=\"btn-group inline pull-right\"></div>');\n",
       "    var button = $('<button class=\"btn btn-mini btn-primary\" href=\"#\" title=\"Stop Interaction\"><i class=\"fa fa-power-off icon-remove icon-large\"></i></button>');\n",
       "    button.click(function (evt) { fig.handle_close(fig, {}); } );\n",
       "    button.mouseover('Stop Interaction', toolbar_mouse_event);\n",
       "    buttongrp.append(button);\n",
       "    var titlebar = this.root.find($('.ui-dialog-titlebar'));\n",
       "    titlebar.prepend(buttongrp);\n",
       "}\n",
       "\n",
       "mpl.figure.prototype._root_extra_style = function(el){\n",
       "    var fig = this\n",
       "    el.on(\"remove\", function(){\n",
       "\tfig.close_ws(fig, {});\n",
       "    });\n",
       "}\n",
       "\n",
       "mpl.figure.prototype._canvas_extra_style = function(el){\n",
       "    // this is important to make the div 'focusable\n",
       "    el.attr('tabindex', 0)\n",
       "    // reach out to IPython and tell the keyboard manager to turn it's self\n",
       "    // off when our div gets focus\n",
       "\n",
       "    // location in version 3\n",
       "    if (IPython.notebook.keyboard_manager) {\n",
       "        IPython.notebook.keyboard_manager.register_events(el);\n",
       "    }\n",
       "    else {\n",
       "        // location in version 2\n",
       "        IPython.keyboard_manager.register_events(el);\n",
       "    }\n",
       "\n",
       "}\n",
       "\n",
       "mpl.figure.prototype._key_event_extra = function(event, name) {\n",
       "    var manager = IPython.notebook.keyboard_manager;\n",
       "    if (!manager)\n",
       "        manager = IPython.keyboard_manager;\n",
       "\n",
       "    // Check for shift+enter\n",
       "    if (event.shiftKey && event.which == 13) {\n",
       "        this.canvas_div.blur();\n",
       "        event.shiftKey = false;\n",
       "        // Send a \"J\" for go to next cell\n",
       "        event.which = 74;\n",
       "        event.keyCode = 74;\n",
       "        manager.command_mode();\n",
       "        manager.handle_keydown(event);\n",
       "    }\n",
       "}\n",
       "\n",
       "mpl.figure.prototype.handle_save = function(fig, msg) {\n",
       "    fig.ondownload(fig, null);\n",
       "}\n",
       "\n",
       "\n",
       "mpl.find_output_cell = function(html_output) {\n",
       "    // Return the cell and output element which can be found *uniquely* in the notebook.\n",
       "    // Note - this is a bit hacky, but it is done because the \"notebook_saving.Notebook\"\n",
       "    // IPython event is triggered only after the cells have been serialised, which for\n",
       "    // our purposes (turning an active figure into a static one), is too late.\n",
       "    var cells = IPython.notebook.get_cells();\n",
       "    var ncells = cells.length;\n",
       "    for (var i=0; i<ncells; i++) {\n",
       "        var cell = cells[i];\n",
       "        if (cell.cell_type === 'code'){\n",
       "            for (var j=0; j<cell.output_area.outputs.length; j++) {\n",
       "                var data = cell.output_area.outputs[j];\n",
       "                if (data.data) {\n",
       "                    // IPython >= 3 moved mimebundle to data attribute of output\n",
       "                    data = data.data;\n",
       "                }\n",
       "                if (data['text/html'] == html_output) {\n",
       "                    return [cell, data, j];\n",
       "                }\n",
       "            }\n",
       "        }\n",
       "    }\n",
       "}\n",
       "\n",
       "// Register the function which deals with the matplotlib target/channel.\n",
       "// The kernel may be null if the page has been refreshed.\n",
       "if (IPython.notebook.kernel != null) {\n",
       "    IPython.notebook.kernel.comm_manager.register_target('matplotlib', mpl.mpl_figure_comm);\n",
       "}\n"
      ],
      "text/plain": [
       "<IPython.core.display.Javascript object>"
      ]
     },
     "metadata": {},
     "output_type": "display_data"
    },
    {
     "data": {
      "text/html": [
       "<img src=\"data:image/png;base64,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\" width=\"400\">"
      ],
      "text/plain": [
       "<IPython.core.display.HTML object>"
      ]
     },
     "metadata": {},
     "output_type": "display_data"
    },
    {
     "data": {
      "text/plain": [
       "<mpl_toolkits.mplot3d.art3d.Poly3DCollection at 0x7f4e84946198>"
      ]
     },
     "execution_count": 123,
     "metadata": {},
     "output_type": "execute_result"
    }
   ],
   "source": [
    "fig = plt.figure(figsize=(4,3))\n",
    "ax = fig.gca(projection=\"3d\")\n",
    "ax.plot_surface(xs, ys, z, cmap=cm.coolwarm)"
   ]
  },
  {
   "cell_type": "code",
   "execution_count": 124,
   "metadata": {},
   "outputs": [],
   "source": [
    "n = np.random.uniform(0,1,size=10000)"
   ]
  },
  {
   "cell_type": "code",
   "execution_count": 125,
   "metadata": {},
   "outputs": [
    {
     "data": {
      "text/plain": [
       "array([0.54666071, 0.75259321, 0.69209463, ..., 0.59559509, 0.84575394,\n",
       "       0.38925067])"
      ]
     },
     "execution_count": 125,
     "metadata": {},
     "output_type": "execute_result"
    }
   ],
   "source": [
    "n"
   ]
  },
  {
   "cell_type": "code",
   "execution_count": 127,
   "metadata": {},
   "outputs": [],
   "source": [
    "n = n.reshape(10,1000)"
   ]
  },
  {
   "cell_type": "code",
   "execution_count": 128,
   "metadata": {},
   "outputs": [
    {
     "data": {
      "text/plain": [
       "array([[0.54666071, 0.75259321, 0.69209463, ..., 0.19157947, 0.07100516,\n",
       "        0.98000782],\n",
       "       [0.55412756, 0.49302195, 0.96779381, ..., 0.29999339, 0.30134716,\n",
       "        0.74881319],\n",
       "       [0.48534767, 0.90267173, 0.6369877 , ..., 0.61598335, 0.2120546 ,\n",
       "        0.54113735],\n",
       "       ...,\n",
       "       [0.65691857, 0.18955762, 0.84077304, ..., 0.25188385, 0.53453182,\n",
       "        0.49607302],\n",
       "       [0.72475389, 0.78056962, 0.3016596 , ..., 0.18429646, 0.53849875,\n",
       "        0.87008409],\n",
       "       [0.62807201, 0.1767275 , 0.25396852, ..., 0.59559509, 0.84575394,\n",
       "        0.38925067]])"
      ]
     },
     "execution_count": 128,
     "metadata": {},
     "output_type": "execute_result"
    }
   ],
   "source": [
    "n"
   ]
  },
  {
   "cell_type": "code",
   "execution_count": 129,
   "metadata": {},
   "outputs": [],
   "source": [
    "n = np.random.uniform(0,1,size=(10,1000))"
   ]
  },
  {
   "cell_type": "code",
   "execution_count": 130,
   "metadata": {},
   "outputs": [
    {
     "data": {
      "text/plain": [
       "array([[0.64661502, 0.34531104, 0.74425146, ..., 0.85100186, 0.16816437,\n",
       "        0.28196538],\n",
       "       [0.3032974 , 0.67931395, 0.73952098, ..., 0.41008665, 0.53869302,\n",
       "        0.2501189 ],\n",
       "       [0.9370471 , 0.0842448 , 0.471835  , ..., 0.11194487, 0.81377744,\n",
       "        0.71129472],\n",
       "       ...,\n",
       "       [0.56741065, 0.32519215, 0.46999587, ..., 0.19206064, 0.14004503,\n",
       "        0.0794577 ],\n",
       "       [0.88148098, 0.13241751, 0.86723216, ..., 0.87398036, 0.76701828,\n",
       "        0.41154824],\n",
       "       [0.23276979, 0.09062371, 0.32176788, ..., 0.92997235, 0.1485102 ,\n",
       "        0.17458773]])"
      ]
     },
     "execution_count": 130,
     "metadata": {},
     "output_type": "execute_result"
    }
   ],
   "source": [
    "n"
   ]
  },
  {
   "cell_type": "code",
   "execution_count": 131,
   "metadata": {},
   "outputs": [
    {
     "data": {
      "text/plain": [
       "0.5039174841700191"
      ]
     },
     "execution_count": 131,
     "metadata": {},
     "output_type": "execute_result"
    }
   ],
   "source": [
    "n.mean()"
   ]
  },
  {
   "cell_type": "code",
   "execution_count": 132,
   "metadata": {},
   "outputs": [
    {
     "data": {
      "text/plain": [
       "array([0.50048182, 0.51427518, 0.50241876, 0.51158755, 0.49060907,\n",
       "       0.50241087, 0.50077216, 0.50863583, 0.50824744, 0.49973614])"
      ]
     },
     "execution_count": 132,
     "metadata": {},
     "output_type": "execute_result"
    }
   ],
   "source": [
    "n.mean(axis=1)"
   ]
  },
  {
   "cell_type": "code",
   "execution_count": 134,
   "metadata": {},
   "outputs": [],
   "source": [
    "hijos = np.array([1,2,1,3,3,4,1,1,1])"
   ]
  },
  {
   "cell_type": "code",
   "execution_count": 136,
   "metadata": {},
   "outputs": [
    {
     "data": {
      "text/plain": [
       "(array([1, 2, 3, 4]), array([5, 1, 2, 1]))"
      ]
     },
     "execution_count": 136,
     "metadata": {},
     "output_type": "execute_result"
    }
   ],
   "source": [
    "np.unique(hijos, return_counts=True)"
   ]
  },
  {
   "cell_type": "code",
   "execution_count": 137,
   "metadata": {},
   "outputs": [
    {
     "data": {
      "text/plain": [
       "array(['intranet', 'web', 'tienda', 'tienda'], dtype=object)"
      ]
     },
     "execution_count": 137,
     "metadata": {},
     "output_type": "execute_result"
    }
   ],
   "source": [
    "compras"
   ]
  },
  {
   "cell_type": "code",
   "execution_count": 142,
   "metadata": {},
   "outputs": [],
   "source": [
    "np.save('array_ejemplo.npy', datos)"
   ]
  },
  {
   "cell_type": "code",
   "execution_count": 143,
   "metadata": {},
   "outputs": [
    {
     "name": "stdout",
     "output_type": "stream",
     "text": [
      "total 648K\r\n",
      "-rw-rw-r--  1 dsc dsc 105K dic  1 10:53 1-12\r\n",
      "drwxr-xr-x 22 dsc dsc 4,0K mar 12  2018 anaconda3\r\n",
      "-rw-rw-r--  1 dsc dsc  135 dic  1 13:28 a.py\r\n",
      "-rw-rw-r--  1 dsc dsc  192 dic 14 19:37 array_ejemplo.npy\r\n",
      "-rw-rw-r--  1 dsc dsc   29 nov 30 19:01 aux.tsv\r\n",
      "-rw-rw-r--  1 dsc dsc 264K dic 14 19:35 Clase python.ipynb\r\n",
      "drwxr-x---  7 dsc dsc 4,0K mar 13  2018 Data\r\n",
      "-rw-rw-r--  1 dsc dsc   48 dic  9 12:49 data.csv\r\n",
      "-rw-r--r--  1 dsc dsc  701 mar 13  2018 derby.log\r\n",
      "drwxr-xr-x  2 dsc dsc 4,0K mar 13  2018 Desktop\r\n",
      "drwxr-xr-x  2 dsc dsc 4,0K mar 13  2018 Documents\r\n",
      "drwxr-xr-x  2 dsc dsc 4,0K nov 24 11:06 Downloads\r\n",
      "-rw-rw-r--  1 dsc dsc  54K dic  1 00:27 ejs19y20\r\n",
      "drwxrwxr-x  6 dsc dsc 4,0K nov 23 20:02 first_dir\r\n",
      "-rw-rw-r--  1 dsc dsc   10 nov 23 21:30 hola.txt\r\n",
      "drwxr-xr-x  5 dsc dsc 4,0K mar 13  2018 metastore_db\r\n",
      "drwxr-xr-x  2 dsc dsc 4,0K mar 13  2018 Music\r\n",
      "-rw-r--r--  1 dsc dsc 1,5K nov 23 23:59 people.csv\r\n",
      "drwxr-xr-x  2 dsc dsc 4,0K mar 13  2018 Pictures\r\n",
      "drwxr-xr-x  2 dsc dsc 4,0K mar 13  2018 Public\r\n",
      "-rw-rw-r--  1 dsc dsc  30K dic  1 16:56 quest\r\n",
      "-rw-rw-r--  1 dsc dsc  30K dic  2 00:47 quest2\r\n",
      "-rw-rw-r--  1 dsc dsc  20K dic  2 10:51 quest3\r\n",
      "-rw-r--r--  1 dsc dsc 1,1K nov 23 23:59 questions\r\n",
      "drwxrwxr-x  3 dsc dsc 4,0K mar 12  2018 R\r\n",
      "drwxr-xr-x  4 dsc dsc 4,0K nov 17 13:52 Repos\r\n",
      "drwxrwxr-x  2 dsc dsc 4,0K nov 30 20:03 scripts\r\n",
      "-rw-rw-r--  1 dsc dsc    8 nov 23 21:38 seq1.txt\r\n",
      "-rw-rw-r--  1 dsc dsc    6 nov 23 21:38 seq2.txt\r\n",
      "-rw-rw-r--  1 dsc dsc  16K nov 30 18:08 sql30-12\r\n",
      "-rw-r--r--  1 dsc dsc 3,1K nov 23 23:59 studies.csv\r\n",
      "-rw-r--r--  1 dsc dsc  358 nov 23 23:59 subjects.csv\r\n",
      "-rw-r--r--  1 dsc dsc  482 nov 23 23:59 teaches.csv\r\n",
      "drwxr-xr-x  2 dsc dsc 4,0K mar 13  2018 Templates\r\n",
      "drwxr-xr-x  2 dsc dsc 4,0K mar 13  2018 Videos\r\n"
     ]
    }
   ],
   "source": [
    "! ls -lh"
   ]
  },
  {
   "cell_type": "code",
   "execution_count": 144,
   "metadata": {},
   "outputs": [
    {
     "name": "stdout",
     "output_type": "stream",
     "text": [
      "�NUMPY\u0001\u0000v\u0000{'descr': '<f8', 'fortran_order': False, 'shape': (2, 4), }                                                          \r\n",
      "\u0000\u0000\u0000\u0000\u0000\u0000\"@\u0000\u0000\u0000\u0000\u0000\u0000�\u0000\u0000\u0000\u0000\u0000\u0000\b@\u0000\u0000\u0000\u0000\u0000\u0000\u0010@\u0000\u0000\u0000\u0000\u0000\u0000\"@\u0000\u0000\u0000\u0000\u0000\u0000\u0010@\u0000\u0000\u0000\u0000\u0000\u0000�?\u0000\u0000\u0000\u0000\u0000\u0000�?"
     ]
    }
   ],
   "source": [
    "! cat array_ejemplo.npy"
   ]
  },
  {
   "cell_type": "code",
   "execution_count": 145,
   "metadata": {},
   "outputs": [
    {
     "data": {
      "text/plain": [
       "array([[ 9., nan,  3.,  4.],\n",
       "       [ 9.,  4.,  1.,  1.]])"
      ]
     },
     "execution_count": 145,
     "metadata": {},
     "output_type": "execute_result"
    }
   ],
   "source": [
    "np.load('array_ejemplo.npy')"
   ]
  },
  {
   "cell_type": "code",
   "execution_count": 146,
   "metadata": {},
   "outputs": [
    {
     "data": {
      "text/plain": [
       "array([7. , 2.3, 1.3])"
      ]
     },
     "execution_count": 146,
     "metadata": {},
     "output_type": "execute_result"
    }
   ],
   "source": [
    "a"
   ]
  },
  {
   "cell_type": "code",
   "execution_count": 147,
   "metadata": {},
   "outputs": [],
   "source": [
    "a = np.array([[1,2],[3,4]])"
   ]
  },
  {
   "cell_type": "code",
   "execution_count": 148,
   "metadata": {},
   "outputs": [],
   "source": [
    "b = np.array([[3,4],[4,3]])"
   ]
  },
  {
   "cell_type": "code",
   "execution_count": 149,
   "metadata": {},
   "outputs": [
    {
     "data": {
      "text/plain": [
       "array([[11, 10],\n",
       "       [25, 24]])"
      ]
     },
     "execution_count": 149,
     "metadata": {},
     "output_type": "execute_result"
    }
   ],
   "source": [
    "a.dot(b) # Multiplicacion de matrices"
   ]
  },
  {
   "cell_type": "code",
   "execution_count": 152,
   "metadata": {},
   "outputs": [
    {
     "data": {
      "text/plain": [
       "array([[0., 0.],\n",
       "       [0., 0.],\n",
       "       [0., 0.]])"
      ]
     },
     "execution_count": 152,
     "metadata": {},
     "output_type": "execute_result"
    }
   ],
   "source": [
    "np.zeros((3,2))"
   ]
  },
  {
   "cell_type": "code",
   "execution_count": 153,
   "metadata": {},
   "outputs": [
    {
     "data": {
      "text/plain": [
       "array([[ 0.42452144, -1.3415535 ,  0.54355885,  1.08681847],\n",
       "       [-1.53151198, -0.07982761, -0.59222124, -0.98851649],\n",
       "       [-1.13212633, -0.68548233,  0.73650207, -1.28182054]])"
      ]
     },
     "execution_count": 153,
     "metadata": {},
     "output_type": "execute_result"
    }
   ],
   "source": [
    "np.random.normal(0, 1, (3,4))"
   ]
  },
  {
   "cell_type": "code",
   "execution_count": 154,
   "metadata": {},
   "outputs": [
    {
     "data": {
      "text/plain": [
       "array([[1., 0., 0.],\n",
       "       [0., 1., 0.],\n",
       "       [0., 0., 1.]])"
      ]
     },
     "execution_count": 154,
     "metadata": {},
     "output_type": "execute_result"
    }
   ],
   "source": [
    "np.identity(3)"
   ]
  },
  {
   "cell_type": "code",
   "execution_count": 155,
   "metadata": {},
   "outputs": [],
   "source": [
    "pesos = np.random.uniform(0, 1, (500,1000))\n",
    "diag = np.eye(10000)\n",
    "unos = np.ones(100)\n",
    "\n",
    "np.savez('arrays.npz', pesos=pesos, diag=diag, unos=unos)"
   ]
  },
  {
   "cell_type": "code",
   "execution_count": 156,
   "metadata": {},
   "outputs": [],
   "source": [
    "np.savez_compressed('arrays_c.npz', pesos=pesos, diag=diag, unos=unos)"
   ]
  },
  {
   "cell_type": "code",
   "execution_count": 157,
   "metadata": {},
   "outputs": [
    {
     "name": "stdout",
     "output_type": "stream",
     "text": [
      "-rw-rw-r-- 1 dsc dsc 4,4M dic 14 20:27 arrays_c.npz\r\n",
      "-rw-rw-r-- 1 dsc dsc 767M dic 14 20:25 arrays.npz\r\n"
     ]
    }
   ],
   "source": [
    "! ls -lh arrays*"
   ]
  },
  {
   "cell_type": "code",
   "execution_count": 158,
   "metadata": {},
   "outputs": [],
   "source": [
    "arrays_c = np.load('arrays_c.npz')"
   ]
  },
  {
   "cell_type": "code",
   "execution_count": 159,
   "metadata": {},
   "outputs": [
    {
     "data": {
      "text/plain": [
       "array([[0.07296715, 0.6142854 , 0.18762118, ..., 0.24117543, 0.28189656,\n",
       "        0.29685395],\n",
       "       [0.33235799, 0.23513964, 0.68098488, ..., 0.87353714, 0.79944135,\n",
       "        0.39518975],\n",
       "       [0.00130348, 0.43921977, 0.27200386, ..., 0.66233927, 0.4488106 ,\n",
       "        0.01523965],\n",
       "       ...,\n",
       "       [0.76070852, 0.58164614, 0.48033877, ..., 0.18831279, 0.02653423,\n",
       "        0.10080789],\n",
       "       [0.42592616, 0.77619321, 0.06648163, ..., 0.96205827, 0.10125638,\n",
       "        0.13588674],\n",
       "       [0.18876852, 0.9904312 , 0.83142456, ..., 0.85203588, 0.11889746,\n",
       "        0.36372555]])"
      ]
     },
     "execution_count": 159,
     "metadata": {},
     "output_type": "execute_result"
    }
   ],
   "source": [
    "arrays_c[\"pesos\"]"
   ]
  },
  {
   "cell_type": "code",
   "execution_count": 160,
   "metadata": {},
   "outputs": [],
   "source": [
    "! rm arrays*"
   ]
  },
  {
   "cell_type": "code",
   "execution_count": 161,
   "metadata": {},
   "outputs": [],
   "source": [
    "valores = np.array([1,1,1,13,4,2,5,1,1,2,2,4,4])"
   ]
  },
  {
   "cell_type": "code",
   "execution_count": 162,
   "metadata": {},
   "outputs": [
    {
     "data": {
      "text/plain": [
       "3"
      ]
     },
     "execution_count": 162,
     "metadata": {},
     "output_type": "execute_result"
    }
   ],
   "source": [
    "valores.argmax()"
   ]
  },
  {
   "cell_type": "code",
   "execution_count": 163,
   "metadata": {},
   "outputs": [
    {
     "data": {
      "text/plain": [
       "array([[3]])"
      ]
     },
     "execution_count": 163,
     "metadata": {},
     "output_type": "execute_result"
    }
   ],
   "source": [
    "np.argwhere(valores == valores.max())"
   ]
  },
  {
   "cell_type": "code",
   "execution_count": 166,
   "metadata": {},
   "outputs": [
    {
     "data": {
      "application/javascript": [
       "/* Put everything inside the global mpl namespace */\n",
       "window.mpl = {};\n",
       "\n",
       "\n",
       "mpl.get_websocket_type = function() {\n",
       "    if (typeof(WebSocket) !== 'undefined') {\n",
       "        return WebSocket;\n",
       "    } else if (typeof(MozWebSocket) !== 'undefined') {\n",
       "        return MozWebSocket;\n",
       "    } else {\n",
       "        alert('Your browser does not have WebSocket support.' +\n",
       "              'Please try Chrome, Safari or Firefox ≥ 6. ' +\n",
       "              'Firefox 4 and 5 are also supported but you ' +\n",
       "              'have to enable WebSockets in about:config.');\n",
       "    };\n",
       "}\n",
       "\n",
       "mpl.figure = function(figure_id, websocket, ondownload, parent_element) {\n",
       "    this.id = figure_id;\n",
       "\n",
       "    this.ws = websocket;\n",
       "\n",
       "    this.supports_binary = (this.ws.binaryType != undefined);\n",
       "\n",
       "    if (!this.supports_binary) {\n",
       "        var warnings = document.getElementById(\"mpl-warnings\");\n",
       "        if (warnings) {\n",
       "            warnings.style.display = 'block';\n",
       "            warnings.textContent = (\n",
       "                \"This browser does not support binary websocket messages. \" +\n",
       "                    \"Performance may be slow.\");\n",
       "        }\n",
       "    }\n",
       "\n",
       "    this.imageObj = new Image();\n",
       "\n",
       "    this.context = undefined;\n",
       "    this.message = undefined;\n",
       "    this.canvas = undefined;\n",
       "    this.rubberband_canvas = undefined;\n",
       "    this.rubberband_context = undefined;\n",
       "    this.format_dropdown = undefined;\n",
       "\n",
       "    this.image_mode = 'full';\n",
       "\n",
       "    this.root = $('<div/>');\n",
       "    this._root_extra_style(this.root)\n",
       "    this.root.attr('style', 'display: inline-block');\n",
       "\n",
       "    $(parent_element).append(this.root);\n",
       "\n",
       "    this._init_header(this);\n",
       "    this._init_canvas(this);\n",
       "    this._init_toolbar(this);\n",
       "\n",
       "    var fig = this;\n",
       "\n",
       "    this.waiting = false;\n",
       "\n",
       "    this.ws.onopen =  function () {\n",
       "            fig.send_message(\"supports_binary\", {value: fig.supports_binary});\n",
       "            fig.send_message(\"send_image_mode\", {});\n",
       "            if (mpl.ratio != 1) {\n",
       "                fig.send_message(\"set_dpi_ratio\", {'dpi_ratio': mpl.ratio});\n",
       "            }\n",
       "            fig.send_message(\"refresh\", {});\n",
       "        }\n",
       "\n",
       "    this.imageObj.onload = function() {\n",
       "            if (fig.image_mode == 'full') {\n",
       "                // Full images could contain transparency (where diff images\n",
       "                // almost always do), so we need to clear the canvas so that\n",
       "                // there is no ghosting.\n",
       "                fig.context.clearRect(0, 0, fig.canvas.width, fig.canvas.height);\n",
       "            }\n",
       "            fig.context.drawImage(fig.imageObj, 0, 0);\n",
       "        };\n",
       "\n",
       "    this.imageObj.onunload = function() {\n",
       "        fig.ws.close();\n",
       "    }\n",
       "\n",
       "    this.ws.onmessage = this._make_on_message_function(this);\n",
       "\n",
       "    this.ondownload = ondownload;\n",
       "}\n",
       "\n",
       "mpl.figure.prototype._init_header = function() {\n",
       "    var titlebar = $(\n",
       "        '<div class=\"ui-dialog-titlebar ui-widget-header ui-corner-all ' +\n",
       "        'ui-helper-clearfix\"/>');\n",
       "    var titletext = $(\n",
       "        '<div class=\"ui-dialog-title\" style=\"width: 100%; ' +\n",
       "        'text-align: center; padding: 3px;\"/>');\n",
       "    titlebar.append(titletext)\n",
       "    this.root.append(titlebar);\n",
       "    this.header = titletext[0];\n",
       "}\n",
       "\n",
       "\n",
       "\n",
       "mpl.figure.prototype._canvas_extra_style = function(canvas_div) {\n",
       "\n",
       "}\n",
       "\n",
       "\n",
       "mpl.figure.prototype._root_extra_style = function(canvas_div) {\n",
       "\n",
       "}\n",
       "\n",
       "mpl.figure.prototype._init_canvas = function() {\n",
       "    var fig = this;\n",
       "\n",
       "    var canvas_div = $('<div/>');\n",
       "\n",
       "    canvas_div.attr('style', 'position: relative; clear: both; outline: 0');\n",
       "\n",
       "    function canvas_keyboard_event(event) {\n",
       "        return fig.key_event(event, event['data']);\n",
       "    }\n",
       "\n",
       "    canvas_div.keydown('key_press', canvas_keyboard_event);\n",
       "    canvas_div.keyup('key_release', canvas_keyboard_event);\n",
       "    this.canvas_div = canvas_div\n",
       "    this._canvas_extra_style(canvas_div)\n",
       "    this.root.append(canvas_div);\n",
       "\n",
       "    var canvas = $('<canvas/>');\n",
       "    canvas.addClass('mpl-canvas');\n",
       "    canvas.attr('style', \"left: 0; top: 0; z-index: 0; outline: 0\")\n",
       "\n",
       "    this.canvas = canvas[0];\n",
       "    this.context = canvas[0].getContext(\"2d\");\n",
       "\n",
       "    var backingStore = this.context.backingStorePixelRatio ||\n",
       "\tthis.context.webkitBackingStorePixelRatio ||\n",
       "\tthis.context.mozBackingStorePixelRatio ||\n",
       "\tthis.context.msBackingStorePixelRatio ||\n",
       "\tthis.context.oBackingStorePixelRatio ||\n",
       "\tthis.context.backingStorePixelRatio || 1;\n",
       "\n",
       "    mpl.ratio = (window.devicePixelRatio || 1) / backingStore;\n",
       "\n",
       "    var rubberband = $('<canvas/>');\n",
       "    rubberband.attr('style', \"position: absolute; left: 0; top: 0; z-index: 1;\")\n",
       "\n",
       "    var pass_mouse_events = true;\n",
       "\n",
       "    canvas_div.resizable({\n",
       "        start: function(event, ui) {\n",
       "            pass_mouse_events = false;\n",
       "        },\n",
       "        resize: function(event, ui) {\n",
       "            fig.request_resize(ui.size.width, ui.size.height);\n",
       "        },\n",
       "        stop: function(event, ui) {\n",
       "            pass_mouse_events = true;\n",
       "            fig.request_resize(ui.size.width, ui.size.height);\n",
       "        },\n",
       "    });\n",
       "\n",
       "    function mouse_event_fn(event) {\n",
       "        if (pass_mouse_events)\n",
       "            return fig.mouse_event(event, event['data']);\n",
       "    }\n",
       "\n",
       "    rubberband.mousedown('button_press', mouse_event_fn);\n",
       "    rubberband.mouseup('button_release', mouse_event_fn);\n",
       "    // Throttle sequential mouse events to 1 every 20ms.\n",
       "    rubberband.mousemove('motion_notify', mouse_event_fn);\n",
       "\n",
       "    rubberband.mouseenter('figure_enter', mouse_event_fn);\n",
       "    rubberband.mouseleave('figure_leave', mouse_event_fn);\n",
       "\n",
       "    canvas_div.on(\"wheel\", function (event) {\n",
       "        event = event.originalEvent;\n",
       "        event['data'] = 'scroll'\n",
       "        if (event.deltaY < 0) {\n",
       "            event.step = 1;\n",
       "        } else {\n",
       "            event.step = -1;\n",
       "        }\n",
       "        mouse_event_fn(event);\n",
       "    });\n",
       "\n",
       "    canvas_div.append(canvas);\n",
       "    canvas_div.append(rubberband);\n",
       "\n",
       "    this.rubberband = rubberband;\n",
       "    this.rubberband_canvas = rubberband[0];\n",
       "    this.rubberband_context = rubberband[0].getContext(\"2d\");\n",
       "    this.rubberband_context.strokeStyle = \"#000000\";\n",
       "\n",
       "    this._resize_canvas = function(width, height) {\n",
       "        // Keep the size of the canvas, canvas container, and rubber band\n",
       "        // canvas in synch.\n",
       "        canvas_div.css('width', width)\n",
       "        canvas_div.css('height', height)\n",
       "\n",
       "        canvas.attr('width', width * mpl.ratio);\n",
       "        canvas.attr('height', height * mpl.ratio);\n",
       "        canvas.attr('style', 'width: ' + width + 'px; height: ' + height + 'px;');\n",
       "\n",
       "        rubberband.attr('width', width);\n",
       "        rubberband.attr('height', height);\n",
       "    }\n",
       "\n",
       "    // Set the figure to an initial 600x600px, this will subsequently be updated\n",
       "    // upon first draw.\n",
       "    this._resize_canvas(600, 600);\n",
       "\n",
       "    // Disable right mouse context menu.\n",
       "    $(this.rubberband_canvas).bind(\"contextmenu\",function(e){\n",
       "        return false;\n",
       "    });\n",
       "\n",
       "    function set_focus () {\n",
       "        canvas.focus();\n",
       "        canvas_div.focus();\n",
       "    }\n",
       "\n",
       "    window.setTimeout(set_focus, 100);\n",
       "}\n",
       "\n",
       "mpl.figure.prototype._init_toolbar = function() {\n",
       "    var fig = this;\n",
       "\n",
       "    var nav_element = $('<div/>')\n",
       "    nav_element.attr('style', 'width: 100%');\n",
       "    this.root.append(nav_element);\n",
       "\n",
       "    // Define a callback function for later on.\n",
       "    function toolbar_event(event) {\n",
       "        return fig.toolbar_button_onclick(event['data']);\n",
       "    }\n",
       "    function toolbar_mouse_event(event) {\n",
       "        return fig.toolbar_button_onmouseover(event['data']);\n",
       "    }\n",
       "\n",
       "    for(var toolbar_ind in mpl.toolbar_items) {\n",
       "        var name = mpl.toolbar_items[toolbar_ind][0];\n",
       "        var tooltip = mpl.toolbar_items[toolbar_ind][1];\n",
       "        var image = mpl.toolbar_items[toolbar_ind][2];\n",
       "        var method_name = mpl.toolbar_items[toolbar_ind][3];\n",
       "\n",
       "        if (!name) {\n",
       "            // put a spacer in here.\n",
       "            continue;\n",
       "        }\n",
       "        var button = $('<button/>');\n",
       "        button.addClass('ui-button ui-widget ui-state-default ui-corner-all ' +\n",
       "                        'ui-button-icon-only');\n",
       "        button.attr('role', 'button');\n",
       "        button.attr('aria-disabled', 'false');\n",
       "        button.click(method_name, toolbar_event);\n",
       "        button.mouseover(tooltip, toolbar_mouse_event);\n",
       "\n",
       "        var icon_img = $('<span/>');\n",
       "        icon_img.addClass('ui-button-icon-primary ui-icon');\n",
       "        icon_img.addClass(image);\n",
       "        icon_img.addClass('ui-corner-all');\n",
       "\n",
       "        var tooltip_span = $('<span/>');\n",
       "        tooltip_span.addClass('ui-button-text');\n",
       "        tooltip_span.html(tooltip);\n",
       "\n",
       "        button.append(icon_img);\n",
       "        button.append(tooltip_span);\n",
       "\n",
       "        nav_element.append(button);\n",
       "    }\n",
       "\n",
       "    var fmt_picker_span = $('<span/>');\n",
       "\n",
       "    var fmt_picker = $('<select/>');\n",
       "    fmt_picker.addClass('mpl-toolbar-option ui-widget ui-widget-content');\n",
       "    fmt_picker_span.append(fmt_picker);\n",
       "    nav_element.append(fmt_picker_span);\n",
       "    this.format_dropdown = fmt_picker[0];\n",
       "\n",
       "    for (var ind in mpl.extensions) {\n",
       "        var fmt = mpl.extensions[ind];\n",
       "        var option = $(\n",
       "            '<option/>', {selected: fmt === mpl.default_extension}).html(fmt);\n",
       "        fmt_picker.append(option)\n",
       "    }\n",
       "\n",
       "    // Add hover states to the ui-buttons\n",
       "    $( \".ui-button\" ).hover(\n",
       "        function() { $(this).addClass(\"ui-state-hover\");},\n",
       "        function() { $(this).removeClass(\"ui-state-hover\");}\n",
       "    );\n",
       "\n",
       "    var status_bar = $('<span class=\"mpl-message\"/>');\n",
       "    nav_element.append(status_bar);\n",
       "    this.message = status_bar[0];\n",
       "}\n",
       "\n",
       "mpl.figure.prototype.request_resize = function(x_pixels, y_pixels) {\n",
       "    // Request matplotlib to resize the figure. Matplotlib will then trigger a resize in the client,\n",
       "    // which will in turn request a refresh of the image.\n",
       "    this.send_message('resize', {'width': x_pixels, 'height': y_pixels});\n",
       "}\n",
       "\n",
       "mpl.figure.prototype.send_message = function(type, properties) {\n",
       "    properties['type'] = type;\n",
       "    properties['figure_id'] = this.id;\n",
       "    this.ws.send(JSON.stringify(properties));\n",
       "}\n",
       "\n",
       "mpl.figure.prototype.send_draw_message = function() {\n",
       "    if (!this.waiting) {\n",
       "        this.waiting = true;\n",
       "        this.ws.send(JSON.stringify({type: \"draw\", figure_id: this.id}));\n",
       "    }\n",
       "}\n",
       "\n",
       "\n",
       "mpl.figure.prototype.handle_save = function(fig, msg) {\n",
       "    var format_dropdown = fig.format_dropdown;\n",
       "    var format = format_dropdown.options[format_dropdown.selectedIndex].value;\n",
       "    fig.ondownload(fig, format);\n",
       "}\n",
       "\n",
       "\n",
       "mpl.figure.prototype.handle_resize = function(fig, msg) {\n",
       "    var size = msg['size'];\n",
       "    if (size[0] != fig.canvas.width || size[1] != fig.canvas.height) {\n",
       "        fig._resize_canvas(size[0], size[1]);\n",
       "        fig.send_message(\"refresh\", {});\n",
       "    };\n",
       "}\n",
       "\n",
       "mpl.figure.prototype.handle_rubberband = function(fig, msg) {\n",
       "    var x0 = msg['x0'] / mpl.ratio;\n",
       "    var y0 = (fig.canvas.height - msg['y0']) / mpl.ratio;\n",
       "    var x1 = msg['x1'] / mpl.ratio;\n",
       "    var y1 = (fig.canvas.height - msg['y1']) / mpl.ratio;\n",
       "    x0 = Math.floor(x0) + 0.5;\n",
       "    y0 = Math.floor(y0) + 0.5;\n",
       "    x1 = Math.floor(x1) + 0.5;\n",
       "    y1 = Math.floor(y1) + 0.5;\n",
       "    var min_x = Math.min(x0, x1);\n",
       "    var min_y = Math.min(y0, y1);\n",
       "    var width = Math.abs(x1 - x0);\n",
       "    var height = Math.abs(y1 - y0);\n",
       "\n",
       "    fig.rubberband_context.clearRect(\n",
       "        0, 0, fig.canvas.width, fig.canvas.height);\n",
       "\n",
       "    fig.rubberband_context.strokeRect(min_x, min_y, width, height);\n",
       "}\n",
       "\n",
       "mpl.figure.prototype.handle_figure_label = function(fig, msg) {\n",
       "    // Updates the figure title.\n",
       "    fig.header.textContent = msg['label'];\n",
       "}\n",
       "\n",
       "mpl.figure.prototype.handle_cursor = function(fig, msg) {\n",
       "    var cursor = msg['cursor'];\n",
       "    switch(cursor)\n",
       "    {\n",
       "    case 0:\n",
       "        cursor = 'pointer';\n",
       "        break;\n",
       "    case 1:\n",
       "        cursor = 'default';\n",
       "        break;\n",
       "    case 2:\n",
       "        cursor = 'crosshair';\n",
       "        break;\n",
       "    case 3:\n",
       "        cursor = 'move';\n",
       "        break;\n",
       "    }\n",
       "    fig.rubberband_canvas.style.cursor = cursor;\n",
       "}\n",
       "\n",
       "mpl.figure.prototype.handle_message = function(fig, msg) {\n",
       "    fig.message.textContent = msg['message'];\n",
       "}\n",
       "\n",
       "mpl.figure.prototype.handle_draw = function(fig, msg) {\n",
       "    // Request the server to send over a new figure.\n",
       "    fig.send_draw_message();\n",
       "}\n",
       "\n",
       "mpl.figure.prototype.handle_image_mode = function(fig, msg) {\n",
       "    fig.image_mode = msg['mode'];\n",
       "}\n",
       "\n",
       "mpl.figure.prototype.updated_canvas_event = function() {\n",
       "    // Called whenever the canvas gets updated.\n",
       "    this.send_message(\"ack\", {});\n",
       "}\n",
       "\n",
       "// A function to construct a web socket function for onmessage handling.\n",
       "// Called in the figure constructor.\n",
       "mpl.figure.prototype._make_on_message_function = function(fig) {\n",
       "    return function socket_on_message(evt) {\n",
       "        if (evt.data instanceof Blob) {\n",
       "            /* FIXME: We get \"Resource interpreted as Image but\n",
       "             * transferred with MIME type text/plain:\" errors on\n",
       "             * Chrome.  But how to set the MIME type?  It doesn't seem\n",
       "             * to be part of the websocket stream */\n",
       "            evt.data.type = \"image/png\";\n",
       "\n",
       "            /* Free the memory for the previous frames */\n",
       "            if (fig.imageObj.src) {\n",
       "                (window.URL || window.webkitURL).revokeObjectURL(\n",
       "                    fig.imageObj.src);\n",
       "            }\n",
       "\n",
       "            fig.imageObj.src = (window.URL || window.webkitURL).createObjectURL(\n",
       "                evt.data);\n",
       "            fig.updated_canvas_event();\n",
       "            fig.waiting = false;\n",
       "            return;\n",
       "        }\n",
       "        else if (typeof evt.data === 'string' && evt.data.slice(0, 21) == \"data:image/png;base64\") {\n",
       "            fig.imageObj.src = evt.data;\n",
       "            fig.updated_canvas_event();\n",
       "            fig.waiting = false;\n",
       "            return;\n",
       "        }\n",
       "\n",
       "        var msg = JSON.parse(evt.data);\n",
       "        var msg_type = msg['type'];\n",
       "\n",
       "        // Call the  \"handle_{type}\" callback, which takes\n",
       "        // the figure and JSON message as its only arguments.\n",
       "        try {\n",
       "            var callback = fig[\"handle_\" + msg_type];\n",
       "        } catch (e) {\n",
       "            console.log(\"No handler for the '\" + msg_type + \"' message type: \", msg);\n",
       "            return;\n",
       "        }\n",
       "\n",
       "        if (callback) {\n",
       "            try {\n",
       "                // console.log(\"Handling '\" + msg_type + \"' message: \", msg);\n",
       "                callback(fig, msg);\n",
       "            } catch (e) {\n",
       "                console.log(\"Exception inside the 'handler_\" + msg_type + \"' callback:\", e, e.stack, msg);\n",
       "            }\n",
       "        }\n",
       "    };\n",
       "}\n",
       "\n",
       "// from http://stackoverflow.com/questions/1114465/getting-mouse-location-in-canvas\n",
       "mpl.findpos = function(e) {\n",
       "    //this section is from http://www.quirksmode.org/js/events_properties.html\n",
       "    var targ;\n",
       "    if (!e)\n",
       "        e = window.event;\n",
       "    if (e.target)\n",
       "        targ = e.target;\n",
       "    else if (e.srcElement)\n",
       "        targ = e.srcElement;\n",
       "    if (targ.nodeType == 3) // defeat Safari bug\n",
       "        targ = targ.parentNode;\n",
       "\n",
       "    // jQuery normalizes the pageX and pageY\n",
       "    // pageX,Y are the mouse positions relative to the document\n",
       "    // offset() returns the position of the element relative to the document\n",
       "    var x = e.pageX - $(targ).offset().left;\n",
       "    var y = e.pageY - $(targ).offset().top;\n",
       "\n",
       "    return {\"x\": x, \"y\": y};\n",
       "};\n",
       "\n",
       "/*\n",
       " * return a copy of an object with only non-object keys\n",
       " * we need this to avoid circular references\n",
       " * http://stackoverflow.com/a/24161582/3208463\n",
       " */\n",
       "function simpleKeys (original) {\n",
       "  return Object.keys(original).reduce(function (obj, key) {\n",
       "    if (typeof original[key] !== 'object')\n",
       "        obj[key] = original[key]\n",
       "    return obj;\n",
       "  }, {});\n",
       "}\n",
       "\n",
       "mpl.figure.prototype.mouse_event = function(event, name) {\n",
       "    var canvas_pos = mpl.findpos(event)\n",
       "\n",
       "    if (name === 'button_press')\n",
       "    {\n",
       "        this.canvas.focus();\n",
       "        this.canvas_div.focus();\n",
       "    }\n",
       "\n",
       "    var x = canvas_pos.x * mpl.ratio;\n",
       "    var y = canvas_pos.y * mpl.ratio;\n",
       "\n",
       "    this.send_message(name, {x: x, y: y, button: event.button,\n",
       "                             step: event.step,\n",
       "                             guiEvent: simpleKeys(event)});\n",
       "\n",
       "    /* This prevents the web browser from automatically changing to\n",
       "     * the text insertion cursor when the button is pressed.  We want\n",
       "     * to control all of the cursor setting manually through the\n",
       "     * 'cursor' event from matplotlib */\n",
       "    event.preventDefault();\n",
       "    return false;\n",
       "}\n",
       "\n",
       "mpl.figure.prototype._key_event_extra = function(event, name) {\n",
       "    // Handle any extra behaviour associated with a key event\n",
       "}\n",
       "\n",
       "mpl.figure.prototype.key_event = function(event, name) {\n",
       "\n",
       "    // Prevent repeat events\n",
       "    if (name == 'key_press')\n",
       "    {\n",
       "        if (event.which === this._key)\n",
       "            return;\n",
       "        else\n",
       "            this._key = event.which;\n",
       "    }\n",
       "    if (name == 'key_release')\n",
       "        this._key = null;\n",
       "\n",
       "    var value = '';\n",
       "    if (event.ctrlKey && event.which != 17)\n",
       "        value += \"ctrl+\";\n",
       "    if (event.altKey && event.which != 18)\n",
       "        value += \"alt+\";\n",
       "    if (event.shiftKey && event.which != 16)\n",
       "        value += \"shift+\";\n",
       "\n",
       "    value += 'k';\n",
       "    value += event.which.toString();\n",
       "\n",
       "    this._key_event_extra(event, name);\n",
       "\n",
       "    this.send_message(name, {key: value,\n",
       "                             guiEvent: simpleKeys(event)});\n",
       "    return false;\n",
       "}\n",
       "\n",
       "mpl.figure.prototype.toolbar_button_onclick = function(name) {\n",
       "    if (name == 'download') {\n",
       "        this.handle_save(this, null);\n",
       "    } else {\n",
       "        this.send_message(\"toolbar_button\", {name: name});\n",
       "    }\n",
       "};\n",
       "\n",
       "mpl.figure.prototype.toolbar_button_onmouseover = function(tooltip) {\n",
       "    this.message.textContent = tooltip;\n",
       "};\n",
       "mpl.toolbar_items = [[\"Home\", \"Reset original view\", \"fa fa-home icon-home\", \"home\"], [\"Back\", \"Back to previous view\", \"fa fa-arrow-left icon-arrow-left\", \"back\"], [\"Forward\", \"Forward to next view\", \"fa fa-arrow-right icon-arrow-right\", \"forward\"], [\"\", \"\", \"\", \"\"], [\"Pan\", \"Pan axes with left mouse, zoom with right\", \"fa fa-arrows icon-move\", \"pan\"], [\"Zoom\", \"Zoom to rectangle\", \"fa fa-square-o icon-check-empty\", \"zoom\"], [\"\", \"\", \"\", \"\"], [\"Download\", \"Download plot\", \"fa fa-floppy-o icon-save\", \"download\"]];\n",
       "\n",
       "mpl.extensions = [\"eps\", \"pdf\", \"png\", \"ps\", \"raw\", \"svg\"];\n",
       "\n",
       "mpl.default_extension = \"png\";var comm_websocket_adapter = function(comm) {\n",
       "    // Create a \"websocket\"-like object which calls the given IPython comm\n",
       "    // object with the appropriate methods. Currently this is a non binary\n",
       "    // socket, so there is still some room for performance tuning.\n",
       "    var ws = {};\n",
       "\n",
       "    ws.close = function() {\n",
       "        comm.close()\n",
       "    };\n",
       "    ws.send = function(m) {\n",
       "        //console.log('sending', m);\n",
       "        comm.send(m);\n",
       "    };\n",
       "    // Register the callback with on_msg.\n",
       "    comm.on_msg(function(msg) {\n",
       "        //console.log('receiving', msg['content']['data'], msg);\n",
       "        // Pass the mpl event to the overridden (by mpl) onmessage function.\n",
       "        ws.onmessage(msg['content']['data'])\n",
       "    });\n",
       "    return ws;\n",
       "}\n",
       "\n",
       "mpl.mpl_figure_comm = function(comm, msg) {\n",
       "    // This is the function which gets called when the mpl process\n",
       "    // starts-up an IPython Comm through the \"matplotlib\" channel.\n",
       "\n",
       "    var id = msg.content.data.id;\n",
       "    // Get hold of the div created by the display call when the Comm\n",
       "    // socket was opened in Python.\n",
       "    var element = $(\"#\" + id);\n",
       "    var ws_proxy = comm_websocket_adapter(comm)\n",
       "\n",
       "    function ondownload(figure, format) {\n",
       "        window.open(figure.imageObj.src);\n",
       "    }\n",
       "\n",
       "    var fig = new mpl.figure(id, ws_proxy,\n",
       "                           ondownload,\n",
       "                           element.get(0));\n",
       "\n",
       "    // Call onopen now - mpl needs it, as it is assuming we've passed it a real\n",
       "    // web socket which is closed, not our websocket->open comm proxy.\n",
       "    ws_proxy.onopen();\n",
       "\n",
       "    fig.parent_element = element.get(0);\n",
       "    fig.cell_info = mpl.find_output_cell(\"<div id='\" + id + \"'></div>\");\n",
       "    if (!fig.cell_info) {\n",
       "        console.error(\"Failed to find cell for figure\", id, fig);\n",
       "        return;\n",
       "    }\n",
       "\n",
       "    var output_index = fig.cell_info[2]\n",
       "    var cell = fig.cell_info[0];\n",
       "\n",
       "};\n",
       "\n",
       "mpl.figure.prototype.handle_close = function(fig, msg) {\n",
       "    var width = fig.canvas.width/mpl.ratio\n",
       "    fig.root.unbind('remove')\n",
       "\n",
       "    // Update the output cell to use the data from the current canvas.\n",
       "    fig.push_to_output();\n",
       "    var dataURL = fig.canvas.toDataURL();\n",
       "    // Re-enable the keyboard manager in IPython - without this line, in FF,\n",
       "    // the notebook keyboard shortcuts fail.\n",
       "    IPython.keyboard_manager.enable()\n",
       "    $(fig.parent_element).html('<img src=\"' + dataURL + '\" width=\"' + width + '\">');\n",
       "    fig.close_ws(fig, msg);\n",
       "}\n",
       "\n",
       "mpl.figure.prototype.close_ws = function(fig, msg){\n",
       "    fig.send_message('closing', msg);\n",
       "    // fig.ws.close()\n",
       "}\n",
       "\n",
       "mpl.figure.prototype.push_to_output = function(remove_interactive) {\n",
       "    // Turn the data on the canvas into data in the output cell.\n",
       "    var width = this.canvas.width/mpl.ratio\n",
       "    var dataURL = this.canvas.toDataURL();\n",
       "    this.cell_info[1]['text/html'] = '<img src=\"' + dataURL + '\" width=\"' + width + '\">';\n",
       "}\n",
       "\n",
       "mpl.figure.prototype.updated_canvas_event = function() {\n",
       "    // Tell IPython that the notebook contents must change.\n",
       "    IPython.notebook.set_dirty(true);\n",
       "    this.send_message(\"ack\", {});\n",
       "    var fig = this;\n",
       "    // Wait a second, then push the new image to the DOM so\n",
       "    // that it is saved nicely (might be nice to debounce this).\n",
       "    setTimeout(function () { fig.push_to_output() }, 1000);\n",
       "}\n",
       "\n",
       "mpl.figure.prototype._init_toolbar = function() {\n",
       "    var fig = this;\n",
       "\n",
       "    var nav_element = $('<div/>')\n",
       "    nav_element.attr('style', 'width: 100%');\n",
       "    this.root.append(nav_element);\n",
       "\n",
       "    // Define a callback function for later on.\n",
       "    function toolbar_event(event) {\n",
       "        return fig.toolbar_button_onclick(event['data']);\n",
       "    }\n",
       "    function toolbar_mouse_event(event) {\n",
       "        return fig.toolbar_button_onmouseover(event['data']);\n",
       "    }\n",
       "\n",
       "    for(var toolbar_ind in mpl.toolbar_items){\n",
       "        var name = mpl.toolbar_items[toolbar_ind][0];\n",
       "        var tooltip = mpl.toolbar_items[toolbar_ind][1];\n",
       "        var image = mpl.toolbar_items[toolbar_ind][2];\n",
       "        var method_name = mpl.toolbar_items[toolbar_ind][3];\n",
       "\n",
       "        if (!name) { continue; };\n",
       "\n",
       "        var button = $('<button class=\"btn btn-default\" href=\"#\" title=\"' + name + '\"><i class=\"fa ' + image + ' fa-lg\"></i></button>');\n",
       "        button.click(method_name, toolbar_event);\n",
       "        button.mouseover(tooltip, toolbar_mouse_event);\n",
       "        nav_element.append(button);\n",
       "    }\n",
       "\n",
       "    // Add the status bar.\n",
       "    var status_bar = $('<span class=\"mpl-message\" style=\"text-align:right; float: right;\"/>');\n",
       "    nav_element.append(status_bar);\n",
       "    this.message = status_bar[0];\n",
       "\n",
       "    // Add the close button to the window.\n",
       "    var buttongrp = $('<div class=\"btn-group inline pull-right\"></div>');\n",
       "    var button = $('<button class=\"btn btn-mini btn-primary\" href=\"#\" title=\"Stop Interaction\"><i class=\"fa fa-power-off icon-remove icon-large\"></i></button>');\n",
       "    button.click(function (evt) { fig.handle_close(fig, {}); } );\n",
       "    button.mouseover('Stop Interaction', toolbar_mouse_event);\n",
       "    buttongrp.append(button);\n",
       "    var titlebar = this.root.find($('.ui-dialog-titlebar'));\n",
       "    titlebar.prepend(buttongrp);\n",
       "}\n",
       "\n",
       "mpl.figure.prototype._root_extra_style = function(el){\n",
       "    var fig = this\n",
       "    el.on(\"remove\", function(){\n",
       "\tfig.close_ws(fig, {});\n",
       "    });\n",
       "}\n",
       "\n",
       "mpl.figure.prototype._canvas_extra_style = function(el){\n",
       "    // this is important to make the div 'focusable\n",
       "    el.attr('tabindex', 0)\n",
       "    // reach out to IPython and tell the keyboard manager to turn it's self\n",
       "    // off when our div gets focus\n",
       "\n",
       "    // location in version 3\n",
       "    if (IPython.notebook.keyboard_manager) {\n",
       "        IPython.notebook.keyboard_manager.register_events(el);\n",
       "    }\n",
       "    else {\n",
       "        // location in version 2\n",
       "        IPython.keyboard_manager.register_events(el);\n",
       "    }\n",
       "\n",
       "}\n",
       "\n",
       "mpl.figure.prototype._key_event_extra = function(event, name) {\n",
       "    var manager = IPython.notebook.keyboard_manager;\n",
       "    if (!manager)\n",
       "        manager = IPython.keyboard_manager;\n",
       "\n",
       "    // Check for shift+enter\n",
       "    if (event.shiftKey && event.which == 13) {\n",
       "        this.canvas_div.blur();\n",
       "        event.shiftKey = false;\n",
       "        // Send a \"J\" for go to next cell\n",
       "        event.which = 74;\n",
       "        event.keyCode = 74;\n",
       "        manager.command_mode();\n",
       "        manager.handle_keydown(event);\n",
       "    }\n",
       "}\n",
       "\n",
       "mpl.figure.prototype.handle_save = function(fig, msg) {\n",
       "    fig.ondownload(fig, null);\n",
       "}\n",
       "\n",
       "\n",
       "mpl.find_output_cell = function(html_output) {\n",
       "    // Return the cell and output element which can be found *uniquely* in the notebook.\n",
       "    // Note - this is a bit hacky, but it is done because the \"notebook_saving.Notebook\"\n",
       "    // IPython event is triggered only after the cells have been serialised, which for\n",
       "    // our purposes (turning an active figure into a static one), is too late.\n",
       "    var cells = IPython.notebook.get_cells();\n",
       "    var ncells = cells.length;\n",
       "    for (var i=0; i<ncells; i++) {\n",
       "        var cell = cells[i];\n",
       "        if (cell.cell_type === 'code'){\n",
       "            for (var j=0; j<cell.output_area.outputs.length; j++) {\n",
       "                var data = cell.output_area.outputs[j];\n",
       "                if (data.data) {\n",
       "                    // IPython >= 3 moved mimebundle to data attribute of output\n",
       "                    data = data.data;\n",
       "                }\n",
       "                if (data['text/html'] == html_output) {\n",
       "                    return [cell, data, j];\n",
       "                }\n",
       "            }\n",
       "        }\n",
       "    }\n",
       "}\n",
       "\n",
       "// Register the function which deals with the matplotlib target/channel.\n",
       "// The kernel may be null if the page has been refreshed.\n",
       "if (IPython.notebook.kernel != null) {\n",
       "    IPython.notebook.kernel.comm_manager.register_target('matplotlib', mpl.mpl_figure_comm);\n",
       "}\n"
      ],
      "text/plain": [
       "<IPython.core.display.Javascript object>"
      ]
     },
     "metadata": {},
     "output_type": "display_data"
    },
    {
     "data": {
      "text/html": [
       "<img src=\"data:image/png;base64,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\" width=\"640\">"
      ],
      "text/plain": [
       "<IPython.core.display.HTML object>"
      ]
     },
     "metadata": {},
     "output_type": "display_data"
    }
   ],
   "source": [
    "x = np.arange(0, 10, .1)\n",
    "y = x + np.random.normal(0, 1, x.size)\n",
    "\n",
    "fig, ax = plt.subplots()\n",
    "ax.plot(x,y)\n",
    "plt.show()"
   ]
  },
  {
   "cell_type": "code",
   "execution_count": 175,
   "metadata": {},
   "outputs": [
    {
     "data": {
      "application/javascript": [
       "/* Put everything inside the global mpl namespace */\n",
       "window.mpl = {};\n",
       "\n",
       "\n",
       "mpl.get_websocket_type = function() {\n",
       "    if (typeof(WebSocket) !== 'undefined') {\n",
       "        return WebSocket;\n",
       "    } else if (typeof(MozWebSocket) !== 'undefined') {\n",
       "        return MozWebSocket;\n",
       "    } else {\n",
       "        alert('Your browser does not have WebSocket support.' +\n",
       "              'Please try Chrome, Safari or Firefox ≥ 6. ' +\n",
       "              'Firefox 4 and 5 are also supported but you ' +\n",
       "              'have to enable WebSockets in about:config.');\n",
       "    };\n",
       "}\n",
       "\n",
       "mpl.figure = function(figure_id, websocket, ondownload, parent_element) {\n",
       "    this.id = figure_id;\n",
       "\n",
       "    this.ws = websocket;\n",
       "\n",
       "    this.supports_binary = (this.ws.binaryType != undefined);\n",
       "\n",
       "    if (!this.supports_binary) {\n",
       "        var warnings = document.getElementById(\"mpl-warnings\");\n",
       "        if (warnings) {\n",
       "            warnings.style.display = 'block';\n",
       "            warnings.textContent = (\n",
       "                \"This browser does not support binary websocket messages. \" +\n",
       "                    \"Performance may be slow.\");\n",
       "        }\n",
       "    }\n",
       "\n",
       "    this.imageObj = new Image();\n",
       "\n",
       "    this.context = undefined;\n",
       "    this.message = undefined;\n",
       "    this.canvas = undefined;\n",
       "    this.rubberband_canvas = undefined;\n",
       "    this.rubberband_context = undefined;\n",
       "    this.format_dropdown = undefined;\n",
       "\n",
       "    this.image_mode = 'full';\n",
       "\n",
       "    this.root = $('<div/>');\n",
       "    this._root_extra_style(this.root)\n",
       "    this.root.attr('style', 'display: inline-block');\n",
       "\n",
       "    $(parent_element).append(this.root);\n",
       "\n",
       "    this._init_header(this);\n",
       "    this._init_canvas(this);\n",
       "    this._init_toolbar(this);\n",
       "\n",
       "    var fig = this;\n",
       "\n",
       "    this.waiting = false;\n",
       "\n",
       "    this.ws.onopen =  function () {\n",
       "            fig.send_message(\"supports_binary\", {value: fig.supports_binary});\n",
       "            fig.send_message(\"send_image_mode\", {});\n",
       "            if (mpl.ratio != 1) {\n",
       "                fig.send_message(\"set_dpi_ratio\", {'dpi_ratio': mpl.ratio});\n",
       "            }\n",
       "            fig.send_message(\"refresh\", {});\n",
       "        }\n",
       "\n",
       "    this.imageObj.onload = function() {\n",
       "            if (fig.image_mode == 'full') {\n",
       "                // Full images could contain transparency (where diff images\n",
       "                // almost always do), so we need to clear the canvas so that\n",
       "                // there is no ghosting.\n",
       "                fig.context.clearRect(0, 0, fig.canvas.width, fig.canvas.height);\n",
       "            }\n",
       "            fig.context.drawImage(fig.imageObj, 0, 0);\n",
       "        };\n",
       "\n",
       "    this.imageObj.onunload = function() {\n",
       "        fig.ws.close();\n",
       "    }\n",
       "\n",
       "    this.ws.onmessage = this._make_on_message_function(this);\n",
       "\n",
       "    this.ondownload = ondownload;\n",
       "}\n",
       "\n",
       "mpl.figure.prototype._init_header = function() {\n",
       "    var titlebar = $(\n",
       "        '<div class=\"ui-dialog-titlebar ui-widget-header ui-corner-all ' +\n",
       "        'ui-helper-clearfix\"/>');\n",
       "    var titletext = $(\n",
       "        '<div class=\"ui-dialog-title\" style=\"width: 100%; ' +\n",
       "        'text-align: center; padding: 3px;\"/>');\n",
       "    titlebar.append(titletext)\n",
       "    this.root.append(titlebar);\n",
       "    this.header = titletext[0];\n",
       "}\n",
       "\n",
       "\n",
       "\n",
       "mpl.figure.prototype._canvas_extra_style = function(canvas_div) {\n",
       "\n",
       "}\n",
       "\n",
       "\n",
       "mpl.figure.prototype._root_extra_style = function(canvas_div) {\n",
       "\n",
       "}\n",
       "\n",
       "mpl.figure.prototype._init_canvas = function() {\n",
       "    var fig = this;\n",
       "\n",
       "    var canvas_div = $('<div/>');\n",
       "\n",
       "    canvas_div.attr('style', 'position: relative; clear: both; outline: 0');\n",
       "\n",
       "    function canvas_keyboard_event(event) {\n",
       "        return fig.key_event(event, event['data']);\n",
       "    }\n",
       "\n",
       "    canvas_div.keydown('key_press', canvas_keyboard_event);\n",
       "    canvas_div.keyup('key_release', canvas_keyboard_event);\n",
       "    this.canvas_div = canvas_div\n",
       "    this._canvas_extra_style(canvas_div)\n",
       "    this.root.append(canvas_div);\n",
       "\n",
       "    var canvas = $('<canvas/>');\n",
       "    canvas.addClass('mpl-canvas');\n",
       "    canvas.attr('style', \"left: 0; top: 0; z-index: 0; outline: 0\")\n",
       "\n",
       "    this.canvas = canvas[0];\n",
       "    this.context = canvas[0].getContext(\"2d\");\n",
       "\n",
       "    var backingStore = this.context.backingStorePixelRatio ||\n",
       "\tthis.context.webkitBackingStorePixelRatio ||\n",
       "\tthis.context.mozBackingStorePixelRatio ||\n",
       "\tthis.context.msBackingStorePixelRatio ||\n",
       "\tthis.context.oBackingStorePixelRatio ||\n",
       "\tthis.context.backingStorePixelRatio || 1;\n",
       "\n",
       "    mpl.ratio = (window.devicePixelRatio || 1) / backingStore;\n",
       "\n",
       "    var rubberband = $('<canvas/>');\n",
       "    rubberband.attr('style', \"position: absolute; left: 0; top: 0; z-index: 1;\")\n",
       "\n",
       "    var pass_mouse_events = true;\n",
       "\n",
       "    canvas_div.resizable({\n",
       "        start: function(event, ui) {\n",
       "            pass_mouse_events = false;\n",
       "        },\n",
       "        resize: function(event, ui) {\n",
       "            fig.request_resize(ui.size.width, ui.size.height);\n",
       "        },\n",
       "        stop: function(event, ui) {\n",
       "            pass_mouse_events = true;\n",
       "            fig.request_resize(ui.size.width, ui.size.height);\n",
       "        },\n",
       "    });\n",
       "\n",
       "    function mouse_event_fn(event) {\n",
       "        if (pass_mouse_events)\n",
       "            return fig.mouse_event(event, event['data']);\n",
       "    }\n",
       "\n",
       "    rubberband.mousedown('button_press', mouse_event_fn);\n",
       "    rubberband.mouseup('button_release', mouse_event_fn);\n",
       "    // Throttle sequential mouse events to 1 every 20ms.\n",
       "    rubberband.mousemove('motion_notify', mouse_event_fn);\n",
       "\n",
       "    rubberband.mouseenter('figure_enter', mouse_event_fn);\n",
       "    rubberband.mouseleave('figure_leave', mouse_event_fn);\n",
       "\n",
       "    canvas_div.on(\"wheel\", function (event) {\n",
       "        event = event.originalEvent;\n",
       "        event['data'] = 'scroll'\n",
       "        if (event.deltaY < 0) {\n",
       "            event.step = 1;\n",
       "        } else {\n",
       "            event.step = -1;\n",
       "        }\n",
       "        mouse_event_fn(event);\n",
       "    });\n",
       "\n",
       "    canvas_div.append(canvas);\n",
       "    canvas_div.append(rubberband);\n",
       "\n",
       "    this.rubberband = rubberband;\n",
       "    this.rubberband_canvas = rubberband[0];\n",
       "    this.rubberband_context = rubberband[0].getContext(\"2d\");\n",
       "    this.rubberband_context.strokeStyle = \"#000000\";\n",
       "\n",
       "    this._resize_canvas = function(width, height) {\n",
       "        // Keep the size of the canvas, canvas container, and rubber band\n",
       "        // canvas in synch.\n",
       "        canvas_div.css('width', width)\n",
       "        canvas_div.css('height', height)\n",
       "\n",
       "        canvas.attr('width', width * mpl.ratio);\n",
       "        canvas.attr('height', height * mpl.ratio);\n",
       "        canvas.attr('style', 'width: ' + width + 'px; height: ' + height + 'px;');\n",
       "\n",
       "        rubberband.attr('width', width);\n",
       "        rubberband.attr('height', height);\n",
       "    }\n",
       "\n",
       "    // Set the figure to an initial 600x600px, this will subsequently be updated\n",
       "    // upon first draw.\n",
       "    this._resize_canvas(600, 600);\n",
       "\n",
       "    // Disable right mouse context menu.\n",
       "    $(this.rubberband_canvas).bind(\"contextmenu\",function(e){\n",
       "        return false;\n",
       "    });\n",
       "\n",
       "    function set_focus () {\n",
       "        canvas.focus();\n",
       "        canvas_div.focus();\n",
       "    }\n",
       "\n",
       "    window.setTimeout(set_focus, 100);\n",
       "}\n",
       "\n",
       "mpl.figure.prototype._init_toolbar = function() {\n",
       "    var fig = this;\n",
       "\n",
       "    var nav_element = $('<div/>')\n",
       "    nav_element.attr('style', 'width: 100%');\n",
       "    this.root.append(nav_element);\n",
       "\n",
       "    // Define a callback function for later on.\n",
       "    function toolbar_event(event) {\n",
       "        return fig.toolbar_button_onclick(event['data']);\n",
       "    }\n",
       "    function toolbar_mouse_event(event) {\n",
       "        return fig.toolbar_button_onmouseover(event['data']);\n",
       "    }\n",
       "\n",
       "    for(var toolbar_ind in mpl.toolbar_items) {\n",
       "        var name = mpl.toolbar_items[toolbar_ind][0];\n",
       "        var tooltip = mpl.toolbar_items[toolbar_ind][1];\n",
       "        var image = mpl.toolbar_items[toolbar_ind][2];\n",
       "        var method_name = mpl.toolbar_items[toolbar_ind][3];\n",
       "\n",
       "        if (!name) {\n",
       "            // put a spacer in here.\n",
       "            continue;\n",
       "        }\n",
       "        var button = $('<button/>');\n",
       "        button.addClass('ui-button ui-widget ui-state-default ui-corner-all ' +\n",
       "                        'ui-button-icon-only');\n",
       "        button.attr('role', 'button');\n",
       "        button.attr('aria-disabled', 'false');\n",
       "        button.click(method_name, toolbar_event);\n",
       "        button.mouseover(tooltip, toolbar_mouse_event);\n",
       "\n",
       "        var icon_img = $('<span/>');\n",
       "        icon_img.addClass('ui-button-icon-primary ui-icon');\n",
       "        icon_img.addClass(image);\n",
       "        icon_img.addClass('ui-corner-all');\n",
       "\n",
       "        var tooltip_span = $('<span/>');\n",
       "        tooltip_span.addClass('ui-button-text');\n",
       "        tooltip_span.html(tooltip);\n",
       "\n",
       "        button.append(icon_img);\n",
       "        button.append(tooltip_span);\n",
       "\n",
       "        nav_element.append(button);\n",
       "    }\n",
       "\n",
       "    var fmt_picker_span = $('<span/>');\n",
       "\n",
       "    var fmt_picker = $('<select/>');\n",
       "    fmt_picker.addClass('mpl-toolbar-option ui-widget ui-widget-content');\n",
       "    fmt_picker_span.append(fmt_picker);\n",
       "    nav_element.append(fmt_picker_span);\n",
       "    this.format_dropdown = fmt_picker[0];\n",
       "\n",
       "    for (var ind in mpl.extensions) {\n",
       "        var fmt = mpl.extensions[ind];\n",
       "        var option = $(\n",
       "            '<option/>', {selected: fmt === mpl.default_extension}).html(fmt);\n",
       "        fmt_picker.append(option)\n",
       "    }\n",
       "\n",
       "    // Add hover states to the ui-buttons\n",
       "    $( \".ui-button\" ).hover(\n",
       "        function() { $(this).addClass(\"ui-state-hover\");},\n",
       "        function() { $(this).removeClass(\"ui-state-hover\");}\n",
       "    );\n",
       "\n",
       "    var status_bar = $('<span class=\"mpl-message\"/>');\n",
       "    nav_element.append(status_bar);\n",
       "    this.message = status_bar[0];\n",
       "}\n",
       "\n",
       "mpl.figure.prototype.request_resize = function(x_pixels, y_pixels) {\n",
       "    // Request matplotlib to resize the figure. Matplotlib will then trigger a resize in the client,\n",
       "    // which will in turn request a refresh of the image.\n",
       "    this.send_message('resize', {'width': x_pixels, 'height': y_pixels});\n",
       "}\n",
       "\n",
       "mpl.figure.prototype.send_message = function(type, properties) {\n",
       "    properties['type'] = type;\n",
       "    properties['figure_id'] = this.id;\n",
       "    this.ws.send(JSON.stringify(properties));\n",
       "}\n",
       "\n",
       "mpl.figure.prototype.send_draw_message = function() {\n",
       "    if (!this.waiting) {\n",
       "        this.waiting = true;\n",
       "        this.ws.send(JSON.stringify({type: \"draw\", figure_id: this.id}));\n",
       "    }\n",
       "}\n",
       "\n",
       "\n",
       "mpl.figure.prototype.handle_save = function(fig, msg) {\n",
       "    var format_dropdown = fig.format_dropdown;\n",
       "    var format = format_dropdown.options[format_dropdown.selectedIndex].value;\n",
       "    fig.ondownload(fig, format);\n",
       "}\n",
       "\n",
       "\n",
       "mpl.figure.prototype.handle_resize = function(fig, msg) {\n",
       "    var size = msg['size'];\n",
       "    if (size[0] != fig.canvas.width || size[1] != fig.canvas.height) {\n",
       "        fig._resize_canvas(size[0], size[1]);\n",
       "        fig.send_message(\"refresh\", {});\n",
       "    };\n",
       "}\n",
       "\n",
       "mpl.figure.prototype.handle_rubberband = function(fig, msg) {\n",
       "    var x0 = msg['x0'] / mpl.ratio;\n",
       "    var y0 = (fig.canvas.height - msg['y0']) / mpl.ratio;\n",
       "    var x1 = msg['x1'] / mpl.ratio;\n",
       "    var y1 = (fig.canvas.height - msg['y1']) / mpl.ratio;\n",
       "    x0 = Math.floor(x0) + 0.5;\n",
       "    y0 = Math.floor(y0) + 0.5;\n",
       "    x1 = Math.floor(x1) + 0.5;\n",
       "    y1 = Math.floor(y1) + 0.5;\n",
       "    var min_x = Math.min(x0, x1);\n",
       "    var min_y = Math.min(y0, y1);\n",
       "    var width = Math.abs(x1 - x0);\n",
       "    var height = Math.abs(y1 - y0);\n",
       "\n",
       "    fig.rubberband_context.clearRect(\n",
       "        0, 0, fig.canvas.width, fig.canvas.height);\n",
       "\n",
       "    fig.rubberband_context.strokeRect(min_x, min_y, width, height);\n",
       "}\n",
       "\n",
       "mpl.figure.prototype.handle_figure_label = function(fig, msg) {\n",
       "    // Updates the figure title.\n",
       "    fig.header.textContent = msg['label'];\n",
       "}\n",
       "\n",
       "mpl.figure.prototype.handle_cursor = function(fig, msg) {\n",
       "    var cursor = msg['cursor'];\n",
       "    switch(cursor)\n",
       "    {\n",
       "    case 0:\n",
       "        cursor = 'pointer';\n",
       "        break;\n",
       "    case 1:\n",
       "        cursor = 'default';\n",
       "        break;\n",
       "    case 2:\n",
       "        cursor = 'crosshair';\n",
       "        break;\n",
       "    case 3:\n",
       "        cursor = 'move';\n",
       "        break;\n",
       "    }\n",
       "    fig.rubberband_canvas.style.cursor = cursor;\n",
       "}\n",
       "\n",
       "mpl.figure.prototype.handle_message = function(fig, msg) {\n",
       "    fig.message.textContent = msg['message'];\n",
       "}\n",
       "\n",
       "mpl.figure.prototype.handle_draw = function(fig, msg) {\n",
       "    // Request the server to send over a new figure.\n",
       "    fig.send_draw_message();\n",
       "}\n",
       "\n",
       "mpl.figure.prototype.handle_image_mode = function(fig, msg) {\n",
       "    fig.image_mode = msg['mode'];\n",
       "}\n",
       "\n",
       "mpl.figure.prototype.updated_canvas_event = function() {\n",
       "    // Called whenever the canvas gets updated.\n",
       "    this.send_message(\"ack\", {});\n",
       "}\n",
       "\n",
       "// A function to construct a web socket function for onmessage handling.\n",
       "// Called in the figure constructor.\n",
       "mpl.figure.prototype._make_on_message_function = function(fig) {\n",
       "    return function socket_on_message(evt) {\n",
       "        if (evt.data instanceof Blob) {\n",
       "            /* FIXME: We get \"Resource interpreted as Image but\n",
       "             * transferred with MIME type text/plain:\" errors on\n",
       "             * Chrome.  But how to set the MIME type?  It doesn't seem\n",
       "             * to be part of the websocket stream */\n",
       "            evt.data.type = \"image/png\";\n",
       "\n",
       "            /* Free the memory for the previous frames */\n",
       "            if (fig.imageObj.src) {\n",
       "                (window.URL || window.webkitURL).revokeObjectURL(\n",
       "                    fig.imageObj.src);\n",
       "            }\n",
       "\n",
       "            fig.imageObj.src = (window.URL || window.webkitURL).createObjectURL(\n",
       "                evt.data);\n",
       "            fig.updated_canvas_event();\n",
       "            fig.waiting = false;\n",
       "            return;\n",
       "        }\n",
       "        else if (typeof evt.data === 'string' && evt.data.slice(0, 21) == \"data:image/png;base64\") {\n",
       "            fig.imageObj.src = evt.data;\n",
       "            fig.updated_canvas_event();\n",
       "            fig.waiting = false;\n",
       "            return;\n",
       "        }\n",
       "\n",
       "        var msg = JSON.parse(evt.data);\n",
       "        var msg_type = msg['type'];\n",
       "\n",
       "        // Call the  \"handle_{type}\" callback, which takes\n",
       "        // the figure and JSON message as its only arguments.\n",
       "        try {\n",
       "            var callback = fig[\"handle_\" + msg_type];\n",
       "        } catch (e) {\n",
       "            console.log(\"No handler for the '\" + msg_type + \"' message type: \", msg);\n",
       "            return;\n",
       "        }\n",
       "\n",
       "        if (callback) {\n",
       "            try {\n",
       "                // console.log(\"Handling '\" + msg_type + \"' message: \", msg);\n",
       "                callback(fig, msg);\n",
       "            } catch (e) {\n",
       "                console.log(\"Exception inside the 'handler_\" + msg_type + \"' callback:\", e, e.stack, msg);\n",
       "            }\n",
       "        }\n",
       "    };\n",
       "}\n",
       "\n",
       "// from http://stackoverflow.com/questions/1114465/getting-mouse-location-in-canvas\n",
       "mpl.findpos = function(e) {\n",
       "    //this section is from http://www.quirksmode.org/js/events_properties.html\n",
       "    var targ;\n",
       "    if (!e)\n",
       "        e = window.event;\n",
       "    if (e.target)\n",
       "        targ = e.target;\n",
       "    else if (e.srcElement)\n",
       "        targ = e.srcElement;\n",
       "    if (targ.nodeType == 3) // defeat Safari bug\n",
       "        targ = targ.parentNode;\n",
       "\n",
       "    // jQuery normalizes the pageX and pageY\n",
       "    // pageX,Y are the mouse positions relative to the document\n",
       "    // offset() returns the position of the element relative to the document\n",
       "    var x = e.pageX - $(targ).offset().left;\n",
       "    var y = e.pageY - $(targ).offset().top;\n",
       "\n",
       "    return {\"x\": x, \"y\": y};\n",
       "};\n",
       "\n",
       "/*\n",
       " * return a copy of an object with only non-object keys\n",
       " * we need this to avoid circular references\n",
       " * http://stackoverflow.com/a/24161582/3208463\n",
       " */\n",
       "function simpleKeys (original) {\n",
       "  return Object.keys(original).reduce(function (obj, key) {\n",
       "    if (typeof original[key] !== 'object')\n",
       "        obj[key] = original[key]\n",
       "    return obj;\n",
       "  }, {});\n",
       "}\n",
       "\n",
       "mpl.figure.prototype.mouse_event = function(event, name) {\n",
       "    var canvas_pos = mpl.findpos(event)\n",
       "\n",
       "    if (name === 'button_press')\n",
       "    {\n",
       "        this.canvas.focus();\n",
       "        this.canvas_div.focus();\n",
       "    }\n",
       "\n",
       "    var x = canvas_pos.x * mpl.ratio;\n",
       "    var y = canvas_pos.y * mpl.ratio;\n",
       "\n",
       "    this.send_message(name, {x: x, y: y, button: event.button,\n",
       "                             step: event.step,\n",
       "                             guiEvent: simpleKeys(event)});\n",
       "\n",
       "    /* This prevents the web browser from automatically changing to\n",
       "     * the text insertion cursor when the button is pressed.  We want\n",
       "     * to control all of the cursor setting manually through the\n",
       "     * 'cursor' event from matplotlib */\n",
       "    event.preventDefault();\n",
       "    return false;\n",
       "}\n",
       "\n",
       "mpl.figure.prototype._key_event_extra = function(event, name) {\n",
       "    // Handle any extra behaviour associated with a key event\n",
       "}\n",
       "\n",
       "mpl.figure.prototype.key_event = function(event, name) {\n",
       "\n",
       "    // Prevent repeat events\n",
       "    if (name == 'key_press')\n",
       "    {\n",
       "        if (event.which === this._key)\n",
       "            return;\n",
       "        else\n",
       "            this._key = event.which;\n",
       "    }\n",
       "    if (name == 'key_release')\n",
       "        this._key = null;\n",
       "\n",
       "    var value = '';\n",
       "    if (event.ctrlKey && event.which != 17)\n",
       "        value += \"ctrl+\";\n",
       "    if (event.altKey && event.which != 18)\n",
       "        value += \"alt+\";\n",
       "    if (event.shiftKey && event.which != 16)\n",
       "        value += \"shift+\";\n",
       "\n",
       "    value += 'k';\n",
       "    value += event.which.toString();\n",
       "\n",
       "    this._key_event_extra(event, name);\n",
       "\n",
       "    this.send_message(name, {key: value,\n",
       "                             guiEvent: simpleKeys(event)});\n",
       "    return false;\n",
       "}\n",
       "\n",
       "mpl.figure.prototype.toolbar_button_onclick = function(name) {\n",
       "    if (name == 'download') {\n",
       "        this.handle_save(this, null);\n",
       "    } else {\n",
       "        this.send_message(\"toolbar_button\", {name: name});\n",
       "    }\n",
       "};\n",
       "\n",
       "mpl.figure.prototype.toolbar_button_onmouseover = function(tooltip) {\n",
       "    this.message.textContent = tooltip;\n",
       "};\n",
       "mpl.toolbar_items = [[\"Home\", \"Reset original view\", \"fa fa-home icon-home\", \"home\"], [\"Back\", \"Back to previous view\", \"fa fa-arrow-left icon-arrow-left\", \"back\"], [\"Forward\", \"Forward to next view\", \"fa fa-arrow-right icon-arrow-right\", \"forward\"], [\"\", \"\", \"\", \"\"], [\"Pan\", \"Pan axes with left mouse, zoom with right\", \"fa fa-arrows icon-move\", \"pan\"], [\"Zoom\", \"Zoom to rectangle\", \"fa fa-square-o icon-check-empty\", \"zoom\"], [\"\", \"\", \"\", \"\"], [\"Download\", \"Download plot\", \"fa fa-floppy-o icon-save\", \"download\"]];\n",
       "\n",
       "mpl.extensions = [\"eps\", \"pdf\", \"png\", \"ps\", \"raw\", \"svg\"];\n",
       "\n",
       "mpl.default_extension = \"png\";var comm_websocket_adapter = function(comm) {\n",
       "    // Create a \"websocket\"-like object which calls the given IPython comm\n",
       "    // object with the appropriate methods. Currently this is a non binary\n",
       "    // socket, so there is still some room for performance tuning.\n",
       "    var ws = {};\n",
       "\n",
       "    ws.close = function() {\n",
       "        comm.close()\n",
       "    };\n",
       "    ws.send = function(m) {\n",
       "        //console.log('sending', m);\n",
       "        comm.send(m);\n",
       "    };\n",
       "    // Register the callback with on_msg.\n",
       "    comm.on_msg(function(msg) {\n",
       "        //console.log('receiving', msg['content']['data'], msg);\n",
       "        // Pass the mpl event to the overridden (by mpl) onmessage function.\n",
       "        ws.onmessage(msg['content']['data'])\n",
       "    });\n",
       "    return ws;\n",
       "}\n",
       "\n",
       "mpl.mpl_figure_comm = function(comm, msg) {\n",
       "    // This is the function which gets called when the mpl process\n",
       "    // starts-up an IPython Comm through the \"matplotlib\" channel.\n",
       "\n",
       "    var id = msg.content.data.id;\n",
       "    // Get hold of the div created by the display call when the Comm\n",
       "    // socket was opened in Python.\n",
       "    var element = $(\"#\" + id);\n",
       "    var ws_proxy = comm_websocket_adapter(comm)\n",
       "\n",
       "    function ondownload(figure, format) {\n",
       "        window.open(figure.imageObj.src);\n",
       "    }\n",
       "\n",
       "    var fig = new mpl.figure(id, ws_proxy,\n",
       "                           ondownload,\n",
       "                           element.get(0));\n",
       "\n",
       "    // Call onopen now - mpl needs it, as it is assuming we've passed it a real\n",
       "    // web socket which is closed, not our websocket->open comm proxy.\n",
       "    ws_proxy.onopen();\n",
       "\n",
       "    fig.parent_element = element.get(0);\n",
       "    fig.cell_info = mpl.find_output_cell(\"<div id='\" + id + \"'></div>\");\n",
       "    if (!fig.cell_info) {\n",
       "        console.error(\"Failed to find cell for figure\", id, fig);\n",
       "        return;\n",
       "    }\n",
       "\n",
       "    var output_index = fig.cell_info[2]\n",
       "    var cell = fig.cell_info[0];\n",
       "\n",
       "};\n",
       "\n",
       "mpl.figure.prototype.handle_close = function(fig, msg) {\n",
       "    var width = fig.canvas.width/mpl.ratio\n",
       "    fig.root.unbind('remove')\n",
       "\n",
       "    // Update the output cell to use the data from the current canvas.\n",
       "    fig.push_to_output();\n",
       "    var dataURL = fig.canvas.toDataURL();\n",
       "    // Re-enable the keyboard manager in IPython - without this line, in FF,\n",
       "    // the notebook keyboard shortcuts fail.\n",
       "    IPython.keyboard_manager.enable()\n",
       "    $(fig.parent_element).html('<img src=\"' + dataURL + '\" width=\"' + width + '\">');\n",
       "    fig.close_ws(fig, msg);\n",
       "}\n",
       "\n",
       "mpl.figure.prototype.close_ws = function(fig, msg){\n",
       "    fig.send_message('closing', msg);\n",
       "    // fig.ws.close()\n",
       "}\n",
       "\n",
       "mpl.figure.prototype.push_to_output = function(remove_interactive) {\n",
       "    // Turn the data on the canvas into data in the output cell.\n",
       "    var width = this.canvas.width/mpl.ratio\n",
       "    var dataURL = this.canvas.toDataURL();\n",
       "    this.cell_info[1]['text/html'] = '<img src=\"' + dataURL + '\" width=\"' + width + '\">';\n",
       "}\n",
       "\n",
       "mpl.figure.prototype.updated_canvas_event = function() {\n",
       "    // Tell IPython that the notebook contents must change.\n",
       "    IPython.notebook.set_dirty(true);\n",
       "    this.send_message(\"ack\", {});\n",
       "    var fig = this;\n",
       "    // Wait a second, then push the new image to the DOM so\n",
       "    // that it is saved nicely (might be nice to debounce this).\n",
       "    setTimeout(function () { fig.push_to_output() }, 1000);\n",
       "}\n",
       "\n",
       "mpl.figure.prototype._init_toolbar = function() {\n",
       "    var fig = this;\n",
       "\n",
       "    var nav_element = $('<div/>')\n",
       "    nav_element.attr('style', 'width: 100%');\n",
       "    this.root.append(nav_element);\n",
       "\n",
       "    // Define a callback function for later on.\n",
       "    function toolbar_event(event) {\n",
       "        return fig.toolbar_button_onclick(event['data']);\n",
       "    }\n",
       "    function toolbar_mouse_event(event) {\n",
       "        return fig.toolbar_button_onmouseover(event['data']);\n",
       "    }\n",
       "\n",
       "    for(var toolbar_ind in mpl.toolbar_items){\n",
       "        var name = mpl.toolbar_items[toolbar_ind][0];\n",
       "        var tooltip = mpl.toolbar_items[toolbar_ind][1];\n",
       "        var image = mpl.toolbar_items[toolbar_ind][2];\n",
       "        var method_name = mpl.toolbar_items[toolbar_ind][3];\n",
       "\n",
       "        if (!name) { continue; };\n",
       "\n",
       "        var button = $('<button class=\"btn btn-default\" href=\"#\" title=\"' + name + '\"><i class=\"fa ' + image + ' fa-lg\"></i></button>');\n",
       "        button.click(method_name, toolbar_event);\n",
       "        button.mouseover(tooltip, toolbar_mouse_event);\n",
       "        nav_element.append(button);\n",
       "    }\n",
       "\n",
       "    // Add the status bar.\n",
       "    var status_bar = $('<span class=\"mpl-message\" style=\"text-align:right; float: right;\"/>');\n",
       "    nav_element.append(status_bar);\n",
       "    this.message = status_bar[0];\n",
       "\n",
       "    // Add the close button to the window.\n",
       "    var buttongrp = $('<div class=\"btn-group inline pull-right\"></div>');\n",
       "    var button = $('<button class=\"btn btn-mini btn-primary\" href=\"#\" title=\"Stop Interaction\"><i class=\"fa fa-power-off icon-remove icon-large\"></i></button>');\n",
       "    button.click(function (evt) { fig.handle_close(fig, {}); } );\n",
       "    button.mouseover('Stop Interaction', toolbar_mouse_event);\n",
       "    buttongrp.append(button);\n",
       "    var titlebar = this.root.find($('.ui-dialog-titlebar'));\n",
       "    titlebar.prepend(buttongrp);\n",
       "}\n",
       "\n",
       "mpl.figure.prototype._root_extra_style = function(el){\n",
       "    var fig = this\n",
       "    el.on(\"remove\", function(){\n",
       "\tfig.close_ws(fig, {});\n",
       "    });\n",
       "}\n",
       "\n",
       "mpl.figure.prototype._canvas_extra_style = function(el){\n",
       "    // this is important to make the div 'focusable\n",
       "    el.attr('tabindex', 0)\n",
       "    // reach out to IPython and tell the keyboard manager to turn it's self\n",
       "    // off when our div gets focus\n",
       "\n",
       "    // location in version 3\n",
       "    if (IPython.notebook.keyboard_manager) {\n",
       "        IPython.notebook.keyboard_manager.register_events(el);\n",
       "    }\n",
       "    else {\n",
       "        // location in version 2\n",
       "        IPython.keyboard_manager.register_events(el);\n",
       "    }\n",
       "\n",
       "}\n",
       "\n",
       "mpl.figure.prototype._key_event_extra = function(event, name) {\n",
       "    var manager = IPython.notebook.keyboard_manager;\n",
       "    if (!manager)\n",
       "        manager = IPython.keyboard_manager;\n",
       "\n",
       "    // Check for shift+enter\n",
       "    if (event.shiftKey && event.which == 13) {\n",
       "        this.canvas_div.blur();\n",
       "        event.shiftKey = false;\n",
       "        // Send a \"J\" for go to next cell\n",
       "        event.which = 74;\n",
       "        event.keyCode = 74;\n",
       "        manager.command_mode();\n",
       "        manager.handle_keydown(event);\n",
       "    }\n",
       "}\n",
       "\n",
       "mpl.figure.prototype.handle_save = function(fig, msg) {\n",
       "    fig.ondownload(fig, null);\n",
       "}\n",
       "\n",
       "\n",
       "mpl.find_output_cell = function(html_output) {\n",
       "    // Return the cell and output element which can be found *uniquely* in the notebook.\n",
       "    // Note - this is a bit hacky, but it is done because the \"notebook_saving.Notebook\"\n",
       "    // IPython event is triggered only after the cells have been serialised, which for\n",
       "    // our purposes (turning an active figure into a static one), is too late.\n",
       "    var cells = IPython.notebook.get_cells();\n",
       "    var ncells = cells.length;\n",
       "    for (var i=0; i<ncells; i++) {\n",
       "        var cell = cells[i];\n",
       "        if (cell.cell_type === 'code'){\n",
       "            for (var j=0; j<cell.output_area.outputs.length; j++) {\n",
       "                var data = cell.output_area.outputs[j];\n",
       "                if (data.data) {\n",
       "                    // IPython >= 3 moved mimebundle to data attribute of output\n",
       "                    data = data.data;\n",
       "                }\n",
       "                if (data['text/html'] == html_output) {\n",
       "                    return [cell, data, j];\n",
       "                }\n",
       "            }\n",
       "        }\n",
       "    }\n",
       "}\n",
       "\n",
       "// Register the function which deals with the matplotlib target/channel.\n",
       "// The kernel may be null if the page has been refreshed.\n",
       "if (IPython.notebook.kernel != null) {\n",
       "    IPython.notebook.kernel.comm_manager.register_target('matplotlib', mpl.mpl_figure_comm);\n",
       "}\n"
      ],
      "text/plain": [
       "<IPython.core.display.Javascript object>"
      ]
     },
     "metadata": {},
     "output_type": "display_data"
    },
    {
     "data": {
      "text/html": [
       "<img src=\"data:image/png;base64,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\" width=\"1000\">"
      ],
      "text/plain": [
       "<IPython.core.display.HTML object>"
      ]
     },
     "metadata": {},
     "output_type": "display_data"
    }
   ],
   "source": [
    "x = np.arange(0, 10, .1)\n",
    "y = x + np.random.normal(0, 1, x.size)\n",
    "y2 = np.array([x_ + np.random.normal(0, x_ / 2) for x_ in x])\n",
    "\n",
    "fig, ax = plt.subplots(1, 2, figsize=(10,4))\n",
    "ax[0].plot(x,y, '--')\n",
    "ax[0].plot(x,y2, linewidth=2)\n",
    "ax[1].scatter(x,y)\n",
    "ax[1].scatter(x,y2, s=10, c='r')\n",
    "plt.show()"
   ]
  },
  {
   "cell_type": "code",
   "execution_count": 201,
   "metadata": {},
   "outputs": [
    {
     "data": {
      "application/javascript": [
       "/* Put everything inside the global mpl namespace */\n",
       "window.mpl = {};\n",
       "\n",
       "\n",
       "mpl.get_websocket_type = function() {\n",
       "    if (typeof(WebSocket) !== 'undefined') {\n",
       "        return WebSocket;\n",
       "    } else if (typeof(MozWebSocket) !== 'undefined') {\n",
       "        return MozWebSocket;\n",
       "    } else {\n",
       "        alert('Your browser does not have WebSocket support.' +\n",
       "              'Please try Chrome, Safari or Firefox ≥ 6. ' +\n",
       "              'Firefox 4 and 5 are also supported but you ' +\n",
       "              'have to enable WebSockets in about:config.');\n",
       "    };\n",
       "}\n",
       "\n",
       "mpl.figure = function(figure_id, websocket, ondownload, parent_element) {\n",
       "    this.id = figure_id;\n",
       "\n",
       "    this.ws = websocket;\n",
       "\n",
       "    this.supports_binary = (this.ws.binaryType != undefined);\n",
       "\n",
       "    if (!this.supports_binary) {\n",
       "        var warnings = document.getElementById(\"mpl-warnings\");\n",
       "        if (warnings) {\n",
       "            warnings.style.display = 'block';\n",
       "            warnings.textContent = (\n",
       "                \"This browser does not support binary websocket messages. \" +\n",
       "                    \"Performance may be slow.\");\n",
       "        }\n",
       "    }\n",
       "\n",
       "    this.imageObj = new Image();\n",
       "\n",
       "    this.context = undefined;\n",
       "    this.message = undefined;\n",
       "    this.canvas = undefined;\n",
       "    this.rubberband_canvas = undefined;\n",
       "    this.rubberband_context = undefined;\n",
       "    this.format_dropdown = undefined;\n",
       "\n",
       "    this.image_mode = 'full';\n",
       "\n",
       "    this.root = $('<div/>');\n",
       "    this._root_extra_style(this.root)\n",
       "    this.root.attr('style', 'display: inline-block');\n",
       "\n",
       "    $(parent_element).append(this.root);\n",
       "\n",
       "    this._init_header(this);\n",
       "    this._init_canvas(this);\n",
       "    this._init_toolbar(this);\n",
       "\n",
       "    var fig = this;\n",
       "\n",
       "    this.waiting = false;\n",
       "\n",
       "    this.ws.onopen =  function () {\n",
       "            fig.send_message(\"supports_binary\", {value: fig.supports_binary});\n",
       "            fig.send_message(\"send_image_mode\", {});\n",
       "            if (mpl.ratio != 1) {\n",
       "                fig.send_message(\"set_dpi_ratio\", {'dpi_ratio': mpl.ratio});\n",
       "            }\n",
       "            fig.send_message(\"refresh\", {});\n",
       "        }\n",
       "\n",
       "    this.imageObj.onload = function() {\n",
       "            if (fig.image_mode == 'full') {\n",
       "                // Full images could contain transparency (where diff images\n",
       "                // almost always do), so we need to clear the canvas so that\n",
       "                // there is no ghosting.\n",
       "                fig.context.clearRect(0, 0, fig.canvas.width, fig.canvas.height);\n",
       "            }\n",
       "            fig.context.drawImage(fig.imageObj, 0, 0);\n",
       "        };\n",
       "\n",
       "    this.imageObj.onunload = function() {\n",
       "        fig.ws.close();\n",
       "    }\n",
       "\n",
       "    this.ws.onmessage = this._make_on_message_function(this);\n",
       "\n",
       "    this.ondownload = ondownload;\n",
       "}\n",
       "\n",
       "mpl.figure.prototype._init_header = function() {\n",
       "    var titlebar = $(\n",
       "        '<div class=\"ui-dialog-titlebar ui-widget-header ui-corner-all ' +\n",
       "        'ui-helper-clearfix\"/>');\n",
       "    var titletext = $(\n",
       "        '<div class=\"ui-dialog-title\" style=\"width: 100%; ' +\n",
       "        'text-align: center; padding: 3px;\"/>');\n",
       "    titlebar.append(titletext)\n",
       "    this.root.append(titlebar);\n",
       "    this.header = titletext[0];\n",
       "}\n",
       "\n",
       "\n",
       "\n",
       "mpl.figure.prototype._canvas_extra_style = function(canvas_div) {\n",
       "\n",
       "}\n",
       "\n",
       "\n",
       "mpl.figure.prototype._root_extra_style = function(canvas_div) {\n",
       "\n",
       "}\n",
       "\n",
       "mpl.figure.prototype._init_canvas = function() {\n",
       "    var fig = this;\n",
       "\n",
       "    var canvas_div = $('<div/>');\n",
       "\n",
       "    canvas_div.attr('style', 'position: relative; clear: both; outline: 0');\n",
       "\n",
       "    function canvas_keyboard_event(event) {\n",
       "        return fig.key_event(event, event['data']);\n",
       "    }\n",
       "\n",
       "    canvas_div.keydown('key_press', canvas_keyboard_event);\n",
       "    canvas_div.keyup('key_release', canvas_keyboard_event);\n",
       "    this.canvas_div = canvas_div\n",
       "    this._canvas_extra_style(canvas_div)\n",
       "    this.root.append(canvas_div);\n",
       "\n",
       "    var canvas = $('<canvas/>');\n",
       "    canvas.addClass('mpl-canvas');\n",
       "    canvas.attr('style', \"left: 0; top: 0; z-index: 0; outline: 0\")\n",
       "\n",
       "    this.canvas = canvas[0];\n",
       "    this.context = canvas[0].getContext(\"2d\");\n",
       "\n",
       "    var backingStore = this.context.backingStorePixelRatio ||\n",
       "\tthis.context.webkitBackingStorePixelRatio ||\n",
       "\tthis.context.mozBackingStorePixelRatio ||\n",
       "\tthis.context.msBackingStorePixelRatio ||\n",
       "\tthis.context.oBackingStorePixelRatio ||\n",
       "\tthis.context.backingStorePixelRatio || 1;\n",
       "\n",
       "    mpl.ratio = (window.devicePixelRatio || 1) / backingStore;\n",
       "\n",
       "    var rubberband = $('<canvas/>');\n",
       "    rubberband.attr('style', \"position: absolute; left: 0; top: 0; z-index: 1;\")\n",
       "\n",
       "    var pass_mouse_events = true;\n",
       "\n",
       "    canvas_div.resizable({\n",
       "        start: function(event, ui) {\n",
       "            pass_mouse_events = false;\n",
       "        },\n",
       "        resize: function(event, ui) {\n",
       "            fig.request_resize(ui.size.width, ui.size.height);\n",
       "        },\n",
       "        stop: function(event, ui) {\n",
       "            pass_mouse_events = true;\n",
       "            fig.request_resize(ui.size.width, ui.size.height);\n",
       "        },\n",
       "    });\n",
       "\n",
       "    function mouse_event_fn(event) {\n",
       "        if (pass_mouse_events)\n",
       "            return fig.mouse_event(event, event['data']);\n",
       "    }\n",
       "\n",
       "    rubberband.mousedown('button_press', mouse_event_fn);\n",
       "    rubberband.mouseup('button_release', mouse_event_fn);\n",
       "    // Throttle sequential mouse events to 1 every 20ms.\n",
       "    rubberband.mousemove('motion_notify', mouse_event_fn);\n",
       "\n",
       "    rubberband.mouseenter('figure_enter', mouse_event_fn);\n",
       "    rubberband.mouseleave('figure_leave', mouse_event_fn);\n",
       "\n",
       "    canvas_div.on(\"wheel\", function (event) {\n",
       "        event = event.originalEvent;\n",
       "        event['data'] = 'scroll'\n",
       "        if (event.deltaY < 0) {\n",
       "            event.step = 1;\n",
       "        } else {\n",
       "            event.step = -1;\n",
       "        }\n",
       "        mouse_event_fn(event);\n",
       "    });\n",
       "\n",
       "    canvas_div.append(canvas);\n",
       "    canvas_div.append(rubberband);\n",
       "\n",
       "    this.rubberband = rubberband;\n",
       "    this.rubberband_canvas = rubberband[0];\n",
       "    this.rubberband_context = rubberband[0].getContext(\"2d\");\n",
       "    this.rubberband_context.strokeStyle = \"#000000\";\n",
       "\n",
       "    this._resize_canvas = function(width, height) {\n",
       "        // Keep the size of the canvas, canvas container, and rubber band\n",
       "        // canvas in synch.\n",
       "        canvas_div.css('width', width)\n",
       "        canvas_div.css('height', height)\n",
       "\n",
       "        canvas.attr('width', width * mpl.ratio);\n",
       "        canvas.attr('height', height * mpl.ratio);\n",
       "        canvas.attr('style', 'width: ' + width + 'px; height: ' + height + 'px;');\n",
       "\n",
       "        rubberband.attr('width', width);\n",
       "        rubberband.attr('height', height);\n",
       "    }\n",
       "\n",
       "    // Set the figure to an initial 600x600px, this will subsequently be updated\n",
       "    // upon first draw.\n",
       "    this._resize_canvas(600, 600);\n",
       "\n",
       "    // Disable right mouse context menu.\n",
       "    $(this.rubberband_canvas).bind(\"contextmenu\",function(e){\n",
       "        return false;\n",
       "    });\n",
       "\n",
       "    function set_focus () {\n",
       "        canvas.focus();\n",
       "        canvas_div.focus();\n",
       "    }\n",
       "\n",
       "    window.setTimeout(set_focus, 100);\n",
       "}\n",
       "\n",
       "mpl.figure.prototype._init_toolbar = function() {\n",
       "    var fig = this;\n",
       "\n",
       "    var nav_element = $('<div/>')\n",
       "    nav_element.attr('style', 'width: 100%');\n",
       "    this.root.append(nav_element);\n",
       "\n",
       "    // Define a callback function for later on.\n",
       "    function toolbar_event(event) {\n",
       "        return fig.toolbar_button_onclick(event['data']);\n",
       "    }\n",
       "    function toolbar_mouse_event(event) {\n",
       "        return fig.toolbar_button_onmouseover(event['data']);\n",
       "    }\n",
       "\n",
       "    for(var toolbar_ind in mpl.toolbar_items) {\n",
       "        var name = mpl.toolbar_items[toolbar_ind][0];\n",
       "        var tooltip = mpl.toolbar_items[toolbar_ind][1];\n",
       "        var image = mpl.toolbar_items[toolbar_ind][2];\n",
       "        var method_name = mpl.toolbar_items[toolbar_ind][3];\n",
       "\n",
       "        if (!name) {\n",
       "            // put a spacer in here.\n",
       "            continue;\n",
       "        }\n",
       "        var button = $('<button/>');\n",
       "        button.addClass('ui-button ui-widget ui-state-default ui-corner-all ' +\n",
       "                        'ui-button-icon-only');\n",
       "        button.attr('role', 'button');\n",
       "        button.attr('aria-disabled', 'false');\n",
       "        button.click(method_name, toolbar_event);\n",
       "        button.mouseover(tooltip, toolbar_mouse_event);\n",
       "\n",
       "        var icon_img = $('<span/>');\n",
       "        icon_img.addClass('ui-button-icon-primary ui-icon');\n",
       "        icon_img.addClass(image);\n",
       "        icon_img.addClass('ui-corner-all');\n",
       "\n",
       "        var tooltip_span = $('<span/>');\n",
       "        tooltip_span.addClass('ui-button-text');\n",
       "        tooltip_span.html(tooltip);\n",
       "\n",
       "        button.append(icon_img);\n",
       "        button.append(tooltip_span);\n",
       "\n",
       "        nav_element.append(button);\n",
       "    }\n",
       "\n",
       "    var fmt_picker_span = $('<span/>');\n",
       "\n",
       "    var fmt_picker = $('<select/>');\n",
       "    fmt_picker.addClass('mpl-toolbar-option ui-widget ui-widget-content');\n",
       "    fmt_picker_span.append(fmt_picker);\n",
       "    nav_element.append(fmt_picker_span);\n",
       "    this.format_dropdown = fmt_picker[0];\n",
       "\n",
       "    for (var ind in mpl.extensions) {\n",
       "        var fmt = mpl.extensions[ind];\n",
       "        var option = $(\n",
       "            '<option/>', {selected: fmt === mpl.default_extension}).html(fmt);\n",
       "        fmt_picker.append(option)\n",
       "    }\n",
       "\n",
       "    // Add hover states to the ui-buttons\n",
       "    $( \".ui-button\" ).hover(\n",
       "        function() { $(this).addClass(\"ui-state-hover\");},\n",
       "        function() { $(this).removeClass(\"ui-state-hover\");}\n",
       "    );\n",
       "\n",
       "    var status_bar = $('<span class=\"mpl-message\"/>');\n",
       "    nav_element.append(status_bar);\n",
       "    this.message = status_bar[0];\n",
       "}\n",
       "\n",
       "mpl.figure.prototype.request_resize = function(x_pixels, y_pixels) {\n",
       "    // Request matplotlib to resize the figure. Matplotlib will then trigger a resize in the client,\n",
       "    // which will in turn request a refresh of the image.\n",
       "    this.send_message('resize', {'width': x_pixels, 'height': y_pixels});\n",
       "}\n",
       "\n",
       "mpl.figure.prototype.send_message = function(type, properties) {\n",
       "    properties['type'] = type;\n",
       "    properties['figure_id'] = this.id;\n",
       "    this.ws.send(JSON.stringify(properties));\n",
       "}\n",
       "\n",
       "mpl.figure.prototype.send_draw_message = function() {\n",
       "    if (!this.waiting) {\n",
       "        this.waiting = true;\n",
       "        this.ws.send(JSON.stringify({type: \"draw\", figure_id: this.id}));\n",
       "    }\n",
       "}\n",
       "\n",
       "\n",
       "mpl.figure.prototype.handle_save = function(fig, msg) {\n",
       "    var format_dropdown = fig.format_dropdown;\n",
       "    var format = format_dropdown.options[format_dropdown.selectedIndex].value;\n",
       "    fig.ondownload(fig, format);\n",
       "}\n",
       "\n",
       "\n",
       "mpl.figure.prototype.handle_resize = function(fig, msg) {\n",
       "    var size = msg['size'];\n",
       "    if (size[0] != fig.canvas.width || size[1] != fig.canvas.height) {\n",
       "        fig._resize_canvas(size[0], size[1]);\n",
       "        fig.send_message(\"refresh\", {});\n",
       "    };\n",
       "}\n",
       "\n",
       "mpl.figure.prototype.handle_rubberband = function(fig, msg) {\n",
       "    var x0 = msg['x0'] / mpl.ratio;\n",
       "    var y0 = (fig.canvas.height - msg['y0']) / mpl.ratio;\n",
       "    var x1 = msg['x1'] / mpl.ratio;\n",
       "    var y1 = (fig.canvas.height - msg['y1']) / mpl.ratio;\n",
       "    x0 = Math.floor(x0) + 0.5;\n",
       "    y0 = Math.floor(y0) + 0.5;\n",
       "    x1 = Math.floor(x1) + 0.5;\n",
       "    y1 = Math.floor(y1) + 0.5;\n",
       "    var min_x = Math.min(x0, x1);\n",
       "    var min_y = Math.min(y0, y1);\n",
       "    var width = Math.abs(x1 - x0);\n",
       "    var height = Math.abs(y1 - y0);\n",
       "\n",
       "    fig.rubberband_context.clearRect(\n",
       "        0, 0, fig.canvas.width, fig.canvas.height);\n",
       "\n",
       "    fig.rubberband_context.strokeRect(min_x, min_y, width, height);\n",
       "}\n",
       "\n",
       "mpl.figure.prototype.handle_figure_label = function(fig, msg) {\n",
       "    // Updates the figure title.\n",
       "    fig.header.textContent = msg['label'];\n",
       "}\n",
       "\n",
       "mpl.figure.prototype.handle_cursor = function(fig, msg) {\n",
       "    var cursor = msg['cursor'];\n",
       "    switch(cursor)\n",
       "    {\n",
       "    case 0:\n",
       "        cursor = 'pointer';\n",
       "        break;\n",
       "    case 1:\n",
       "        cursor = 'default';\n",
       "        break;\n",
       "    case 2:\n",
       "        cursor = 'crosshair';\n",
       "        break;\n",
       "    case 3:\n",
       "        cursor = 'move';\n",
       "        break;\n",
       "    }\n",
       "    fig.rubberband_canvas.style.cursor = cursor;\n",
       "}\n",
       "\n",
       "mpl.figure.prototype.handle_message = function(fig, msg) {\n",
       "    fig.message.textContent = msg['message'];\n",
       "}\n",
       "\n",
       "mpl.figure.prototype.handle_draw = function(fig, msg) {\n",
       "    // Request the server to send over a new figure.\n",
       "    fig.send_draw_message();\n",
       "}\n",
       "\n",
       "mpl.figure.prototype.handle_image_mode = function(fig, msg) {\n",
       "    fig.image_mode = msg['mode'];\n",
       "}\n",
       "\n",
       "mpl.figure.prototype.updated_canvas_event = function() {\n",
       "    // Called whenever the canvas gets updated.\n",
       "    this.send_message(\"ack\", {});\n",
       "}\n",
       "\n",
       "// A function to construct a web socket function for onmessage handling.\n",
       "// Called in the figure constructor.\n",
       "mpl.figure.prototype._make_on_message_function = function(fig) {\n",
       "    return function socket_on_message(evt) {\n",
       "        if (evt.data instanceof Blob) {\n",
       "            /* FIXME: We get \"Resource interpreted as Image but\n",
       "             * transferred with MIME type text/plain:\" errors on\n",
       "             * Chrome.  But how to set the MIME type?  It doesn't seem\n",
       "             * to be part of the websocket stream */\n",
       "            evt.data.type = \"image/png\";\n",
       "\n",
       "            /* Free the memory for the previous frames */\n",
       "            if (fig.imageObj.src) {\n",
       "                (window.URL || window.webkitURL).revokeObjectURL(\n",
       "                    fig.imageObj.src);\n",
       "            }\n",
       "\n",
       "            fig.imageObj.src = (window.URL || window.webkitURL).createObjectURL(\n",
       "                evt.data);\n",
       "            fig.updated_canvas_event();\n",
       "            fig.waiting = false;\n",
       "            return;\n",
       "        }\n",
       "        else if (typeof evt.data === 'string' && evt.data.slice(0, 21) == \"data:image/png;base64\") {\n",
       "            fig.imageObj.src = evt.data;\n",
       "            fig.updated_canvas_event();\n",
       "            fig.waiting = false;\n",
       "            return;\n",
       "        }\n",
       "\n",
       "        var msg = JSON.parse(evt.data);\n",
       "        var msg_type = msg['type'];\n",
       "\n",
       "        // Call the  \"handle_{type}\" callback, which takes\n",
       "        // the figure and JSON message as its only arguments.\n",
       "        try {\n",
       "            var callback = fig[\"handle_\" + msg_type];\n",
       "        } catch (e) {\n",
       "            console.log(\"No handler for the '\" + msg_type + \"' message type: \", msg);\n",
       "            return;\n",
       "        }\n",
       "\n",
       "        if (callback) {\n",
       "            try {\n",
       "                // console.log(\"Handling '\" + msg_type + \"' message: \", msg);\n",
       "                callback(fig, msg);\n",
       "            } catch (e) {\n",
       "                console.log(\"Exception inside the 'handler_\" + msg_type + \"' callback:\", e, e.stack, msg);\n",
       "            }\n",
       "        }\n",
       "    };\n",
       "}\n",
       "\n",
       "// from http://stackoverflow.com/questions/1114465/getting-mouse-location-in-canvas\n",
       "mpl.findpos = function(e) {\n",
       "    //this section is from http://www.quirksmode.org/js/events_properties.html\n",
       "    var targ;\n",
       "    if (!e)\n",
       "        e = window.event;\n",
       "    if (e.target)\n",
       "        targ = e.target;\n",
       "    else if (e.srcElement)\n",
       "        targ = e.srcElement;\n",
       "    if (targ.nodeType == 3) // defeat Safari bug\n",
       "        targ = targ.parentNode;\n",
       "\n",
       "    // jQuery normalizes the pageX and pageY\n",
       "    // pageX,Y are the mouse positions relative to the document\n",
       "    // offset() returns the position of the element relative to the document\n",
       "    var x = e.pageX - $(targ).offset().left;\n",
       "    var y = e.pageY - $(targ).offset().top;\n",
       "\n",
       "    return {\"x\": x, \"y\": y};\n",
       "};\n",
       "\n",
       "/*\n",
       " * return a copy of an object with only non-object keys\n",
       " * we need this to avoid circular references\n",
       " * http://stackoverflow.com/a/24161582/3208463\n",
       " */\n",
       "function simpleKeys (original) {\n",
       "  return Object.keys(original).reduce(function (obj, key) {\n",
       "    if (typeof original[key] !== 'object')\n",
       "        obj[key] = original[key]\n",
       "    return obj;\n",
       "  }, {});\n",
       "}\n",
       "\n",
       "mpl.figure.prototype.mouse_event = function(event, name) {\n",
       "    var canvas_pos = mpl.findpos(event)\n",
       "\n",
       "    if (name === 'button_press')\n",
       "    {\n",
       "        this.canvas.focus();\n",
       "        this.canvas_div.focus();\n",
       "    }\n",
       "\n",
       "    var x = canvas_pos.x * mpl.ratio;\n",
       "    var y = canvas_pos.y * mpl.ratio;\n",
       "\n",
       "    this.send_message(name, {x: x, y: y, button: event.button,\n",
       "                             step: event.step,\n",
       "                             guiEvent: simpleKeys(event)});\n",
       "\n",
       "    /* This prevents the web browser from automatically changing to\n",
       "     * the text insertion cursor when the button is pressed.  We want\n",
       "     * to control all of the cursor setting manually through the\n",
       "     * 'cursor' event from matplotlib */\n",
       "    event.preventDefault();\n",
       "    return false;\n",
       "}\n",
       "\n",
       "mpl.figure.prototype._key_event_extra = function(event, name) {\n",
       "    // Handle any extra behaviour associated with a key event\n",
       "}\n",
       "\n",
       "mpl.figure.prototype.key_event = function(event, name) {\n",
       "\n",
       "    // Prevent repeat events\n",
       "    if (name == 'key_press')\n",
       "    {\n",
       "        if (event.which === this._key)\n",
       "            return;\n",
       "        else\n",
       "            this._key = event.which;\n",
       "    }\n",
       "    if (name == 'key_release')\n",
       "        this._key = null;\n",
       "\n",
       "    var value = '';\n",
       "    if (event.ctrlKey && event.which != 17)\n",
       "        value += \"ctrl+\";\n",
       "    if (event.altKey && event.which != 18)\n",
       "        value += \"alt+\";\n",
       "    if (event.shiftKey && event.which != 16)\n",
       "        value += \"shift+\";\n",
       "\n",
       "    value += 'k';\n",
       "    value += event.which.toString();\n",
       "\n",
       "    this._key_event_extra(event, name);\n",
       "\n",
       "    this.send_message(name, {key: value,\n",
       "                             guiEvent: simpleKeys(event)});\n",
       "    return false;\n",
       "}\n",
       "\n",
       "mpl.figure.prototype.toolbar_button_onclick = function(name) {\n",
       "    if (name == 'download') {\n",
       "        this.handle_save(this, null);\n",
       "    } else {\n",
       "        this.send_message(\"toolbar_button\", {name: name});\n",
       "    }\n",
       "};\n",
       "\n",
       "mpl.figure.prototype.toolbar_button_onmouseover = function(tooltip) {\n",
       "    this.message.textContent = tooltip;\n",
       "};\n",
       "mpl.toolbar_items = [[\"Home\", \"Reset original view\", \"fa fa-home icon-home\", \"home\"], [\"Back\", \"Back to previous view\", \"fa fa-arrow-left icon-arrow-left\", \"back\"], [\"Forward\", \"Forward to next view\", \"fa fa-arrow-right icon-arrow-right\", \"forward\"], [\"\", \"\", \"\", \"\"], [\"Pan\", \"Pan axes with left mouse, zoom with right\", \"fa fa-arrows icon-move\", \"pan\"], [\"Zoom\", \"Zoom to rectangle\", \"fa fa-square-o icon-check-empty\", \"zoom\"], [\"\", \"\", \"\", \"\"], [\"Download\", \"Download plot\", \"fa fa-floppy-o icon-save\", \"download\"]];\n",
       "\n",
       "mpl.extensions = [\"eps\", \"pdf\", \"png\", \"ps\", \"raw\", \"svg\"];\n",
       "\n",
       "mpl.default_extension = \"png\";var comm_websocket_adapter = function(comm) {\n",
       "    // Create a \"websocket\"-like object which calls the given IPython comm\n",
       "    // object with the appropriate methods. Currently this is a non binary\n",
       "    // socket, so there is still some room for performance tuning.\n",
       "    var ws = {};\n",
       "\n",
       "    ws.close = function() {\n",
       "        comm.close()\n",
       "    };\n",
       "    ws.send = function(m) {\n",
       "        //console.log('sending', m);\n",
       "        comm.send(m);\n",
       "    };\n",
       "    // Register the callback with on_msg.\n",
       "    comm.on_msg(function(msg) {\n",
       "        //console.log('receiving', msg['content']['data'], msg);\n",
       "        // Pass the mpl event to the overridden (by mpl) onmessage function.\n",
       "        ws.onmessage(msg['content']['data'])\n",
       "    });\n",
       "    return ws;\n",
       "}\n",
       "\n",
       "mpl.mpl_figure_comm = function(comm, msg) {\n",
       "    // This is the function which gets called when the mpl process\n",
       "    // starts-up an IPython Comm through the \"matplotlib\" channel.\n",
       "\n",
       "    var id = msg.content.data.id;\n",
       "    // Get hold of the div created by the display call when the Comm\n",
       "    // socket was opened in Python.\n",
       "    var element = $(\"#\" + id);\n",
       "    var ws_proxy = comm_websocket_adapter(comm)\n",
       "\n",
       "    function ondownload(figure, format) {\n",
       "        window.open(figure.imageObj.src);\n",
       "    }\n",
       "\n",
       "    var fig = new mpl.figure(id, ws_proxy,\n",
       "                           ondownload,\n",
       "                           element.get(0));\n",
       "\n",
       "    // Call onopen now - mpl needs it, as it is assuming we've passed it a real\n",
       "    // web socket which is closed, not our websocket->open comm proxy.\n",
       "    ws_proxy.onopen();\n",
       "\n",
       "    fig.parent_element = element.get(0);\n",
       "    fig.cell_info = mpl.find_output_cell(\"<div id='\" + id + \"'></div>\");\n",
       "    if (!fig.cell_info) {\n",
       "        console.error(\"Failed to find cell for figure\", id, fig);\n",
       "        return;\n",
       "    }\n",
       "\n",
       "    var output_index = fig.cell_info[2]\n",
       "    var cell = fig.cell_info[0];\n",
       "\n",
       "};\n",
       "\n",
       "mpl.figure.prototype.handle_close = function(fig, msg) {\n",
       "    var width = fig.canvas.width/mpl.ratio\n",
       "    fig.root.unbind('remove')\n",
       "\n",
       "    // Update the output cell to use the data from the current canvas.\n",
       "    fig.push_to_output();\n",
       "    var dataURL = fig.canvas.toDataURL();\n",
       "    // Re-enable the keyboard manager in IPython - without this line, in FF,\n",
       "    // the notebook keyboard shortcuts fail.\n",
       "    IPython.keyboard_manager.enable()\n",
       "    $(fig.parent_element).html('<img src=\"' + dataURL + '\" width=\"' + width + '\">');\n",
       "    fig.close_ws(fig, msg);\n",
       "}\n",
       "\n",
       "mpl.figure.prototype.close_ws = function(fig, msg){\n",
       "    fig.send_message('closing', msg);\n",
       "    // fig.ws.close()\n",
       "}\n",
       "\n",
       "mpl.figure.prototype.push_to_output = function(remove_interactive) {\n",
       "    // Turn the data on the canvas into data in the output cell.\n",
       "    var width = this.canvas.width/mpl.ratio\n",
       "    var dataURL = this.canvas.toDataURL();\n",
       "    this.cell_info[1]['text/html'] = '<img src=\"' + dataURL + '\" width=\"' + width + '\">';\n",
       "}\n",
       "\n",
       "mpl.figure.prototype.updated_canvas_event = function() {\n",
       "    // Tell IPython that the notebook contents must change.\n",
       "    IPython.notebook.set_dirty(true);\n",
       "    this.send_message(\"ack\", {});\n",
       "    var fig = this;\n",
       "    // Wait a second, then push the new image to the DOM so\n",
       "    // that it is saved nicely (might be nice to debounce this).\n",
       "    setTimeout(function () { fig.push_to_output() }, 1000);\n",
       "}\n",
       "\n",
       "mpl.figure.prototype._init_toolbar = function() {\n",
       "    var fig = this;\n",
       "\n",
       "    var nav_element = $('<div/>')\n",
       "    nav_element.attr('style', 'width: 100%');\n",
       "    this.root.append(nav_element);\n",
       "\n",
       "    // Define a callback function for later on.\n",
       "    function toolbar_event(event) {\n",
       "        return fig.toolbar_button_onclick(event['data']);\n",
       "    }\n",
       "    function toolbar_mouse_event(event) {\n",
       "        return fig.toolbar_button_onmouseover(event['data']);\n",
       "    }\n",
       "\n",
       "    for(var toolbar_ind in mpl.toolbar_items){\n",
       "        var name = mpl.toolbar_items[toolbar_ind][0];\n",
       "        var tooltip = mpl.toolbar_items[toolbar_ind][1];\n",
       "        var image = mpl.toolbar_items[toolbar_ind][2];\n",
       "        var method_name = mpl.toolbar_items[toolbar_ind][3];\n",
       "\n",
       "        if (!name) { continue; };\n",
       "\n",
       "        var button = $('<button class=\"btn btn-default\" href=\"#\" title=\"' + name + '\"><i class=\"fa ' + image + ' fa-lg\"></i></button>');\n",
       "        button.click(method_name, toolbar_event);\n",
       "        button.mouseover(tooltip, toolbar_mouse_event);\n",
       "        nav_element.append(button);\n",
       "    }\n",
       "\n",
       "    // Add the status bar.\n",
       "    var status_bar = $('<span class=\"mpl-message\" style=\"text-align:right; float: right;\"/>');\n",
       "    nav_element.append(status_bar);\n",
       "    this.message = status_bar[0];\n",
       "\n",
       "    // Add the close button to the window.\n",
       "    var buttongrp = $('<div class=\"btn-group inline pull-right\"></div>');\n",
       "    var button = $('<button class=\"btn btn-mini btn-primary\" href=\"#\" title=\"Stop Interaction\"><i class=\"fa fa-power-off icon-remove icon-large\"></i></button>');\n",
       "    button.click(function (evt) { fig.handle_close(fig, {}); } );\n",
       "    button.mouseover('Stop Interaction', toolbar_mouse_event);\n",
       "    buttongrp.append(button);\n",
       "    var titlebar = this.root.find($('.ui-dialog-titlebar'));\n",
       "    titlebar.prepend(buttongrp);\n",
       "}\n",
       "\n",
       "mpl.figure.prototype._root_extra_style = function(el){\n",
       "    var fig = this\n",
       "    el.on(\"remove\", function(){\n",
       "\tfig.close_ws(fig, {});\n",
       "    });\n",
       "}\n",
       "\n",
       "mpl.figure.prototype._canvas_extra_style = function(el){\n",
       "    // this is important to make the div 'focusable\n",
       "    el.attr('tabindex', 0)\n",
       "    // reach out to IPython and tell the keyboard manager to turn it's self\n",
       "    // off when our div gets focus\n",
       "\n",
       "    // location in version 3\n",
       "    if (IPython.notebook.keyboard_manager) {\n",
       "        IPython.notebook.keyboard_manager.register_events(el);\n",
       "    }\n",
       "    else {\n",
       "        // location in version 2\n",
       "        IPython.keyboard_manager.register_events(el);\n",
       "    }\n",
       "\n",
       "}\n",
       "\n",
       "mpl.figure.prototype._key_event_extra = function(event, name) {\n",
       "    var manager = IPython.notebook.keyboard_manager;\n",
       "    if (!manager)\n",
       "        manager = IPython.keyboard_manager;\n",
       "\n",
       "    // Check for shift+enter\n",
       "    if (event.shiftKey && event.which == 13) {\n",
       "        this.canvas_div.blur();\n",
       "        event.shiftKey = false;\n",
       "        // Send a \"J\" for go to next cell\n",
       "        event.which = 74;\n",
       "        event.keyCode = 74;\n",
       "        manager.command_mode();\n",
       "        manager.handle_keydown(event);\n",
       "    }\n",
       "}\n",
       "\n",
       "mpl.figure.prototype.handle_save = function(fig, msg) {\n",
       "    fig.ondownload(fig, null);\n",
       "}\n",
       "\n",
       "\n",
       "mpl.find_output_cell = function(html_output) {\n",
       "    // Return the cell and output element which can be found *uniquely* in the notebook.\n",
       "    // Note - this is a bit hacky, but it is done because the \"notebook_saving.Notebook\"\n",
       "    // IPython event is triggered only after the cells have been serialised, which for\n",
       "    // our purposes (turning an active figure into a static one), is too late.\n",
       "    var cells = IPython.notebook.get_cells();\n",
       "    var ncells = cells.length;\n",
       "    for (var i=0; i<ncells; i++) {\n",
       "        var cell = cells[i];\n",
       "        if (cell.cell_type === 'code'){\n",
       "            for (var j=0; j<cell.output_area.outputs.length; j++) {\n",
       "                var data = cell.output_area.outputs[j];\n",
       "                if (data.data) {\n",
       "                    // IPython >= 3 moved mimebundle to data attribute of output\n",
       "                    data = data.data;\n",
       "                }\n",
       "                if (data['text/html'] == html_output) {\n",
       "                    return [cell, data, j];\n",
       "                }\n",
       "            }\n",
       "        }\n",
       "    }\n",
       "}\n",
       "\n",
       "// Register the function which deals with the matplotlib target/channel.\n",
       "// The kernel may be null if the page has been refreshed.\n",
       "if (IPython.notebook.kernel != null) {\n",
       "    IPython.notebook.kernel.comm_manager.register_target('matplotlib', mpl.mpl_figure_comm);\n",
       "}\n"
      ],
      "text/plain": [
       "<IPython.core.display.Javascript object>"
      ]
     },
     "metadata": {},
     "output_type": "display_data"
    },
    {
     "data": {
      "text/html": [
       "<img src=\"data:image/png;base64,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\" width=\"1000\">"
      ],
      "text/plain": [
       "<IPython.core.display.HTML object>"
      ]
     },
     "metadata": {},
     "output_type": "display_data"
    },
    {
     "name": "stderr",
     "output_type": "stream",
     "text": [
      "/home/dsc/anaconda3/envs/kschool/lib/python3.7/site-packages/matplotlib/axes/_axes.py:6510: MatplotlibDeprecationWarning: \n",
      "The 'normed' kwarg was deprecated in Matplotlib 2.1 and will be removed in 3.1. Use 'density' instead.\n",
      "  alternative=\"'density'\", removal=\"3.1\")\n"
     ]
    }
   ],
   "source": [
    "import seaborn as sns\n",
    "\n",
    "x = np.arange(0, 10, .1)\n",
    "y = x + np.random.normal(0, 1, x.size)\n",
    "y2 = np.array([x_ + np.random.normal(0, x_ / 2) for x_ in x])\n",
    "x3 = np.random.beta(1, 4, size=10000)\n",
    "y3 = np.random.beta(5, 3, size=10000)\n",
    "pois = np.random.normal(3, 10, 1000)\n",
    "pois2 = np.random.normal(20, 4, 500)\n",
    "\n",
    "x4 = np.arange(-2, 2, 0.05)\n",
    "y4 = x4 ** 3\n",
    "\n",
    "fig, ax = plt.subplots(5, 2, figsize=(10,10))\n",
    "ax[0,0].plot(x,y, '--')\n",
    "ax[0,0].plot(x,y2, linewidth=2)\n",
    "ax[0,1].scatter(x,y)\n",
    "ax[0,1].scatter(x,y2, s=10, c='r')\n",
    "ax[1,0].scatter(x3, y3, alpha=.01)\n",
    "ax[1,1].hist(pois, bins=50)\n",
    "ax[1,1].hist(pois2, bins=50, alpha=0.7)\n",
    "ax[2,0].plot(x4, y4)\n",
    "ax[2,1].plot(x4, np.sin(x4))\n",
    "ax[2,1].plot(x4, np.cos(x4))\n",
    "ax[2,1].grid()\n",
    "ax[3,0].hist(pois, cumulative=True, normed=True, bins=100)\n",
    "ax[3,1].bar([0,1,2],[4,2,5])\n",
    "ax[4,0].boxplot([1,1,1,4,40,5,23,5,10,10,12,1,42,12,13,15,8])\n",
    "sns.violinplot(pois, ax=ax[4,1])\n",
    "\n",
    "plt.show()"
   ]
  },
  {
   "cell_type": "code",
   "execution_count": 202,
   "metadata": {},
   "outputs": [
    {
     "data": {
      "application/javascript": [
       "/* Put everything inside the global mpl namespace */\n",
       "window.mpl = {};\n",
       "\n",
       "\n",
       "mpl.get_websocket_type = function() {\n",
       "    if (typeof(WebSocket) !== 'undefined') {\n",
       "        return WebSocket;\n",
       "    } else if (typeof(MozWebSocket) !== 'undefined') {\n",
       "        return MozWebSocket;\n",
       "    } else {\n",
       "        alert('Your browser does not have WebSocket support.' +\n",
       "              'Please try Chrome, Safari or Firefox ≥ 6. ' +\n",
       "              'Firefox 4 and 5 are also supported but you ' +\n",
       "              'have to enable WebSockets in about:config.');\n",
       "    };\n",
       "}\n",
       "\n",
       "mpl.figure = function(figure_id, websocket, ondownload, parent_element) {\n",
       "    this.id = figure_id;\n",
       "\n",
       "    this.ws = websocket;\n",
       "\n",
       "    this.supports_binary = (this.ws.binaryType != undefined);\n",
       "\n",
       "    if (!this.supports_binary) {\n",
       "        var warnings = document.getElementById(\"mpl-warnings\");\n",
       "        if (warnings) {\n",
       "            warnings.style.display = 'block';\n",
       "            warnings.textContent = (\n",
       "                \"This browser does not support binary websocket messages. \" +\n",
       "                    \"Performance may be slow.\");\n",
       "        }\n",
       "    }\n",
       "\n",
       "    this.imageObj = new Image();\n",
       "\n",
       "    this.context = undefined;\n",
       "    this.message = undefined;\n",
       "    this.canvas = undefined;\n",
       "    this.rubberband_canvas = undefined;\n",
       "    this.rubberband_context = undefined;\n",
       "    this.format_dropdown = undefined;\n",
       "\n",
       "    this.image_mode = 'full';\n",
       "\n",
       "    this.root = $('<div/>');\n",
       "    this._root_extra_style(this.root)\n",
       "    this.root.attr('style', 'display: inline-block');\n",
       "\n",
       "    $(parent_element).append(this.root);\n",
       "\n",
       "    this._init_header(this);\n",
       "    this._init_canvas(this);\n",
       "    this._init_toolbar(this);\n",
       "\n",
       "    var fig = this;\n",
       "\n",
       "    this.waiting = false;\n",
       "\n",
       "    this.ws.onopen =  function () {\n",
       "            fig.send_message(\"supports_binary\", {value: fig.supports_binary});\n",
       "            fig.send_message(\"send_image_mode\", {});\n",
       "            if (mpl.ratio != 1) {\n",
       "                fig.send_message(\"set_dpi_ratio\", {'dpi_ratio': mpl.ratio});\n",
       "            }\n",
       "            fig.send_message(\"refresh\", {});\n",
       "        }\n",
       "\n",
       "    this.imageObj.onload = function() {\n",
       "            if (fig.image_mode == 'full') {\n",
       "                // Full images could contain transparency (where diff images\n",
       "                // almost always do), so we need to clear the canvas so that\n",
       "                // there is no ghosting.\n",
       "                fig.context.clearRect(0, 0, fig.canvas.width, fig.canvas.height);\n",
       "            }\n",
       "            fig.context.drawImage(fig.imageObj, 0, 0);\n",
       "        };\n",
       "\n",
       "    this.imageObj.onunload = function() {\n",
       "        fig.ws.close();\n",
       "    }\n",
       "\n",
       "    this.ws.onmessage = this._make_on_message_function(this);\n",
       "\n",
       "    this.ondownload = ondownload;\n",
       "}\n",
       "\n",
       "mpl.figure.prototype._init_header = function() {\n",
       "    var titlebar = $(\n",
       "        '<div class=\"ui-dialog-titlebar ui-widget-header ui-corner-all ' +\n",
       "        'ui-helper-clearfix\"/>');\n",
       "    var titletext = $(\n",
       "        '<div class=\"ui-dialog-title\" style=\"width: 100%; ' +\n",
       "        'text-align: center; padding: 3px;\"/>');\n",
       "    titlebar.append(titletext)\n",
       "    this.root.append(titlebar);\n",
       "    this.header = titletext[0];\n",
       "}\n",
       "\n",
       "\n",
       "\n",
       "mpl.figure.prototype._canvas_extra_style = function(canvas_div) {\n",
       "\n",
       "}\n",
       "\n",
       "\n",
       "mpl.figure.prototype._root_extra_style = function(canvas_div) {\n",
       "\n",
       "}\n",
       "\n",
       "mpl.figure.prototype._init_canvas = function() {\n",
       "    var fig = this;\n",
       "\n",
       "    var canvas_div = $('<div/>');\n",
       "\n",
       "    canvas_div.attr('style', 'position: relative; clear: both; outline: 0');\n",
       "\n",
       "    function canvas_keyboard_event(event) {\n",
       "        return fig.key_event(event, event['data']);\n",
       "    }\n",
       "\n",
       "    canvas_div.keydown('key_press', canvas_keyboard_event);\n",
       "    canvas_div.keyup('key_release', canvas_keyboard_event);\n",
       "    this.canvas_div = canvas_div\n",
       "    this._canvas_extra_style(canvas_div)\n",
       "    this.root.append(canvas_div);\n",
       "\n",
       "    var canvas = $('<canvas/>');\n",
       "    canvas.addClass('mpl-canvas');\n",
       "    canvas.attr('style', \"left: 0; top: 0; z-index: 0; outline: 0\")\n",
       "\n",
       "    this.canvas = canvas[0];\n",
       "    this.context = canvas[0].getContext(\"2d\");\n",
       "\n",
       "    var backingStore = this.context.backingStorePixelRatio ||\n",
       "\tthis.context.webkitBackingStorePixelRatio ||\n",
       "\tthis.context.mozBackingStorePixelRatio ||\n",
       "\tthis.context.msBackingStorePixelRatio ||\n",
       "\tthis.context.oBackingStorePixelRatio ||\n",
       "\tthis.context.backingStorePixelRatio || 1;\n",
       "\n",
       "    mpl.ratio = (window.devicePixelRatio || 1) / backingStore;\n",
       "\n",
       "    var rubberband = $('<canvas/>');\n",
       "    rubberband.attr('style', \"position: absolute; left: 0; top: 0; z-index: 1;\")\n",
       "\n",
       "    var pass_mouse_events = true;\n",
       "\n",
       "    canvas_div.resizable({\n",
       "        start: function(event, ui) {\n",
       "            pass_mouse_events = false;\n",
       "        },\n",
       "        resize: function(event, ui) {\n",
       "            fig.request_resize(ui.size.width, ui.size.height);\n",
       "        },\n",
       "        stop: function(event, ui) {\n",
       "            pass_mouse_events = true;\n",
       "            fig.request_resize(ui.size.width, ui.size.height);\n",
       "        },\n",
       "    });\n",
       "\n",
       "    function mouse_event_fn(event) {\n",
       "        if (pass_mouse_events)\n",
       "            return fig.mouse_event(event, event['data']);\n",
       "    }\n",
       "\n",
       "    rubberband.mousedown('button_press', mouse_event_fn);\n",
       "    rubberband.mouseup('button_release', mouse_event_fn);\n",
       "    // Throttle sequential mouse events to 1 every 20ms.\n",
       "    rubberband.mousemove('motion_notify', mouse_event_fn);\n",
       "\n",
       "    rubberband.mouseenter('figure_enter', mouse_event_fn);\n",
       "    rubberband.mouseleave('figure_leave', mouse_event_fn);\n",
       "\n",
       "    canvas_div.on(\"wheel\", function (event) {\n",
       "        event = event.originalEvent;\n",
       "        event['data'] = 'scroll'\n",
       "        if (event.deltaY < 0) {\n",
       "            event.step = 1;\n",
       "        } else {\n",
       "            event.step = -1;\n",
       "        }\n",
       "        mouse_event_fn(event);\n",
       "    });\n",
       "\n",
       "    canvas_div.append(canvas);\n",
       "    canvas_div.append(rubberband);\n",
       "\n",
       "    this.rubberband = rubberband;\n",
       "    this.rubberband_canvas = rubberband[0];\n",
       "    this.rubberband_context = rubberband[0].getContext(\"2d\");\n",
       "    this.rubberband_context.strokeStyle = \"#000000\";\n",
       "\n",
       "    this._resize_canvas = function(width, height) {\n",
       "        // Keep the size of the canvas, canvas container, and rubber band\n",
       "        // canvas in synch.\n",
       "        canvas_div.css('width', width)\n",
       "        canvas_div.css('height', height)\n",
       "\n",
       "        canvas.attr('width', width * mpl.ratio);\n",
       "        canvas.attr('height', height * mpl.ratio);\n",
       "        canvas.attr('style', 'width: ' + width + 'px; height: ' + height + 'px;');\n",
       "\n",
       "        rubberband.attr('width', width);\n",
       "        rubberband.attr('height', height);\n",
       "    }\n",
       "\n",
       "    // Set the figure to an initial 600x600px, this will subsequently be updated\n",
       "    // upon first draw.\n",
       "    this._resize_canvas(600, 600);\n",
       "\n",
       "    // Disable right mouse context menu.\n",
       "    $(this.rubberband_canvas).bind(\"contextmenu\",function(e){\n",
       "        return false;\n",
       "    });\n",
       "\n",
       "    function set_focus () {\n",
       "        canvas.focus();\n",
       "        canvas_div.focus();\n",
       "    }\n",
       "\n",
       "    window.setTimeout(set_focus, 100);\n",
       "}\n",
       "\n",
       "mpl.figure.prototype._init_toolbar = function() {\n",
       "    var fig = this;\n",
       "\n",
       "    var nav_element = $('<div/>')\n",
       "    nav_element.attr('style', 'width: 100%');\n",
       "    this.root.append(nav_element);\n",
       "\n",
       "    // Define a callback function for later on.\n",
       "    function toolbar_event(event) {\n",
       "        return fig.toolbar_button_onclick(event['data']);\n",
       "    }\n",
       "    function toolbar_mouse_event(event) {\n",
       "        return fig.toolbar_button_onmouseover(event['data']);\n",
       "    }\n",
       "\n",
       "    for(var toolbar_ind in mpl.toolbar_items) {\n",
       "        var name = mpl.toolbar_items[toolbar_ind][0];\n",
       "        var tooltip = mpl.toolbar_items[toolbar_ind][1];\n",
       "        var image = mpl.toolbar_items[toolbar_ind][2];\n",
       "        var method_name = mpl.toolbar_items[toolbar_ind][3];\n",
       "\n",
       "        if (!name) {\n",
       "            // put a spacer in here.\n",
       "            continue;\n",
       "        }\n",
       "        var button = $('<button/>');\n",
       "        button.addClass('ui-button ui-widget ui-state-default ui-corner-all ' +\n",
       "                        'ui-button-icon-only');\n",
       "        button.attr('role', 'button');\n",
       "        button.attr('aria-disabled', 'false');\n",
       "        button.click(method_name, toolbar_event);\n",
       "        button.mouseover(tooltip, toolbar_mouse_event);\n",
       "\n",
       "        var icon_img = $('<span/>');\n",
       "        icon_img.addClass('ui-button-icon-primary ui-icon');\n",
       "        icon_img.addClass(image);\n",
       "        icon_img.addClass('ui-corner-all');\n",
       "\n",
       "        var tooltip_span = $('<span/>');\n",
       "        tooltip_span.addClass('ui-button-text');\n",
       "        tooltip_span.html(tooltip);\n",
       "\n",
       "        button.append(icon_img);\n",
       "        button.append(tooltip_span);\n",
       "\n",
       "        nav_element.append(button);\n",
       "    }\n",
       "\n",
       "    var fmt_picker_span = $('<span/>');\n",
       "\n",
       "    var fmt_picker = $('<select/>');\n",
       "    fmt_picker.addClass('mpl-toolbar-option ui-widget ui-widget-content');\n",
       "    fmt_picker_span.append(fmt_picker);\n",
       "    nav_element.append(fmt_picker_span);\n",
       "    this.format_dropdown = fmt_picker[0];\n",
       "\n",
       "    for (var ind in mpl.extensions) {\n",
       "        var fmt = mpl.extensions[ind];\n",
       "        var option = $(\n",
       "            '<option/>', {selected: fmt === mpl.default_extension}).html(fmt);\n",
       "        fmt_picker.append(option)\n",
       "    }\n",
       "\n",
       "    // Add hover states to the ui-buttons\n",
       "    $( \".ui-button\" ).hover(\n",
       "        function() { $(this).addClass(\"ui-state-hover\");},\n",
       "        function() { $(this).removeClass(\"ui-state-hover\");}\n",
       "    );\n",
       "\n",
       "    var status_bar = $('<span class=\"mpl-message\"/>');\n",
       "    nav_element.append(status_bar);\n",
       "    this.message = status_bar[0];\n",
       "}\n",
       "\n",
       "mpl.figure.prototype.request_resize = function(x_pixels, y_pixels) {\n",
       "    // Request matplotlib to resize the figure. Matplotlib will then trigger a resize in the client,\n",
       "    // which will in turn request a refresh of the image.\n",
       "    this.send_message('resize', {'width': x_pixels, 'height': y_pixels});\n",
       "}\n",
       "\n",
       "mpl.figure.prototype.send_message = function(type, properties) {\n",
       "    properties['type'] = type;\n",
       "    properties['figure_id'] = this.id;\n",
       "    this.ws.send(JSON.stringify(properties));\n",
       "}\n",
       "\n",
       "mpl.figure.prototype.send_draw_message = function() {\n",
       "    if (!this.waiting) {\n",
       "        this.waiting = true;\n",
       "        this.ws.send(JSON.stringify({type: \"draw\", figure_id: this.id}));\n",
       "    }\n",
       "}\n",
       "\n",
       "\n",
       "mpl.figure.prototype.handle_save = function(fig, msg) {\n",
       "    var format_dropdown = fig.format_dropdown;\n",
       "    var format = format_dropdown.options[format_dropdown.selectedIndex].value;\n",
       "    fig.ondownload(fig, format);\n",
       "}\n",
       "\n",
       "\n",
       "mpl.figure.prototype.handle_resize = function(fig, msg) {\n",
       "    var size = msg['size'];\n",
       "    if (size[0] != fig.canvas.width || size[1] != fig.canvas.height) {\n",
       "        fig._resize_canvas(size[0], size[1]);\n",
       "        fig.send_message(\"refresh\", {});\n",
       "    };\n",
       "}\n",
       "\n",
       "mpl.figure.prototype.handle_rubberband = function(fig, msg) {\n",
       "    var x0 = msg['x0'] / mpl.ratio;\n",
       "    var y0 = (fig.canvas.height - msg['y0']) / mpl.ratio;\n",
       "    var x1 = msg['x1'] / mpl.ratio;\n",
       "    var y1 = (fig.canvas.height - msg['y1']) / mpl.ratio;\n",
       "    x0 = Math.floor(x0) + 0.5;\n",
       "    y0 = Math.floor(y0) + 0.5;\n",
       "    x1 = Math.floor(x1) + 0.5;\n",
       "    y1 = Math.floor(y1) + 0.5;\n",
       "    var min_x = Math.min(x0, x1);\n",
       "    var min_y = Math.min(y0, y1);\n",
       "    var width = Math.abs(x1 - x0);\n",
       "    var height = Math.abs(y1 - y0);\n",
       "\n",
       "    fig.rubberband_context.clearRect(\n",
       "        0, 0, fig.canvas.width, fig.canvas.height);\n",
       "\n",
       "    fig.rubberband_context.strokeRect(min_x, min_y, width, height);\n",
       "}\n",
       "\n",
       "mpl.figure.prototype.handle_figure_label = function(fig, msg) {\n",
       "    // Updates the figure title.\n",
       "    fig.header.textContent = msg['label'];\n",
       "}\n",
       "\n",
       "mpl.figure.prototype.handle_cursor = function(fig, msg) {\n",
       "    var cursor = msg['cursor'];\n",
       "    switch(cursor)\n",
       "    {\n",
       "    case 0:\n",
       "        cursor = 'pointer';\n",
       "        break;\n",
       "    case 1:\n",
       "        cursor = 'default';\n",
       "        break;\n",
       "    case 2:\n",
       "        cursor = 'crosshair';\n",
       "        break;\n",
       "    case 3:\n",
       "        cursor = 'move';\n",
       "        break;\n",
       "    }\n",
       "    fig.rubberband_canvas.style.cursor = cursor;\n",
       "}\n",
       "\n",
       "mpl.figure.prototype.handle_message = function(fig, msg) {\n",
       "    fig.message.textContent = msg['message'];\n",
       "}\n",
       "\n",
       "mpl.figure.prototype.handle_draw = function(fig, msg) {\n",
       "    // Request the server to send over a new figure.\n",
       "    fig.send_draw_message();\n",
       "}\n",
       "\n",
       "mpl.figure.prototype.handle_image_mode = function(fig, msg) {\n",
       "    fig.image_mode = msg['mode'];\n",
       "}\n",
       "\n",
       "mpl.figure.prototype.updated_canvas_event = function() {\n",
       "    // Called whenever the canvas gets updated.\n",
       "    this.send_message(\"ack\", {});\n",
       "}\n",
       "\n",
       "// A function to construct a web socket function for onmessage handling.\n",
       "// Called in the figure constructor.\n",
       "mpl.figure.prototype._make_on_message_function = function(fig) {\n",
       "    return function socket_on_message(evt) {\n",
       "        if (evt.data instanceof Blob) {\n",
       "            /* FIXME: We get \"Resource interpreted as Image but\n",
       "             * transferred with MIME type text/plain:\" errors on\n",
       "             * Chrome.  But how to set the MIME type?  It doesn't seem\n",
       "             * to be part of the websocket stream */\n",
       "            evt.data.type = \"image/png\";\n",
       "\n",
       "            /* Free the memory for the previous frames */\n",
       "            if (fig.imageObj.src) {\n",
       "                (window.URL || window.webkitURL).revokeObjectURL(\n",
       "                    fig.imageObj.src);\n",
       "            }\n",
       "\n",
       "            fig.imageObj.src = (window.URL || window.webkitURL).createObjectURL(\n",
       "                evt.data);\n",
       "            fig.updated_canvas_event();\n",
       "            fig.waiting = false;\n",
       "            return;\n",
       "        }\n",
       "        else if (typeof evt.data === 'string' && evt.data.slice(0, 21) == \"data:image/png;base64\") {\n",
       "            fig.imageObj.src = evt.data;\n",
       "            fig.updated_canvas_event();\n",
       "            fig.waiting = false;\n",
       "            return;\n",
       "        }\n",
       "\n",
       "        var msg = JSON.parse(evt.data);\n",
       "        var msg_type = msg['type'];\n",
       "\n",
       "        // Call the  \"handle_{type}\" callback, which takes\n",
       "        // the figure and JSON message as its only arguments.\n",
       "        try {\n",
       "            var callback = fig[\"handle_\" + msg_type];\n",
       "        } catch (e) {\n",
       "            console.log(\"No handler for the '\" + msg_type + \"' message type: \", msg);\n",
       "            return;\n",
       "        }\n",
       "\n",
       "        if (callback) {\n",
       "            try {\n",
       "                // console.log(\"Handling '\" + msg_type + \"' message: \", msg);\n",
       "                callback(fig, msg);\n",
       "            } catch (e) {\n",
       "                console.log(\"Exception inside the 'handler_\" + msg_type + \"' callback:\", e, e.stack, msg);\n",
       "            }\n",
       "        }\n",
       "    };\n",
       "}\n",
       "\n",
       "// from http://stackoverflow.com/questions/1114465/getting-mouse-location-in-canvas\n",
       "mpl.findpos = function(e) {\n",
       "    //this section is from http://www.quirksmode.org/js/events_properties.html\n",
       "    var targ;\n",
       "    if (!e)\n",
       "        e = window.event;\n",
       "    if (e.target)\n",
       "        targ = e.target;\n",
       "    else if (e.srcElement)\n",
       "        targ = e.srcElement;\n",
       "    if (targ.nodeType == 3) // defeat Safari bug\n",
       "        targ = targ.parentNode;\n",
       "\n",
       "    // jQuery normalizes the pageX and pageY\n",
       "    // pageX,Y are the mouse positions relative to the document\n",
       "    // offset() returns the position of the element relative to the document\n",
       "    var x = e.pageX - $(targ).offset().left;\n",
       "    var y = e.pageY - $(targ).offset().top;\n",
       "\n",
       "    return {\"x\": x, \"y\": y};\n",
       "};\n",
       "\n",
       "/*\n",
       " * return a copy of an object with only non-object keys\n",
       " * we need this to avoid circular references\n",
       " * http://stackoverflow.com/a/24161582/3208463\n",
       " */\n",
       "function simpleKeys (original) {\n",
       "  return Object.keys(original).reduce(function (obj, key) {\n",
       "    if (typeof original[key] !== 'object')\n",
       "        obj[key] = original[key]\n",
       "    return obj;\n",
       "  }, {});\n",
       "}\n",
       "\n",
       "mpl.figure.prototype.mouse_event = function(event, name) {\n",
       "    var canvas_pos = mpl.findpos(event)\n",
       "\n",
       "    if (name === 'button_press')\n",
       "    {\n",
       "        this.canvas.focus();\n",
       "        this.canvas_div.focus();\n",
       "    }\n",
       "\n",
       "    var x = canvas_pos.x * mpl.ratio;\n",
       "    var y = canvas_pos.y * mpl.ratio;\n",
       "\n",
       "    this.send_message(name, {x: x, y: y, button: event.button,\n",
       "                             step: event.step,\n",
       "                             guiEvent: simpleKeys(event)});\n",
       "\n",
       "    /* This prevents the web browser from automatically changing to\n",
       "     * the text insertion cursor when the button is pressed.  We want\n",
       "     * to control all of the cursor setting manually through the\n",
       "     * 'cursor' event from matplotlib */\n",
       "    event.preventDefault();\n",
       "    return false;\n",
       "}\n",
       "\n",
       "mpl.figure.prototype._key_event_extra = function(event, name) {\n",
       "    // Handle any extra behaviour associated with a key event\n",
       "}\n",
       "\n",
       "mpl.figure.prototype.key_event = function(event, name) {\n",
       "\n",
       "    // Prevent repeat events\n",
       "    if (name == 'key_press')\n",
       "    {\n",
       "        if (event.which === this._key)\n",
       "            return;\n",
       "        else\n",
       "            this._key = event.which;\n",
       "    }\n",
       "    if (name == 'key_release')\n",
       "        this._key = null;\n",
       "\n",
       "    var value = '';\n",
       "    if (event.ctrlKey && event.which != 17)\n",
       "        value += \"ctrl+\";\n",
       "    if (event.altKey && event.which != 18)\n",
       "        value += \"alt+\";\n",
       "    if (event.shiftKey && event.which != 16)\n",
       "        value += \"shift+\";\n",
       "\n",
       "    value += 'k';\n",
       "    value += event.which.toString();\n",
       "\n",
       "    this._key_event_extra(event, name);\n",
       "\n",
       "    this.send_message(name, {key: value,\n",
       "                             guiEvent: simpleKeys(event)});\n",
       "    return false;\n",
       "}\n",
       "\n",
       "mpl.figure.prototype.toolbar_button_onclick = function(name) {\n",
       "    if (name == 'download') {\n",
       "        this.handle_save(this, null);\n",
       "    } else {\n",
       "        this.send_message(\"toolbar_button\", {name: name});\n",
       "    }\n",
       "};\n",
       "\n",
       "mpl.figure.prototype.toolbar_button_onmouseover = function(tooltip) {\n",
       "    this.message.textContent = tooltip;\n",
       "};\n",
       "mpl.toolbar_items = [[\"Home\", \"Reset original view\", \"fa fa-home icon-home\", \"home\"], [\"Back\", \"Back to previous view\", \"fa fa-arrow-left icon-arrow-left\", \"back\"], [\"Forward\", \"Forward to next view\", \"fa fa-arrow-right icon-arrow-right\", \"forward\"], [\"\", \"\", \"\", \"\"], [\"Pan\", \"Pan axes with left mouse, zoom with right\", \"fa fa-arrows icon-move\", \"pan\"], [\"Zoom\", \"Zoom to rectangle\", \"fa fa-square-o icon-check-empty\", \"zoom\"], [\"\", \"\", \"\", \"\"], [\"Download\", \"Download plot\", \"fa fa-floppy-o icon-save\", \"download\"]];\n",
       "\n",
       "mpl.extensions = [\"eps\", \"pdf\", \"png\", \"ps\", \"raw\", \"svg\"];\n",
       "\n",
       "mpl.default_extension = \"png\";var comm_websocket_adapter = function(comm) {\n",
       "    // Create a \"websocket\"-like object which calls the given IPython comm\n",
       "    // object with the appropriate methods. Currently this is a non binary\n",
       "    // socket, so there is still some room for performance tuning.\n",
       "    var ws = {};\n",
       "\n",
       "    ws.close = function() {\n",
       "        comm.close()\n",
       "    };\n",
       "    ws.send = function(m) {\n",
       "        //console.log('sending', m);\n",
       "        comm.send(m);\n",
       "    };\n",
       "    // Register the callback with on_msg.\n",
       "    comm.on_msg(function(msg) {\n",
       "        //console.log('receiving', msg['content']['data'], msg);\n",
       "        // Pass the mpl event to the overridden (by mpl) onmessage function.\n",
       "        ws.onmessage(msg['content']['data'])\n",
       "    });\n",
       "    return ws;\n",
       "}\n",
       "\n",
       "mpl.mpl_figure_comm = function(comm, msg) {\n",
       "    // This is the function which gets called when the mpl process\n",
       "    // starts-up an IPython Comm through the \"matplotlib\" channel.\n",
       "\n",
       "    var id = msg.content.data.id;\n",
       "    // Get hold of the div created by the display call when the Comm\n",
       "    // socket was opened in Python.\n",
       "    var element = $(\"#\" + id);\n",
       "    var ws_proxy = comm_websocket_adapter(comm)\n",
       "\n",
       "    function ondownload(figure, format) {\n",
       "        window.open(figure.imageObj.src);\n",
       "    }\n",
       "\n",
       "    var fig = new mpl.figure(id, ws_proxy,\n",
       "                           ondownload,\n",
       "                           element.get(0));\n",
       "\n",
       "    // Call onopen now - mpl needs it, as it is assuming we've passed it a real\n",
       "    // web socket which is closed, not our websocket->open comm proxy.\n",
       "    ws_proxy.onopen();\n",
       "\n",
       "    fig.parent_element = element.get(0);\n",
       "    fig.cell_info = mpl.find_output_cell(\"<div id='\" + id + \"'></div>\");\n",
       "    if (!fig.cell_info) {\n",
       "        console.error(\"Failed to find cell for figure\", id, fig);\n",
       "        return;\n",
       "    }\n",
       "\n",
       "    var output_index = fig.cell_info[2]\n",
       "    var cell = fig.cell_info[0];\n",
       "\n",
       "};\n",
       "\n",
       "mpl.figure.prototype.handle_close = function(fig, msg) {\n",
       "    var width = fig.canvas.width/mpl.ratio\n",
       "    fig.root.unbind('remove')\n",
       "\n",
       "    // Update the output cell to use the data from the current canvas.\n",
       "    fig.push_to_output();\n",
       "    var dataURL = fig.canvas.toDataURL();\n",
       "    // Re-enable the keyboard manager in IPython - without this line, in FF,\n",
       "    // the notebook keyboard shortcuts fail.\n",
       "    IPython.keyboard_manager.enable()\n",
       "    $(fig.parent_element).html('<img src=\"' + dataURL + '\" width=\"' + width + '\">');\n",
       "    fig.close_ws(fig, msg);\n",
       "}\n",
       "\n",
       "mpl.figure.prototype.close_ws = function(fig, msg){\n",
       "    fig.send_message('closing', msg);\n",
       "    // fig.ws.close()\n",
       "}\n",
       "\n",
       "mpl.figure.prototype.push_to_output = function(remove_interactive) {\n",
       "    // Turn the data on the canvas into data in the output cell.\n",
       "    var width = this.canvas.width/mpl.ratio\n",
       "    var dataURL = this.canvas.toDataURL();\n",
       "    this.cell_info[1]['text/html'] = '<img src=\"' + dataURL + '\" width=\"' + width + '\">';\n",
       "}\n",
       "\n",
       "mpl.figure.prototype.updated_canvas_event = function() {\n",
       "    // Tell IPython that the notebook contents must change.\n",
       "    IPython.notebook.set_dirty(true);\n",
       "    this.send_message(\"ack\", {});\n",
       "    var fig = this;\n",
       "    // Wait a second, then push the new image to the DOM so\n",
       "    // that it is saved nicely (might be nice to debounce this).\n",
       "    setTimeout(function () { fig.push_to_output() }, 1000);\n",
       "}\n",
       "\n",
       "mpl.figure.prototype._init_toolbar = function() {\n",
       "    var fig = this;\n",
       "\n",
       "    var nav_element = $('<div/>')\n",
       "    nav_element.attr('style', 'width: 100%');\n",
       "    this.root.append(nav_element);\n",
       "\n",
       "    // Define a callback function for later on.\n",
       "    function toolbar_event(event) {\n",
       "        return fig.toolbar_button_onclick(event['data']);\n",
       "    }\n",
       "    function toolbar_mouse_event(event) {\n",
       "        return fig.toolbar_button_onmouseover(event['data']);\n",
       "    }\n",
       "\n",
       "    for(var toolbar_ind in mpl.toolbar_items){\n",
       "        var name = mpl.toolbar_items[toolbar_ind][0];\n",
       "        var tooltip = mpl.toolbar_items[toolbar_ind][1];\n",
       "        var image = mpl.toolbar_items[toolbar_ind][2];\n",
       "        var method_name = mpl.toolbar_items[toolbar_ind][3];\n",
       "\n",
       "        if (!name) { continue; };\n",
       "\n",
       "        var button = $('<button class=\"btn btn-default\" href=\"#\" title=\"' + name + '\"><i class=\"fa ' + image + ' fa-lg\"></i></button>');\n",
       "        button.click(method_name, toolbar_event);\n",
       "        button.mouseover(tooltip, toolbar_mouse_event);\n",
       "        nav_element.append(button);\n",
       "    }\n",
       "\n",
       "    // Add the status bar.\n",
       "    var status_bar = $('<span class=\"mpl-message\" style=\"text-align:right; float: right;\"/>');\n",
       "    nav_element.append(status_bar);\n",
       "    this.message = status_bar[0];\n",
       "\n",
       "    // Add the close button to the window.\n",
       "    var buttongrp = $('<div class=\"btn-group inline pull-right\"></div>');\n",
       "    var button = $('<button class=\"btn btn-mini btn-primary\" href=\"#\" title=\"Stop Interaction\"><i class=\"fa fa-power-off icon-remove icon-large\"></i></button>');\n",
       "    button.click(function (evt) { fig.handle_close(fig, {}); } );\n",
       "    button.mouseover('Stop Interaction', toolbar_mouse_event);\n",
       "    buttongrp.append(button);\n",
       "    var titlebar = this.root.find($('.ui-dialog-titlebar'));\n",
       "    titlebar.prepend(buttongrp);\n",
       "}\n",
       "\n",
       "mpl.figure.prototype._root_extra_style = function(el){\n",
       "    var fig = this\n",
       "    el.on(\"remove\", function(){\n",
       "\tfig.close_ws(fig, {});\n",
       "    });\n",
       "}\n",
       "\n",
       "mpl.figure.prototype._canvas_extra_style = function(el){\n",
       "    // this is important to make the div 'focusable\n",
       "    el.attr('tabindex', 0)\n",
       "    // reach out to IPython and tell the keyboard manager to turn it's self\n",
       "    // off when our div gets focus\n",
       "\n",
       "    // location in version 3\n",
       "    if (IPython.notebook.keyboard_manager) {\n",
       "        IPython.notebook.keyboard_manager.register_events(el);\n",
       "    }\n",
       "    else {\n",
       "        // location in version 2\n",
       "        IPython.keyboard_manager.register_events(el);\n",
       "    }\n",
       "\n",
       "}\n",
       "\n",
       "mpl.figure.prototype._key_event_extra = function(event, name) {\n",
       "    var manager = IPython.notebook.keyboard_manager;\n",
       "    if (!manager)\n",
       "        manager = IPython.keyboard_manager;\n",
       "\n",
       "    // Check for shift+enter\n",
       "    if (event.shiftKey && event.which == 13) {\n",
       "        this.canvas_div.blur();\n",
       "        event.shiftKey = false;\n",
       "        // Send a \"J\" for go to next cell\n",
       "        event.which = 74;\n",
       "        event.keyCode = 74;\n",
       "        manager.command_mode();\n",
       "        manager.handle_keydown(event);\n",
       "    }\n",
       "}\n",
       "\n",
       "mpl.figure.prototype.handle_save = function(fig, msg) {\n",
       "    fig.ondownload(fig, null);\n",
       "}\n",
       "\n",
       "\n",
       "mpl.find_output_cell = function(html_output) {\n",
       "    // Return the cell and output element which can be found *uniquely* in the notebook.\n",
       "    // Note - this is a bit hacky, but it is done because the \"notebook_saving.Notebook\"\n",
       "    // IPython event is triggered only after the cells have been serialised, which for\n",
       "    // our purposes (turning an active figure into a static one), is too late.\n",
       "    var cells = IPython.notebook.get_cells();\n",
       "    var ncells = cells.length;\n",
       "    for (var i=0; i<ncells; i++) {\n",
       "        var cell = cells[i];\n",
       "        if (cell.cell_type === 'code'){\n",
       "            for (var j=0; j<cell.output_area.outputs.length; j++) {\n",
       "                var data = cell.output_area.outputs[j];\n",
       "                if (data.data) {\n",
       "                    // IPython >= 3 moved mimebundle to data attribute of output\n",
       "                    data = data.data;\n",
       "                }\n",
       "                if (data['text/html'] == html_output) {\n",
       "                    return [cell, data, j];\n",
       "                }\n",
       "            }\n",
       "        }\n",
       "    }\n",
       "}\n",
       "\n",
       "// Register the function which deals with the matplotlib target/channel.\n",
       "// The kernel may be null if the page has been refreshed.\n",
       "if (IPython.notebook.kernel != null) {\n",
       "    IPython.notebook.kernel.comm_manager.register_target('matplotlib', mpl.mpl_figure_comm);\n",
       "}\n"
      ],
      "text/plain": [
       "<IPython.core.display.Javascript object>"
      ]
     },
     "metadata": {},
     "output_type": "display_data"
    },
    {
     "data": {
      "text/html": [
       "<img src=\"data:image/png;base64,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\" width=\"600\">"
      ],
      "text/plain": [
       "<IPython.core.display.HTML object>"
      ]
     },
     "metadata": {},
     "output_type": "display_data"
    },
    {
     "data": {
      "text/plain": [
       "<seaborn.axisgrid.JointGrid at 0x7f4e3fd55ef0>"
      ]
     },
     "execution_count": 202,
     "metadata": {},
     "output_type": "execute_result"
    }
   ],
   "source": [
    "sns.jointplot(x3,y3)"
   ]
  },
  {
   "cell_type": "code",
   "execution_count": null,
   "metadata": {},
   "outputs": [],
   "source": []
  }
 ],
 "metadata": {
  "kernelspec": {
   "display_name": "Python 3",
   "language": "python",
   "name": "python3"
  },
  "language_info": {
   "codemirror_mode": {
    "name": "ipython",
    "version": 3
   },
   "file_extension": ".py",
   "mimetype": "text/x-python",
   "name": "python",
   "nbconvert_exporter": "python",
   "pygments_lexer": "ipython3",
   "version": "3.7.1"
  }
 },
 "nbformat": 4,
 "nbformat_minor": 2
}
