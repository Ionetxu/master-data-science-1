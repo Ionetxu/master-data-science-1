{
 "cells": [
  {
   "cell_type": "markdown",
   "metadata": {},
   "source": [
    "# Introducción a la modelización\n",
    "\n",
    "J. A. Rodríguez Serrano, KSchool\n",
    "\n",
    "\n",
    "## Objetivos\n",
    "\n",
    "* Tener una introducción a la manera de pensar cuantitativa para resolver problemas de negocio, y ver ejemplos   \n",
    "* Entender qué es un modelo y saber distinguir estrategias para ayuda de toma de decisiones basadas en criterios manuales y basadas en modelos. Ejercitar esto con ejemplos de problemas variados. \n",
    "* Familiarizarse con el vocabulario y conceptos que aparecerán en futuras clases de técnicas más específicas.\n",
    "\n",
    "\n",
    "## Suposiciones\n",
    "\n",
    "* Alumnos hasta ahora han tocado programación y manipulación de datos\n",
    "* Orientado a ejemlos prácticos\n",
    "\n",
    "## Disclaimer\n",
    "\n",
    "* Estos notebooks son de apoyo a la clase, tened en cuenta que puede haber contenido de clase como explicaciones de pizarra o ejercicio, por tanto el notebook no es un \"log\" completo de la clase (aunque sí de una gran parte). \n",
    "\n",
    "\n",
    "# Qué es y qué no es un modelo\n",
    "\n",
    "**La filosofía: decisiones orientadas a datos**\n",
    "\n",
    "Uno de los propósitos de la ciencia de datos es ofrecer metodologías para ayudar a los negocios a tomar mejores decisiones automáticas a partir de datos. Esto puede suceder de varias maneras\n",
    "\n",
    "* Tomando una decisión humana pero informada por datos\n",
    "* Programando un sistema para que tome una decisión automática \"estática\". \n",
    "* Programando un sistema para que tome una decisión automática, y además la propia acción que se toma está derivada del dato. \n",
    "\n",
    "Nos interesa la 3a, donde está la clave de la modelización. Pero vamos a ver rápidamente todas. \n",
    "\n",
    "\n",
    "## Analítica descriptiva: Estar \"informados\" para tomar decisiones \n",
    "\n",
    "A veces, el simple hecho de capturar datos sobre un proceso de negocios, visualizarlos, y cuantificar cantidades de interés permite entender mejor el impacto de las decisiones. O ahorrar tiempo. Esto se conoce como *analítica descriptiva*.\n",
    "\n",
    "Por ejemplo, consideremos una serie con el número de pedidos de diferentes productos a una empresa. Usaremos como ejemplo la serie \"Daily Demand Forecasting\" del repositorio UCI. "
   ]
  },
  {
   "cell_type": "code",
   "execution_count": 1,
   "metadata": {},
   "outputs": [
    {
     "data": {
      "text/html": [
       "<div>\n",
       "<style scoped>\n",
       "    .dataframe tbody tr th:only-of-type {\n",
       "        vertical-align: middle;\n",
       "    }\n",
       "\n",
       "    .dataframe tbody tr th {\n",
       "        vertical-align: top;\n",
       "    }\n",
       "\n",
       "    .dataframe thead th {\n",
       "        text-align: right;\n",
       "    }\n",
       "</style>\n",
       "<table border=\"1\" class=\"dataframe\">\n",
       "  <thead>\n",
       "    <tr style=\"text-align: right;\">\n",
       "      <th></th>\n",
       "      <th>week</th>\n",
       "      <th>day</th>\n",
       "      <th>urgent</th>\n",
       "      <th>nonurgent</th>\n",
       "      <th>A</th>\n",
       "      <th>B</th>\n",
       "      <th>C</th>\n",
       "      <th>fiscal</th>\n",
       "      <th>traffic</th>\n",
       "      <th>bank1</th>\n",
       "      <th>bank2</th>\n",
       "      <th>bank3</th>\n",
       "      <th>total</th>\n",
       "    </tr>\n",
       "  </thead>\n",
       "  <tbody>\n",
       "    <tr>\n",
       "      <th>0</th>\n",
       "      <td>1</td>\n",
       "      <td>4</td>\n",
       "      <td>316307</td>\n",
       "      <td>223270</td>\n",
       "      <td>61543</td>\n",
       "      <td>175586</td>\n",
       "      <td>302448</td>\n",
       "      <td>0</td>\n",
       "      <td>65556</td>\n",
       "      <td>44914</td>\n",
       "      <td>188411</td>\n",
       "      <td>14793</td>\n",
       "      <td>539577</td>\n",
       "    </tr>\n",
       "    <tr>\n",
       "      <th>1</th>\n",
       "      <td>1</td>\n",
       "      <td>5</td>\n",
       "      <td>128633</td>\n",
       "      <td>96042</td>\n",
       "      <td>38058</td>\n",
       "      <td>56037</td>\n",
       "      <td>130580</td>\n",
       "      <td>0</td>\n",
       "      <td>40419</td>\n",
       "      <td>21399</td>\n",
       "      <td>89461</td>\n",
       "      <td>7679</td>\n",
       "      <td>224675</td>\n",
       "    </tr>\n",
       "    <tr>\n",
       "      <th>2</th>\n",
       "      <td>1</td>\n",
       "      <td>6</td>\n",
       "      <td>43651</td>\n",
       "      <td>84375</td>\n",
       "      <td>21826</td>\n",
       "      <td>25125</td>\n",
       "      <td>82461</td>\n",
       "      <td>1386</td>\n",
       "      <td>11992</td>\n",
       "      <td>3452</td>\n",
       "      <td>21305</td>\n",
       "      <td>14947</td>\n",
       "      <td>129412</td>\n",
       "    </tr>\n",
       "    <tr>\n",
       "      <th>3</th>\n",
       "      <td>2</td>\n",
       "      <td>2</td>\n",
       "      <td>171297</td>\n",
       "      <td>127667</td>\n",
       "      <td>41542</td>\n",
       "      <td>113294</td>\n",
       "      <td>162284</td>\n",
       "      <td>18156</td>\n",
       "      <td>49971</td>\n",
       "      <td>33703</td>\n",
       "      <td>69054</td>\n",
       "      <td>18423</td>\n",
       "      <td>317120</td>\n",
       "    </tr>\n",
       "    <tr>\n",
       "      <th>4</th>\n",
       "      <td>2</td>\n",
       "      <td>3</td>\n",
       "      <td>90532</td>\n",
       "      <td>113526</td>\n",
       "      <td>37679</td>\n",
       "      <td>56618</td>\n",
       "      <td>116220</td>\n",
       "      <td>6459</td>\n",
       "      <td>48534</td>\n",
       "      <td>19646</td>\n",
       "      <td>16411</td>\n",
       "      <td>20257</td>\n",
       "      <td>210517</td>\n",
       "    </tr>\n",
       "  </tbody>\n",
       "</table>\n",
       "</div>"
      ],
      "text/plain": [
       "   week  day  urgent  nonurgent      A       B       C  fiscal  traffic  \\\n",
       "0     1    4  316307     223270  61543  175586  302448       0    65556   \n",
       "1     1    5  128633      96042  38058   56037  130580       0    40419   \n",
       "2     1    6   43651      84375  21826   25125   82461    1386    11992   \n",
       "3     2    2  171297     127667  41542  113294  162284   18156    49971   \n",
       "4     2    3   90532     113526  37679   56618  116220    6459    48534   \n",
       "\n",
       "   bank1   bank2  bank3   total  \n",
       "0  44914  188411  14793  539577  \n",
       "1  21399   89461   7679  224675  \n",
       "2   3452   21305  14947  129412  \n",
       "3  33703   69054  18423  317120  \n",
       "4  19646   16411  20257  210517  "
      ]
     },
     "execution_count": 1,
     "metadata": {},
     "output_type": "execute_result"
    }
   ],
   "source": [
    "import pandas as pd\n",
    "\n",
    "URL = \"https://archive.ics.uci.edu/ml/machine-learning-databases/00409/Daily_Demand_Forecasting_Orders.csv\"\n",
    "frm = pd.read_csv(URL, sep=\";\", thousands='.')\n",
    "frm.columns = ['week', 'day', 'urgent', 'nonurgent', 'A', 'B', 'C', 'fiscal', 'traffic', 'bank1', 'bank2', 'bank3', 'total' ]\n",
    "frm.head()"
   ]
  },
  {
   "cell_type": "markdown",
   "metadata": {},
   "source": [
    "Pintamos el número total de pedidos por día. "
   ]
  },
  {
   "cell_type": "code",
   "execution_count": 3,
   "metadata": {},
   "outputs": [
    {
     "data": {
      "image/png": "[encoded data removed]",
      "text/plain": [
       "<Figure size 432x288 with 1 Axes>"
      ]
     },
     "metadata": {
      "needs_background": "light"
     },
     "output_type": "display_data"
    }
   ],
   "source": [
    "# Rellenar por el estudiante\n",
    "import matplotlib.pyplot as plt\n",
    "plt.plot(frm[\"total\"])\n",
    "plt.show()"
   ]
  },
  {
   "cell_type": "markdown",
   "metadata": {},
   "source": [
    "¿Nos dice algo informativo esta gráfica? Podemos ver que algunos días tenemos pedidos inusualmente altos, pero poco más. ¿Quizás con una periodicidad? Agrupamos número de pedidos por día:"
   ]
  },
  {
   "cell_type": "code",
   "execution_count": 4,
   "metadata": {},
   "outputs": [
    {
     "data": {
      "text/html": [
       "<div>\n",
       "<style scoped>\n",
       "    .dataframe tbody tr th:only-of-type {\n",
       "        vertical-align: middle;\n",
       "    }\n",
       "\n",
       "    .dataframe tbody tr th {\n",
       "        vertical-align: top;\n",
       "    }\n",
       "\n",
       "    .dataframe thead th {\n",
       "        text-align: right;\n",
       "    }\n",
       "</style>\n",
       "<table border=\"1\" class=\"dataframe\">\n",
       "  <thead>\n",
       "    <tr style=\"text-align: right;\">\n",
       "      <th></th>\n",
       "      <th>total</th>\n",
       "    </tr>\n",
       "    <tr>\n",
       "      <th>day</th>\n",
       "      <th></th>\n",
       "    </tr>\n",
       "  </thead>\n",
       "  <tbody>\n",
       "    <tr>\n",
       "      <th>2</th>\n",
       "      <td>4292364</td>\n",
       "    </tr>\n",
       "    <tr>\n",
       "      <th>3</th>\n",
       "      <td>3647181</td>\n",
       "    </tr>\n",
       "    <tr>\n",
       "      <th>4</th>\n",
       "      <td>3665064</td>\n",
       "    </tr>\n",
       "    <tr>\n",
       "      <th>5</th>\n",
       "      <td>3287619</td>\n",
       "    </tr>\n",
       "    <tr>\n",
       "      <th>6</th>\n",
       "      <td>3160171</td>\n",
       "    </tr>\n",
       "  </tbody>\n",
       "</table>\n",
       "</div>"
      ],
      "text/plain": [
       "       total\n",
       "day         \n",
       "2    4292364\n",
       "3    3647181\n",
       "4    3665064\n",
       "5    3287619\n",
       "6    3160171"
      ]
     },
     "execution_count": 4,
     "metadata": {},
     "output_type": "execute_result"
    }
   ],
   "source": [
    "frm.groupby(\"day\").sum()[[\"total\"]]"
   ]
  },
  {
   "cell_type": "markdown",
   "metadata": {},
   "source": [
    "Podemos ver cómo el número total de pedidos por día es variable, pero que hay picos todos los lunes (2). Esta simple visualización o \"query\" nos permite decidir que podemos rellenar el stock los viernes para tener preparado todo el material. "
   ]
  },
  {
   "cell_type": "markdown",
   "metadata": {},
   "source": [
    "## Analítica con datos... pero sin modelos\n",
    "\n",
    "Imaginemos ahora que no sólo queremos estar informados o tener una idea general de los pedidos, sino seguir haciendo preguntas más complicadas y tener respuestas basadas en los datos.\n",
    "\n",
    "Por ejemplo: ¿qué días hemos tenido un número inusual de pedidos de tipo A? (Por ejemplo, queremos analizar qué pasó ese día de cara a entender qué ha funcionado, o planear el aprovisionamiento del año siguiente, o mandar una alerta). \n",
    "\n",
    "Visualizando la serie anterior, podemos tomar una regla y decir que un día es inusual si reciben más de 60.000 pedidos: "
   ]
  },
  {
   "cell_type": "code",
   "execution_count": 2,
   "metadata": {},
   "outputs": [],
   "source": [
    "# Rellenar por el estudiante"
   ]
  },
  {
   "cell_type": "markdown",
   "metadata": {},
   "source": [
    "Y luego, podemos aplicar esta regla en el futuro. Vamos a usar este ejemplo para ilustrar lo que es modelizar. O mejor, dicho lo que no es: hemos tomado una decisión con los datos, pero no con una metodología, sino por prueba y error. \n",
    "\n",
    "Esta manera de seleccionar un valor es arbitraria y plantea algunos problemas. \n",
    "\n",
    "Por ejemplo, si ahora añadirmos la serie de productos B, "
   ]
  },
  {
   "cell_type": "code",
   "execution_count": 3,
   "metadata": {},
   "outputs": [],
   "source": [
    "# Rellenar por el estudiante"
   ]
  },
  {
   "cell_type": "markdown",
   "metadata": {},
   "source": [
    "Según el criterio definido anteriormente, casi todos los días del producto B serían inusuales, porque están por encima del umbral que habíamos definido.  \n",
    "\n",
    "¿Qué ha fallado? Vamos a destacar 2 puntos:\n",
    "\n",
    "1. La regla para decidir si un valor de la demanda es inusual ha sido fijada a partir de los datos, pero manualmente por prueba y error. No ha sido *derivada* de los datos. En otra palabras, una vez definida, la regla es estática y no tiene capacidad de adaptarse a nuevos datos de la misma serie o de aplicarse a otras series. \n",
    "\n",
    "2. La regla no responde a un criterio que permite variarla razonadamente \n",
    "\n",
    "## Analítica con modelos\n",
    "\n",
    "Modelizar se podría definir justamente como añadir una metodología para derivar una decisión a partir de los datos. \n",
    "\n",
    "Vamos a ver un ejemplo de **modelización** para resolver los dos problemas mencionados en la sección anterior. \n",
    "\n",
    "Para atacar el punto 2, primero, necesitamos una definición de qué significa \"inusual\". En matemáticas, existen formas de definir que una cantidad es inusual. Una  es calcular la media ($\\mu$) y desviación estándar ($\\sigma$) de los valores observados, y comprobar si el nuevo valor está fuera del rango  $\\mu \\pm k*\\sigma$. Aquí $k$ es una constante y cuanto más alto, más inusual (pasamos rápido los detalles matemáticos: lo veremos en la clase de probabilidades). \n",
    "\n",
    "Definimos, pues, una función que toma un array de valores observados, un nuevo valor, y calcula $\\mu$ y $\\sigma$ y determina si un evento es inusual. "
   ]
  },
  {
   "cell_type": "code",
   "execution_count": 18,
   "metadata": {},
   "outputs": [],
   "source": [
    "def inusual(past, current, k=2.0):\n",
    "    \n",
    "    mu = np.mean(past)\n",
    "    sig = np.std(past)\n",
    "    \n",
    "    # Sólo nos interesan los inusuales por exceso\n",
    "    limit = k*sig + mu\n",
    "    if current > limit:\n",
    "        is_inusual = True\n",
    "    else:\n",
    "        is_inusual = False\n",
    "        \n",
    "    return is_inusual, limit"
   ]
  },
  {
   "cell_type": "markdown",
   "metadata": {},
   "source": [
    "Imaginamos que aplicamos esta función a la serie del producto A, a partir del punto T=20"
   ]
  },
  {
   "cell_type": "code",
   "execution_count": 4,
   "metadata": {},
   "outputs": [],
   "source": [
    "# Rellenar por el estudiante"
   ]
  },
  {
   "cell_type": "code",
   "execution_count": 20,
   "metadata": {},
   "outputs": [
    {
     "data": {
      "text/plain": [
       "array([False, False, False, False, False, False, False, False, False,\n",
       "       False, False, False, False, False, False, False, False, False,\n",
       "       False, False, False, False, False, False, False, False, False,\n",
       "       False, False, False, False, False, False, False, False, False,\n",
       "        True, False, False,  True, False, False, False, False, False,\n",
       "       False, False, False, False, False, False, False, False, False,\n",
       "       False, False, False, False, False,  True])"
      ]
     },
     "execution_count": 20,
     "metadata": {},
     "output_type": "execute_result"
    }
   ],
   "source": [
    "array_inusual"
   ]
  },
  {
   "cell_type": "code",
   "execution_count": 5,
   "metadata": {},
   "outputs": [],
   "source": [
    "# Rellenar por el estudiante"
   ]
  },
  {
   "cell_type": "markdown",
   "metadata": {},
   "source": [
    "Si ahora aplicamos el mismo razonamiento al producto B"
   ]
  },
  {
   "cell_type": "code",
   "execution_count": 24,
   "metadata": {},
   "outputs": [
    {
     "data": {
      "text/plain": [
       "<matplotlib.legend.Legend at 0x7f4836899cc0>"
      ]
     },
     "execution_count": 24,
     "metadata": {},
     "output_type": "execute_result"
    },
    {
     "data": {
      "image/png": "[encoded data removed]",
      "text/plain": [
       "<matplotlib.figure.Figure at 0x7f48368d8cf8>"
      ]
     },
     "metadata": {},
     "output_type": "display_data"
    }
   ],
   "source": [
    "for i in range(20, array_inusual.shape[0]):\n",
    "    \n",
    "    array_inusual[i], array_limit[i] = inusual(frm['B'].values[:i], frm['B'].values[i])\n",
    "    \n",
    "plt.plot(frm['B'])\n",
    "idx = np.where(array_inusual)[0]\n",
    "plt.plot(idx, frm['B'].values[array_inusual], 'o')\n",
    "plt.plot(range(20, T), array_limit[20:], '--')\n",
    "plt.xlabel('Day')\n",
    "plt.legend(['Demand of product B', 'Unusual points', 'Unusual demand threshold'])\n"
   ]
  },
  {
   "cell_type": "markdown",
   "metadata": {},
   "source": [
    "En este caso, no hemos tenido que ajustar nada a mano. A partir de una definición de \"inusual\" cuantitativa, y de datos, se obtiene una decisión automática (y variable) de si la demanda de un día es inusual o no. Esto tiene las siguientes ventajas: \n",
    "\n",
    "* Se adapta a los datos (para decidir inusual / no en una nueva serie, se usa el mismo procedimiento). \n",
    "* Mejora conforme más datos se tienen. \n",
    "* Para tomar la decisión, no se requieren todos los datos, sólo $\\mu$ y $\\sigma$ (ojo!aquí tal como se ha escrito, sí, para no complicar el código, pero existen maneras. Lo importante a retener es que para tomar una decisión, en general, no se necesitan todos los datos cada vez que se tiene que tomar la decisión. \n",
    "* En este caso, pasamos ha ajustar k (el grado de \"inusualidad\", algo controlable) y el procedimiento se encarga de traducirlo al valor que haga falta. \n",
    "\n",
    "Estos 4 puntos son puntos clave en la modelización. \n",
    "\n",
    "Pero entonces, ¿qué es un modelo? En esta clase, vamos a considerar que es el procedimiento que da capacidad para tomar decisiones automáticamente a partir de los datos. Tiene \n",
    "\n",
    "* Un proceso de ajuste, donde se procesan los datos históricos\n",
    "* Unos parámetros, que resumen el \"estado de la situación\" y cuyo valor se determina por el proceso de ajuste. \n",
    "* Un proceso de decisión, el cual usa los parámetros obtenidos para tomar decisiones en nuevos datos. \n",
    "\n",
    "Comentar que hay una suposicion de que nos fiamos del modelo estadístico (sí: los modelos también realizan unas suposiciones. En este caso, las suposiciones vienen dadas por la teoría de probabilidad. )"
   ]
  },
  {
   "cell_type": "markdown",
   "metadata": {},
   "source": [
    "En el anterior ejemplo, el proceso de ajuste determina la $\\mu$ y $\\sigma$, que son los parámetros. El proceso de decisión es la regla $\\mu + k*\\sigma > x$. \n",
    "\n",
    " \n",
    "\n",
    "## Take-home messages  \n",
    "\n",
    "* Se puede sacar valor de negocio sólo con datos (analítica descriptiva), por ejemplo tomar decisiones informadas. \n",
    "* Se pueden automatizar o asistir decisiones. Pero automatizar no implica modelar. \n",
    "* Modelizar es adoptar una metodología para automatizar la decisión basándonos en datos (en realidad también basándonos en suposiciones). Un modelo es una metodología concreta (hay muchas!)\n",
    "\n",
    "* Un modelo tiene (i) un proceso de ajuste del modelo, (ii) unos parámetros y (iii) un proceso de aplicación del modelo al nuevo dato. Los parámetros son toda la información que se necesita para aplicar el modelo. \n",
    "\n",
    "**Para más ejemplos de ciencia de datos, ver [The Data Jiujitsu](http://www.oreilly.com/data/free/data-jujitsu.csp)\n",
    ", de DJ Patil**. \n"
   ]
  }
 ],
 "metadata": {
  "kernelspec": {
   "display_name": "Python 3",
   "language": "python",
   "name": "python3"
  },
  "language_info": {
   "codemirror_mode": {
    "name": "ipython",
    "version": 3
   },
   "file_extension": ".py",
   "mimetype": "text/x-python",
   "name": "python",
   "nbconvert_exporter": "python",
   "pygments_lexer": "ipython3",
   "version": "3.7.1"
  }
 },
 "nbformat": 4,
 "nbformat_minor": 2
}
